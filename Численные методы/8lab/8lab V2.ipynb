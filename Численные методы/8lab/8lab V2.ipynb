{
 "cells": [
  {
   "cell_type": "markdown",
   "metadata": {},
   "source": [
    "<div align=\"right\"><h5>Гамов Павел Антонович</h5></div>"
   ]
  },
  {
   "cell_type": "markdown",
   "metadata": {},
   "source": [
    "<div align=\"right\"><h5>группа: M8О-407Б-18, №4 по списку</h5></div>"
   ]
  },
  {
   "cell_type": "markdown",
   "metadata": {},
   "source": [
    "<h1><center>Лабораторная работа №8</center></h1>"
   ]
  },
  {
   "cell_type": "markdown",
   "metadata": {},
   "source": [
    "***Задание:*** Используя схемы *переменных направлений* и *дробных шагов*, решить двумерную начально-краевую задачу для дифференциального *уравнения параболического типа*. В различные моменты времени вычислить погрешность численного решения путем сравнения результатов с приведенным в задании аналитическим решением $u(x, y, t)$. Исследовать зависимость погрешности от сеточных параметров $\\tau$ и $h_x$, $h_y$."
   ]
  },
  {
   "cell_type": "markdown",
   "metadata": {},
   "source": [
    "### <center> Вариант №4 </center>"
   ]
  },
  {
   "cell_type": "code",
   "execution_count": 1,
   "metadata": {},
   "outputs": [],
   "source": [
    "import ipywidgets as widgets\n",
    "from ipywidgets import interact\n",
    "from IPython.display import display\n",
    "from ipywidgets import interact, interactive, fixed, interact_manual\n",
    "from tqdm import tqdm\n",
    "import random\n",
    "import matplotlib.pyplot as plt\n",
    "import math\n",
    "import sys\n",
    "import warnings\n",
    "import numpy as np\n",
    "import glob\n",
    "# import moviepy.editor as mpy\n",
    "from functools import reduce\n",
    "from mpl_toolkits.mplot3d import Axes3D"
   ]
  },
  {
   "cell_type": "markdown",
   "metadata": {},
   "source": [
    "***Уравнение:***\n",
    "\n",
    "$$\\displaystyle\\frac{\\partial u}{\\partial t} =  a\\displaystyle\\frac{\\partial^2 u}{\\partial x^2} + a\\displaystyle\\frac{\\partial^2 u}{\\partial y^2}, \\; a >  0$$\n",
    "\n",
    "***Граничные условия:***\n",
    "\n",
    "\\begin{equation*}\n",
    " \\begin{cases}\n",
    "   u (0, y, \\: t) = \\phi_0(y, t) = \\cosh{y} \\cdot e^{-3at}\n",
    "   \\\\\n",
    "   u (\\frac{\\pi}{4}, y, \\: t) = \\phi_1(y, t) = 0\n",
    "   \\\\\n",
    "   u (x, 0, \\: t) = \\psi_0(x, t) = \\cos{2x} \\cdot e^{-3at}\n",
    "   \\\\\n",
    "   u_{y}' (x, \\ln{2}, \\: t) = \\psi_1(x, t) = \\frac{3}{4} \\cos{2x} \\cdot e^{-3at}\n",
    "   \\\\\n",
    "   u(x, y, 0) = u_0 (x, y) = cos{2x} \\cosh{y}\n",
    " \\end{cases}\n",
    "\\end{equation*}\n",
    "\n",
    "***Аналитическое решение:***\n",
    "$$u(x, y, t) = e^{-3at} \\cos{2x} \\cosh{y}$$"
   ]
  },
  {
   "cell_type": "code",
   "execution_count": 2,
   "metadata": {},
   "outputs": [],
   "source": [
    "def psi_0(x, t, a = 1):\n",
    "    return math.cos(2*x) * math.exp(-3*a*t)\n",
    "\n",
    "# need to approx\n",
    "def psi_1(x, t, a = 1):\n",
    "    return 3*math.cos(2*x)*math.exp(-3*a*t) / 4\n",
    "\n",
    "def phi_0(y, t, a = 1):\n",
    "    return math.cosh(y) * math.exp(-3*a*t)\n",
    "\n",
    "def phi_1(y, t, a = 1):\n",
    "    return 0\n",
    "\n",
    "def u0(x, y, a = 1):\n",
    "    return math.cos(2*x) * math.cosh(y)\n",
    "\n",
    "# analytic solve\n",
    "def u(x, y, t, a = 1):\n",
    "    return math.cos(2*x) * math.cosh(y) * math.exp(-3*a*t)"
   ]
  },
  {
   "cell_type": "markdown",
   "metadata": {},
   "source": [
    "## <center> Конечно-разностная схема </center>"
   ]
  },
  {
   "cell_type": "markdown",
   "metadata": {},
   "source": [
    "<h3><center> Общая концепция </center></h3>"
   ]
  },
  {
   "cell_type": "markdown",
   "metadata": {},
   "source": [
    "Будем решать задачу на заданной площади  от $0$ до $l_x$ по координате $x$, от $0$ до $l_y$ по координате $y$ и на промежутке от $0$ до заданного параметра $T$ по времени $t$.\n",
    "\n",
    "Рассмотрим конечно-разностную схему решения краевой задачи на сетке с граничными парамерами $l_x$, $l_y$, $T$ и параметрами насыщенности сетки $N_x$, $N_y$, $K$. Тогда размер шага по каждой из координат определяется:\n",
    "$$h_x = \\displaystyle\\frac{l_x}{N_x -1}, \\; h_y = \\displaystyle\\frac{l_y}{N_y -1} , \\; \\tau = \\displaystyle\\frac{T}{K-1}$$\n",
    "\n",
    "\n",
    "Конечно-разностная схема решения параболического типа в сетке на временном слое $t^{k+1}$ определяется с помощью 2-ух этапов, на каждом из которых решается трёхдиагональное уравнение с помощью метода прогонки:\n",
    "- Считая, что значения функции $u^k_{i, j} = u(x_i, y_j, t^k)$ на временном слое $t^{k}$ известно, попробуем определить значения функции на временном слое $t^{k + \\frac{1}{2}}$ путем разностной апроксимации производной по времени:$\\displaystyle\\frac{\\partial u}{\\partial t}(x_i, y_j, t^k) = (1 + \\gamma)\\displaystyle\\frac{u^{k+\\frac{1}{2}}_{i, j} - u^{k}_{i, j}}{\\tau}$, неявной аппроксимацией производной по $x$: $\\displaystyle\\frac{\\partial^2 u}{\\partial x^2}(x_i, y_j, t^k) = \\displaystyle\\frac{u^{k+\\frac{1}{2}}_{i-1, j} - 2 u^{k + \\frac{1}{2}}_{i, j} + u^{k+\\frac{1}{2}}_{i+1, j}}{h_x^2}$ и явной аппроксимацией по $y$: $\\displaystyle\\frac{\\partial^2 u}{\\partial y^2}(x_i, y_j, t^k) = \\displaystyle\\frac{u^k_{i, j-1} - 2 u^k_{i, j} + u^k_{i, j+1}}{h_y^2}$ получаем уравнение:\n",
    "\n",
    "<!-- $$(1 + \\gamma)\\displaystyle\\frac{u^{k+\\frac{1}{2}}_{i, j} - u^{k}_{i, j}}{\\tau} = a\\displaystyle\\frac{u^{k+\\frac{1}{2}}_{i-1, j} - 2 u^{k + \\frac{1}{2}}_{i, j} + u^{k+\\frac{1}{2}}_{i+1, j}}{h_x^2} +  a \\gamma \\displaystyle\\frac{u^k_{i, j-1} - 2 u^k_{i, j} + u^k_{i, j+1}}{h_y^2}$$ -->\n",
    "\n",
    "$$ -a \\tau h_x^2 \\gamma u^{k}_{i, j-1} - ((1 + \\gamma) h_x^2 h_y^2 - 2 a \\tau h_x^2 \\gamma) u^{k}_{i, j} - a \\tau h_x^2 \\gamma u^{k}_{i, j+1} =  a \\tau h_y^2 u^{k+\\frac{1}{2}}_{i-1, j} - (2a \\tau h_y^2 + (1 + \\gamma) h_x^2 h_y^2) u^{k+\\frac{1}{2}}_{i, j} + a \\tau h_y^2 u^{k+\\frac{1}{2}}_{i+1, j}$$\n",
    "\n",
    "\n",
    "- Считая, что значения функции $u^{k+\\frac{1}{2}}_{i, j} = u(x_i, y_j, t^{k+\\frac{1}{2}})$ на временном слое $t^{k + \\frac{1}{2}}$ известно из прошлого этапа, попробуем определить значения функции на временном слое $t^{k + 1}$ путем разностной апроксимации производной по времени:$\\displaystyle\\frac{\\partial u}{\\partial t}(x_i, y_j, t^{k+\\frac{1}{2}}) = (1 + \\gamma)\\displaystyle\\frac{u^{k+1}_{i, j} - u^{k+\\frac{1}{2}}_{i, j}}{\\tau}$, явной аппроксимацией производной по $x$: $\\displaystyle\\frac{\\partial^2 u}{\\partial x^2}(x_i, y_j, t^{k+\\frac{1}{2}}) = \\displaystyle\\frac{u^{k+\\frac{1}{2}}_{i-1, j} - 2 u^{k + \\frac{1}{2}}_{i, j} + u^{k+\\frac{1}{2}}_{i+1, j}}{h_x^2}$ и неявной аппроксимацией по $y$: $\\displaystyle\\frac{\\partial^2 u}{\\partial y^2}(x_i, y_j, t^{k+\\frac{1}{2}}) = \\displaystyle\\frac{u^{k+1}_{i, j-1} - 2 u^{k+1}_{i, j} + u^{k+1}_{i, j+1}}{h_y^2}$ получим второе уравнение:\n",
    "\n",
    "$$ -a \\tau h_y^2 \\gamma u^{k+\\frac{1}{2}}_{i-1, j} - ((1 + \\gamma) h_x^2 h_y^2 - 2 a \\tau h_y^2 \\gamma) u^{k + \\frac{1}{2}}_{i, j} - a \\tau h_y^2 \\gamma u^{k+\\frac{1}{2}}_{i+1, j} =  a \\tau h_x^2 u^{k+1}_{i, j-1} - (2a \\tau h_x^2 + (1 + \\gamma) h_x^2 h_y^2) u^{k+1}_{i, j} + a \\tau h_x^2 u^{k+1}_{i, j+1}$$\n",
    "\n",
    "При $\\gamma = 1$ получаем метод переменных направлений, когда как при $\\gamma = 0$ - метод дробных шагов.\n",
    "\n",
    "Значения на слое $u^0_{i,j}$ и на границах сетки определяются с помощью заданных граничных условий и их аппроксимаций."
   ]
  },
  {
   "cell_type": "markdown",
   "metadata": {},
   "source": [
    "<h3><center> Апроксимация первых производных </center></h3>"
   ]
  },
  {
   "cell_type": "markdown",
   "metadata": {},
   "source": [
    "Для того, чтобы получить 2-ой порядок аппроксимации будем аппроксимировать верхнюю границу по $y$ трёхточечной аппроксимацией в явном виде и двухточечной второго порядка в неявном методе.\n",
    "\n",
    "#### Трёхточечная аппроксимация второго порядка\n",
    "\n",
    "Трёхточечная апроксимация второго порядка в точке $y = l_y$ равна соответственно:\n",
    "\n",
    "$$\\displaystyle\\frac{3u^{k+\\frac{1}{2}}_{i, N_y} - 4u^{k+\\frac{1}{2}}_{i, N_y -1} + u^{k+\\frac{1}{2}}_{i, N_y -2}}{2h_y} = \\psi_1(x_i, t^{k+\\frac{1}{2}})$$\n",
    "\n",
    "Тогда, поскольку мы знаем значения для внутренних узлов, получаем выражение для граничного значения при явном методе:\n",
    "\n",
    "$$u^{k+\\frac{1}{2}}_{i, N_y} = \\displaystyle\\frac{2 h_y \\psi_1(x_i, t^{k+\\frac{1}{2}}) + 4u^{k+\\frac{1}{2}}_{i, N_y -1} - u^{k+\\frac{1}{2}}_{i, N_y -2}}{3}$$\n",
    "\n",
    "#### Двухточечная аппроксимация второго порядка\n",
    "\n",
    "Двухточечная апроксимация второго порядка в точке $y = l_y$ равна соответственно:\n",
    "\n",
    "$$\\displaystyle\\frac{u^{k+1}_{i, N_y +1} - u^{k+1}_{i, N_y -1}}{2h_y} = \\psi_1(x_i, t^{k+1})$$\n",
    "\n",
    "Тогда, поскольку мы знаем значения для внутренних узлов, получаем выражение для граничного значения при неявном методе:\n",
    "\n",
    "$$ -a \\tau h_y^2 \\gamma u^{k+\\frac{1}{2}}_{i-1, N_y} - ((1 + \\gamma) h_x^2 h_y^2 - 2 a \\tau h_y^2 \\gamma) u^{k + \\frac{1}{2}}_{i, N_y} - a \\tau h_y^2 \\gamma u^{k+\\frac{1}{2}}_{i+1, N_y} - 2 a \\tau h_x^2 h_y \\psi_1(x_i, t^{k+1})  =  2 a \\tau h_x^2 u^{k+1}_{i, N_y -1} - (2a \\tau h_x^2 + (1 + \\gamma) h_x^2 h_y^2) u^{k+1}_{i, N_y}$$\n",
    "\n",
    "#### Двухточечная аппроксимация первого порядка\n",
    "\n",
    "Впрочем можно аппроксировать граничное условие в обоих случаях двухточечной аппроксимацией первого порядка:\n",
    "\n",
    "$$\\displaystyle\\frac{u^{k+1}_{i, N_y} - u^{k+1}_{i, N_y -1}}{h_y} = \\psi_1(x_i, t^{k+1})$$, \n",
    "\n",
    "Тогда очевидны формулы для определения значений функции при $y = l_y$ в обоих направлениях прогонки."
   ]
  },
  {
   "cell_type": "markdown",
   "metadata": {},
   "source": [
    "<h2><center> Реализация </center></h2>"
   ]
  },
  {
   "cell_type": "code",
   "execution_count": 3,
   "metadata": {},
   "outputs": [],
   "source": [
    "# class will return grid of values\n",
    "class Schema:\n",
    "    def __init__(self, a = 1, rho = u0, psi0 = psi_0, psi1 = psi_1, phi0 = phi_0, phi1 = phi_1,\n",
    "                 lx0 = 0, lx1 = math.pi/4, ly0 = 0, ly1 = math.log(2), T = 5, order2nd = True):\n",
    "        self.psi0 = psi0\n",
    "        self.psi1 = psi1\n",
    "        self.phi0 = phi0\n",
    "        self.phi1 = phi1\n",
    "        self.rho0 = rho\n",
    "        self.T = T\n",
    "        self.lx0 = lx0\n",
    "        self.lx1 = lx1\n",
    "        self.ly0 = ly0\n",
    "        self.ly1 = ly1\n",
    "        self.tau = None\n",
    "        self.hx = None\n",
    "        self.hy = None\n",
    "        self.order = order2nd\n",
    "        self.a = a\n",
    "        self.Nx = None\n",
    "        self.Ny = None\n",
    "        self.K = None\n",
    "        self.cx = None\n",
    "        self.bx = None\n",
    "        self.cy = None\n",
    "        self.by = None\n",
    "        self.hx2 = None\n",
    "        self.hy2 = None\n",
    "        \n",
    "        \n",
    "    def set_l0_l1(self, lx0, lx1, ly0, ly1):\n",
    "        self.lx0 = lx0\n",
    "        self.lx1 = lx1\n",
    "        self.ly0 = ly0\n",
    "        self.ly1 = ly1\n",
    "        \n",
    "    def set_T(self, T):\n",
    "        self.T = T\n",
    "        \n",
    "    def compute_h(self):\n",
    "        self.hx = (self.lx1 - self.lx0) / (self.Nx - 1)\n",
    "        self.hy = (self.ly1 - self.ly0) / (self.Ny - 1)\n",
    "        self.hx2 = self.hx * self.hx\n",
    "        self.hy2 = self.hy * self.hy\n",
    "        \n",
    "    def compute_tau(self):\n",
    "        self.tau = self.T / (self.K - 1)\n",
    "        \n",
    "    @staticmethod\n",
    "    def race_method(A, b):\n",
    "        P = [-item[2] for item in A]\n",
    "        Q = [item for item in b]\n",
    "    \n",
    "        P[0] /= A[0][1]\n",
    "        Q[0] /= A[0][1]\n",
    "    \n",
    "        for i in range(1, len(b)):\n",
    "            z = (A[i][1] + A[i][0] * P[i-1])\n",
    "            P[i] /= z\n",
    "            Q[i] -= A[i][0] * Q[i-1]\n",
    "            Q[i] /= z\n",
    "\n",
    "        for i in range(len(Q) - 2, -1, -1):\n",
    "            Q[i] += P[i] * Q[i + 1]\n",
    "\n",
    "        return Q    \n",
    "      \n",
    "    @staticmethod\n",
    "    def nparange(start, end, step = 1):\n",
    "        now = start\n",
    "        e = 0.00000000001\n",
    "        while now - e <= end:\n",
    "            yield now\n",
    "            now += step\n",
    "            \n",
    "    def compute_left_edge(self, X, Y, t, square):\n",
    "        for i in range(self.Ny):\n",
    "            square[i][0] = self.phi0(Y[i][0], t, self.a)\n",
    "            \n",
    "    def compute_right_edge(self, X, Y, t, square):\n",
    "        for i in range(self.Ny):\n",
    "            square[i][-1] = self.phi1(Y[i][-1], t, self.a)\n",
    "            \n",
    "    def compute_bottom_edge(self, X, Y, t, square):\n",
    "        for j in range(1, self.Nx - 1):\n",
    "            square[0][j] = self.psi0(X[0][j], t, self.a)\n",
    "            \n",
    "            \n",
    "    def compute_line_first_step(self, i, X, Y, last_square, now_square):\n",
    "        hy2 = self.hy2\n",
    "        hx2 = self.hx2\n",
    "        \n",
    "        b = self.bx\n",
    "        c = self.cx\n",
    "        \n",
    "        # first coeffs\n",
    "        A = [(0, b, c)]\n",
    "        w = [\n",
    "            -self.cy*self.order*last_square[i-1][1] -\n",
    "            ((self.order + 1)*hx2*hy2 - 2*self.cy*self.order)*last_square[i][1] -\n",
    "            self.cy*self.order*last_square[i+1][1] - c*now_square[i][0]\n",
    "        ]\n",
    "        # inner coefs\n",
    "        A.extend([(c, b, c) for _ in range(2, self.Nx - 2)])\n",
    "        w.extend([\n",
    "            -self.cy*self.order*last_square[i-1][j] -\n",
    "            ((self.order + 1)*hx2*hy2 - 2*self.cy*self.order)*last_square[i][j] -\n",
    "            self.cy*self.order*last_square[i+1][j]\n",
    "            for j in range(2, self.Nx - 2)\n",
    "        ])\n",
    "        \n",
    "        # last coeffs\n",
    "        A.append((c, b, 0))\n",
    "        w.append(\n",
    "            -self.cy*self.order*last_square[i-1][-2] -\n",
    "            ((self.order + 1)*hx2*hy2 - 2*self.cy*self.order)*last_square[i][-2] -\n",
    "            self.cy*self.order*last_square[i+1][-2] - c*now_square[i][-1]\n",
    "        )\n",
    "        \n",
    "        line = self.race_method(A, w)\n",
    "        \n",
    "        for j in range(1, self.Nx - 1):\n",
    "            now_square[i][j] = line[j - 1]\n",
    "            \n",
    "            \n",
    "    # compute second step        \n",
    "    def compute_line_second_step(self, j, X, Y, t, last_square, now_square):\n",
    "        hx2 = self.hx2\n",
    "        hy2 = self.hy2\n",
    "        \n",
    "        c = self.cy\n",
    "        b = self.by\n",
    "        \n",
    "        # first coeffs\n",
    "        A = [(0, b, c)]\n",
    "        w = [\n",
    "            -self.cx*self.order*last_square[1][j - 1] -\n",
    "            ((self.order + 1)*hx2*hy2 - 2*self.cx*self.order)*last_square[1][j] -\n",
    "            self.cx*self.order*last_square[1][j + 1] - c*now_square[0][j]\n",
    "        ]\n",
    "        \n",
    "        # inner coefs\n",
    "        A.extend([(c, b, c) for _ in range(2, self.Ny - 1)])\n",
    "        w.extend([\n",
    "            -self.cx*self.order*last_square[i][j - 1] -\n",
    "            ((self.order + 1)*hx2*hy2 - 2*self.cx*self.order)*last_square[i][j] -\n",
    "            self.cx*self.order*last_square[i][j + 1]\n",
    "            for i in range(2, self.Ny - 1)\n",
    "        ])\n",
    "        \n",
    "        # last coeffs\n",
    "        koeffs = self.implict_top_approx(j, X, Y, t, now_square, last_square)\n",
    "        A.append(koeffs[:-1])\n",
    "        w.append(koeffs[-1])\n",
    "        \n",
    "        line = self.race_method(A, w)\n",
    "        \n",
    "        for i in range(1, self.Ny):\n",
    "            now_square[i][j] = line[i - 1]\n",
    "            \n",
    "            \n",
    "    # explict approx\n",
    "    def explict_top_approx(self, X, Y, t, square):\n",
    "        for j in range(1, self.Nx - 1):\n",
    "            square[-1][j] = 2*self.hy*self.psi1(X[-1][j], t, self.a)\n",
    "            square[-1][j] += 4*square[-2][j] - square[-3][j]\n",
    "            square[-1][j] /= 3\n",
    "        \n",
    "    # implict approx\n",
    "    def implict_top_approx(self, j, X, Y, t, square, last_square):\n",
    "        hx2 = self.hx2\n",
    "        hy2 = self.hy2\n",
    "        \n",
    "        c = 2 * self.a * self.tau * hx2\n",
    "        b = -(c + (1 + self.order)*hx2*hy2)\n",
    "        \n",
    "        w = -self.cx*self.order*last_square[-1][j - 1]\n",
    "        w -= ((self.order + 1)*hx2*hy2 - 2*self.cx*self.order)*last_square[-1][j]\n",
    "        w -= self.cx*self.order*last_square[-1][j + 1]\n",
    "        w -= c*self.hy*self.psi1(X[-1][j], t, self.a)\n",
    "        \n",
    "        return (c, b, 0, w)\n",
    "    \n",
    "    \n",
    "    def explict_top_approx_0(self, X, Y, t, square):\n",
    "        for j in range(1, self.Nx - 1):\n",
    "            square[-1][j] = self.hy*self.psi1(X[-1][j], t, self.a)\n",
    "            square[-1][j] += square[-2][j]\n",
    "    \n",
    "    def implict_top_approx_0(self, j, X, Y, t, square, last_square):\n",
    "        return (-1, 1, 0, self.hy*self.psi1(X[-1][j], t, self.a))\n",
    "        \n",
    "    def compute_square(self, X, Y, t, last_square):\n",
    "        # init square space for (k + 1/2) values\n",
    "        square = [[0.0 for _ in range(self.Nx)] for _ in range(self.Ny)]\n",
    "        self.compute_left_edge(X, Y, t - 0.5*self.tau, square) # use time between\n",
    "        self.compute_right_edge(X, Y, t - 0.5*self.tau, square)\n",
    "        self.compute_bottom_edge(X, Y, t - 0.5*self.tau, square)\n",
    "         \n",
    "        # compute first step inner values\n",
    "        for i in range(1, self.Ny - 1):\n",
    "            self.compute_line_first_step(i, X, Y, last_square, square)\n",
    "        # compute first step last values by approx:\n",
    "        self.explict_top_approx(X, Y, t - 0.5*self.tau, square)\n",
    "        \n",
    "        #update last and new squares\n",
    "        last_square = square\n",
    "        square = [[0.0 for _ in range(self.Nx)] for _ in range(self.Ny)]\n",
    "        self.compute_left_edge(X, Y, t, square)\n",
    "        self.compute_right_edge(X, Y, t, square)\n",
    "        self.compute_bottom_edge(X, Y, t, square)\n",
    "        \n",
    "        # compute inner and top values of step 2\n",
    "        for j in range(1, self.Nx - 1):\n",
    "            self.compute_line_second_step(j, X, Y, t, last_square, square)\n",
    "        \n",
    "        return square\n",
    "        \n",
    "    \n",
    "    def init_t0(self, X, Y):\n",
    "        # init mem =)\n",
    "        first = [[0.0 for _ in range(self.Nx)] for _ in range(self.Ny)]\n",
    "        for i in range(self.Ny):\n",
    "            for j in range(self.Nx):\n",
    "                first[i][j] = self.rho0(X[i][j], Y[i][j], self.a)\n",
    "        return first\n",
    "        \n",
    "        \n",
    "    \n",
    "    def __call__(self, Nx=20, Ny=20, K=20):\n",
    "        # compute t and hx, hy\n",
    "        self.Nx, self.Ny, self.K = Nx, Ny, K \n",
    "        self.compute_tau()\n",
    "        self.compute_h()\n",
    "        \n",
    "        self.bx = -2*self.a*self.tau*self.hy2\n",
    "        self.bx -= (1 + self.order)*self.hx2*self.hy2\n",
    "        self.cx = self.a * self.tau * self.hy2\n",
    "        \n",
    "        self.cy = self.a * self.tau * self.hx2\n",
    "        self.by = -2*self.a*self.tau*self.hx2\n",
    "        self.by -= (1 + self.order)*self.hx2*self.hy2\n",
    "        \n",
    "        # compute x, y values:\n",
    "        x = list(self.nparange(self.lx0, self.lx1, self.hx))\n",
    "        y = list(self.nparange(self.ly0, self.ly1, self.hy))\n",
    "        # grid of (x, y)\n",
    "        X = [x for _ in range(self.Ny)]\n",
    "        Y = [[y[i] for _ in x] for i in range(self.Ny)]\n",
    "        \n",
    "        taus = [0.0]\n",
    "        \n",
    "        # get first values of grid on t = 0\n",
    "        ans = [self.init_t0(X, Y)]\n",
    "        \n",
    "        # compute grid\n",
    "        for t in self.nparange(self.tau, self.T, self.tau):\n",
    "            # append new square\n",
    "            ans.append(self.compute_square(X, Y, t, ans[-1]))\n",
    "            taus.append(t)\n",
    "\n",
    "        return X, Y, taus, ans"
   ]
  },
  {
   "cell_type": "markdown",
   "metadata": {},
   "source": [
    "<h2><center> Результаты работы </center></h2>"
   ]
  },
  {
   "cell_type": "markdown",
   "metadata": {},
   "source": [
    "<h3><center> Зависимoсть значений метода от параметров </center></h3>"
   ]
  },
  {
   "cell_type": "markdown",
   "metadata": {},
   "source": [
    "#### Реальное значение функции"
   ]
  },
  {
   "cell_type": "markdown",
   "metadata": {},
   "source": [
    "Реальное значение функции на плоскости в определённый момент времени:"
   ]
  },
  {
   "cell_type": "code",
   "execution_count": 4,
   "metadata": {},
   "outputs": [],
   "source": [
    "def real_z_by_time(lx0, lx1, ly0, ly1, t, f):\n",
    "    x = np.arange(lx0, lx1 + 0.002, 0.002)\n",
    "    y = np.arange(ly0, ly1 + 0.002, 0.002)\n",
    "    X = np.ones((y.shape[0], x.shape[0]))\n",
    "    Y = np.ones((x.shape[0], y.shape[0]))\n",
    "    Z = np.ones((y.shape[0], x.shape[0]))\n",
    "    for i in range(Y.shape[0]):\n",
    "        Y[i] = y\n",
    "    Y = Y.T\n",
    "    for i in range(X.shape[0]):\n",
    "        X[i] = x\n",
    "    for i in range(Z.shape[0]):\n",
    "        for j in range(Z.shape[1]):\n",
    "            Z[i, j] = f(X[i, j], Y[i, j], t)\n",
    "    return X, Y, Z"
   ]
  },
  {
   "cell_type": "markdown",
   "metadata": {},
   "source": [
    "#### Вычисление погрешностей"
   ]
  },
  {
   "cell_type": "markdown",
   "metadata": {},
   "source": [
    "Значение погрешности в определённый момент времени вычислим как: $RMSE = \\sqrt{\\displaystyle\\frac{\\sum\\limits^{N_x}_{i = 0} \\sum\\limits^{N_y}_{j = 0} (u_{i, j} - \\hat{u_{i, j}})^2}{N_x N_y}}$ по площади."
   ]
  },
  {
   "cell_type": "code",
   "execution_count": 5,
   "metadata": {},
   "outputs": [],
   "source": [
    "def epsilon(X, Y, t, z, ut = u, a = 1):\n",
    "    ans = 0.0\n",
    "    for i in range(len(z)):\n",
    "        for j in  range(len(z[i])):\n",
    "            ans += (ut(X[i][j], Y[i][j], t, a) - z[i][j])**2\n",
    "    return (ans / len(z) / len(z[0]))**0.5"
   ]
  },
  {
   "cell_type": "markdown",
   "metadata": {},
   "source": [
    "#### Визуализация"
   ]
  },
  {
   "cell_type": "markdown",
   "metadata": {},
   "source": [
    "Визуализируем полученные значения и искомую зависимость с помощи данных функций:"
   ]
  },
  {
   "cell_type": "code",
   "execution_count": 6,
   "metadata": {},
   "outputs": [],
   "source": [
    "def step_slice(lst, step):\n",
    "    return lst[step]\n",
    "\n",
    "\n",
    "def animate_list(lst, play=False, interval=200):\n",
    "    slider = widgets.IntSlider(min=0, max=len(lst) - 1, step=1, value=0)\n",
    "    if play:\n",
    "        play_widjet = widgets.Play(interval=interval)\n",
    "        widgets.jslink((play_widjet, 'value'), (slider, 'value'))\n",
    "        display(play_widjet)\n",
    "        # slider = widgets.Box([play_widject, slider])\n",
    "    return interact(step_slice,\n",
    "                    lst=fixed(lst),\n",
    "                    step=slider)"
   ]
  },
  {
   "cell_type": "code",
   "execution_count": 7,
   "metadata": {},
   "outputs": [],
   "source": [
    "def plot_by_time(X, Y, T, Z, j, a, extrems, plot_true = True):\n",
    "    t = T[j]\n",
    "    z = Z[j]\n",
    "    fig = plt.figure(num=1, figsize=(20, 13), clear=True)\n",
    "    ax = fig.add_subplot(1, 1, 1, projection='3d')\n",
    "    ax.plot_surface(np.array(X), np.array(Y), np.array(z))\n",
    "    if plot_true:\n",
    "        ax.plot_wireframe(*real_z_by_time(0, math.pi/4, 0, math.log(2), t, u), color=\"green\")\n",
    "    ax.set_xlabel('x')\n",
    "    ax.set_ylabel('y')\n",
    "    ax.set_zlabel('z') \n",
    "    ax.set_title(\n",
    "        't = ' + str(round(t, 8)) + \" RMSE = \" + str(round(epsilon(X, Y, t, z, a = a), 11)), \n",
    "        loc = \"right\", fontsize=25\n",
    "    )\n",
    "    ax.set_zlim(extrems[0], extrems[1])\n",
    "    fig.tight_layout()\n",
    "    plt.close(fig)\n",
    "    return fig\n",
    "\n",
    "def search_minmax(zz):\n",
    "    z = zz[0]\n",
    "    minimum, maximum = z[0][0], z[0][0]\n",
    "    for i in range(len(z)):\n",
    "        for j in range(len(z[i])):\n",
    "            minimum = z[i][j] if z[i][j] < minimum else minimum\n",
    "            maximum = z[i][j] if z[i][j] > maximum else maximum\n",
    "    return minimum, maximum\n",
    "\n",
    "def plot_animate(nx = 15, ny = 15, k=50, t=1, a = 1, plot_true = False):\n",
    "    schema = Schema(T = t, a = a, order2nd = True)\n",
    "    xx, yy, tt, zz = schema(Nx = nx, Ny = ny, K = k)\n",
    "    extrems = search_minmax(zz)\n",
    "    plots = []\n",
    "    for j in range(len(tt)):\n",
    "        plots.append(plot_by_time(xx, yy, tt, zz, j, a, extrems, plot_true))\n",
    "    animate_list(plots, play=True, interval=2000)"
   ]
  },
  {
   "cell_type": "markdown",
   "metadata": {},
   "source": [
    "Тогда в зависмоси от параметров полученное приближение будет иметь следующий вид:"
   ]
  },
  {
   "cell_type": "code",
   "execution_count": 16,
   "metadata": {},
   "outputs": [
    {
     "data": {
      "application/vnd.jupyter.widget-view+json": {
       "model_id": "002bc8bab61f4be89de89b3102a0cce1",
       "version_major": 2,
       "version_minor": 0
      },
      "text/plain": [
       "interactive(children=(IntSlider(value=15, description='nx', max=200, min=5, step=2), IntSlider(value=15, descr…"
      ]
     },
     "metadata": {},
     "output_type": "display_data"
    }
   ],
   "source": [
    "interact(\n",
    "    plot_animate, \n",
    "    nx=(5, 200, 2), \n",
    "    ny=(5, 200, 2),\n",
    "    k=(20, 200, 5), \n",
    "    t = (1, 10, 1), \n",
    "    a = (0.0, 5, 0.1),\n",
    "    plot_true = [False, True]\n",
    ")\n",
    "\n",
    "None"
   ]
  },
  {
   "cell_type": "markdown",
   "metadata": {},
   "source": [
    "<h3><center> Зависимость погрешности расчетов от параметров </center></h3>"
   ]
  },
  {
   "cell_type": "code",
   "execution_count": 9,
   "metadata": {},
   "outputs": [],
   "source": [
    "first = Schema(T = 1, order2nd = False) #метод дробных шагов\n",
    "second = Schema(T = 1, order2nd = True) #метод переменных направлений"
   ]
  },
  {
   "cell_type": "markdown",
   "metadata": {},
   "source": [
    "#### Постоение зависимости погрешности от шага $h_x, \\; h_y$."
   ]
  },
  {
   "cell_type": "markdown",
   "metadata": {},
   "source": [
    "Сетки значений погрешности и соответствующих длин шагов получим с помощью функции:"
   ]
  },
  {
   "cell_type": "code",
   "execution_count": 10,
   "metadata": {},
   "outputs": [],
   "source": [
    "def get_graphic_h(solver, time = 0, tsteps = 400):\n",
    "    h = []\n",
    "    e = []\n",
    "    for N in range(4, 35, 1):\n",
    "        x, y, t, z = solver(Nx = N, Ny = N, K = tsteps)\n",
    "        h.append(solver.hx)\n",
    "        e.append(epsilon(x, y, t[time], z[time]))\n",
    "    return h, e"
   ]
  },
  {
   "cell_type": "markdown",
   "metadata": {},
   "source": [
    "Зависимсоть погрешности от длины шагов по координате при фиксированном шаге по времени в методе дробных шагов и переменных направлений:"
   ]
  },
  {
   "cell_type": "code",
   "execution_count": 11,
   "metadata": {},
   "outputs": [
    {
     "data": {
      "image/png": "[encoded data removed]",
      "text/plain": [
       "<Figure size 1152x720 with 2 Axes>"
      ]
     },
     "metadata": {
      "needs_background": "light"
     },
     "output_type": "display_data"
    }
   ],
   "source": [
    "TSTEPS = 300\n",
    "time = random.randint(0, TSTEPS - 1)\n",
    "\n",
    "plt.figure(figsize = (16, 10))\n",
    "\n",
    "plt.title(\"Зависимость погрешности от длины шага при t = \" + str(time / TSTEPS))\n",
    "\n",
    "plt.subplot(2, 1, 1)\n",
    "\n",
    "h1, e1 = get_graphic_h(first, time, TSTEPS)\n",
    "h2, e2 = get_graphic_h(second, time, TSTEPS)\n",
    "\n",
    "plt.plot(h1, e1, label=\"Метод дробных шагов\")\n",
    "plt.plot(h2, e2, label=\"Метод переменных направлений\")\n",
    "\n",
    "plt.xlabel(\"$h_x$\")\n",
    "plt.ylabel(\"$\\epsilon$\")\n",
    "# plt.ylim([0, 2.1])\n",
    "# plt.xticks(list(explict.nparange(0, 1.6, 0.1)))\n",
    "# plt.yticks(list(explict.nparange(0, 2.1, 0.2)))\n",
    "plt.legend()\n",
    "plt.grid()\n",
    "\n",
    "plt.subplot(2, 1, 2)\n",
    "plt.plot(list(map(math.log, h1)), list(map(math.log, e1)), label=\"Метод дробных шагов\")\n",
    "plt.plot(list(map(math.log, h2)), list(map(math.log, e2)), label=\"Метод переменных направлений\")\n",
    "#plt.plot([-3.5, -1], [-3, -0.5], label=\"Зависимость $O(h_x)$\")\n",
    "#plt.plot([-3.5, -1], [-3, 2], label=\"Зависимость $O(h_x^2)$\")\n",
    "plt.xlabel(\"$\\log{h_x}$\")\n",
    "plt.ylabel(\"$\\log{\\epsilon}$\")\n",
    "# plt.ylim([-3, 1])\n",
    "# plt.xlim([-2.1, 0.5])\n",
    "# plt.xticks(list(explict.nparange(-2, 0.5, 0.1)))\n",
    "# plt.yticks(list(explict.nparange(-3, 1, 0.2)))\n",
    "plt.legend()\n",
    "plt.grid()"
   ]
  },
  {
   "cell_type": "markdown",
   "metadata": {},
   "source": [
    "#### Построение зависимости погрешности от $\\tau$"
   ]
  },
  {
   "cell_type": "markdown",
   "metadata": {},
   "source": [
    "Сетки значений погрешности и соответствующих длин шагов получим с помощью функции:"
   ]
  },
  {
   "cell_type": "code",
   "execution_count": 12,
   "metadata": {},
   "outputs": [],
   "source": [
    "def get_graphic_tau(solver):\n",
    "    tau = []\n",
    "    e = []\n",
    "    for K in range(15, 100, 2):\n",
    "        x, y, t, z = solver(Nx = 10, Ny = 10, K = K)\n",
    "        tau.append(solver.tau)\n",
    "        time = K // 2\n",
    "        e.append(epsilon(x, y, t[time], z[time]))\n",
    "    return tau, e"
   ]
  },
  {
   "cell_type": "markdown",
   "metadata": {},
   "source": [
    "Зависимсоть погрешности от длины шага по времени при фиксированных шагах по координатам в методе дробных шагов и переменных направлений:"
   ]
  },
  {
   "cell_type": "code",
   "execution_count": 13,
   "metadata": {},
   "outputs": [
    {
     "data": {
      "image/png": "[encoded data removed]",
      "text/plain": [
       "<Figure size 1152x720 with 2 Axes>"
      ]
     },
     "metadata": {
      "needs_background": "light"
     },
     "output_type": "display_data"
    }
   ],
   "source": [
    "plt.figure(figsize = (16, 10))\n",
    "\n",
    "plt.title(\"Зависимость погрешности от длины шага по времени\")\n",
    "\n",
    "plt.subplot(2, 1, 1)\n",
    "\n",
    "tau1, e1 = get_graphic_tau(first)\n",
    "tau2, e2 = get_graphic_tau(second)\n",
    "\n",
    "plt.plot(tau1, e1, label=\"Метод дробных шагов\")\n",
    "plt.plot(tau2, e2, label=\"Метод переменных направлений\")\n",
    "\n",
    "plt.xlabel(\"$\\tau$\")\n",
    "plt.ylabel(\"$\\epsilon$\")\n",
    "# plt.ylim([0, 2.1])\n",
    "# plt.xticks(list(explict.nparange(0, 1.6, 0.1)))\n",
    "# plt.yticks(list(explict.nparange(0, 2.1, 0.2)))\n",
    "plt.legend()\n",
    "plt.grid()\n",
    "\n",
    "plt.subplot(2, 1, 2)\n",
    "plt.plot(list(map(math.log, tau1)), list(map(math.log, e1)), label=\"Метод дробных шагов\")\n",
    "plt.plot(list(map(math.log, tau2)), list(map(math.log, e2)), label=\"Метод переменных направлений\")\n",
    "#plt.plot([-3.5, -1], [-3, -0.5], label=\"Зависимость $O(h_x)$\")\n",
    "#plt.plot([-3.5, -1], [-3, 2], label=\"Зависимость $O(h_x^2)$\")\n",
    "plt.xlabel(\"$\\log{\\tau}$\")\n",
    "plt.ylabel(\"$\\log{\\epsilon}$\")\n",
    "# plt.ylim([-3, 1])\n",
    "# plt.xlim([-2.1, 0.5])\n",
    "# plt.xticks(list(explict.nparange(-2, 0.5, 0.1)))\n",
    "# plt.yticks(list(explict.nparange(-3, 1, 0.2)))\n",
    "plt.legend()\n",
    "plt.grid()"
   ]
  },
  {
   "cell_type": "markdown",
   "metadata": {},
   "source": [
    "#### Общая зависимость погрешости от сеточных параметров"
   ]
  },
  {
   "cell_type": "markdown",
   "metadata": {},
   "source": [
    "$RMSE$ по всей кубической сетке:"
   ]
  },
  {
   "cell_type": "code",
   "execution_count": 14,
   "metadata": {},
   "outputs": [],
   "source": [
    "def full_epsilon(X, Y, T, Z):\n",
    "    ans = 0.0\n",
    "    for k in range(len(T)):\n",
    "        for i in range(len(X)):\n",
    "            for j in  range(len(X[i])):\n",
    "                ans += (u(X[i][j], Y[i][j], T[k]) - Z[k][i][j])**2\n",
    "    return (ans / len(T) / len(X) / len(X[0]))**0.5"
   ]
  },
  {
   "cell_type": "markdown",
   "metadata": {},
   "source": [
    "График зависимсоти погрешности от параметров шага  по координате и времени:"
   ]
  },
  {
   "cell_type": "code",
   "execution_count": 15,
   "metadata": {},
   "outputs": [
    {
     "name": "stderr",
     "output_type": "stream",
     "text": [
      " 80%|█████████████████████████████████████████████████████████████████▌                | 24/30 [01:26<00:21,  3.59s/it]\n"
     ]
    },
    {
     "ename": "KeyboardInterrupt",
     "evalue": "",
     "output_type": "error",
     "traceback": [
      "\u001b[1;31m---------------------------------------------------------------------------\u001b[0m",
      "\u001b[1;31mKeyboardInterrupt\u001b[0m                         Traceback (most recent call last)",
      "\u001b[1;32m~\\AppData\\Local\\Temp/ipykernel_3208/2385827068.py\u001b[0m in \u001b[0;36m<module>\u001b[1;34m\u001b[0m\n\u001b[0;32m     22\u001b[0m     \u001b[0mfig\u001b[0m\u001b[1;33m.\u001b[0m\u001b[0mtight_layout\u001b[0m\u001b[1;33m(\u001b[0m\u001b[1;33m)\u001b[0m\u001b[1;33m\u001b[0m\u001b[1;33m\u001b[0m\u001b[0m\n\u001b[0;32m     23\u001b[0m \u001b[1;33m\u001b[0m\u001b[0m\n\u001b[1;32m---> 24\u001b[1;33m \u001b[0mplot_epsilon\u001b[0m\u001b[1;33m(\u001b[0m\u001b[1;33m)\u001b[0m\u001b[1;33m\u001b[0m\u001b[1;33m\u001b[0m\u001b[0m\n\u001b[0m",
      "\u001b[1;32m~\\AppData\\Local\\Temp/ipykernel_3208/2385827068.py\u001b[0m in \u001b[0;36mplot_epsilon\u001b[1;34m()\u001b[0m\n\u001b[0;32m     14\u001b[0m             \u001b[0mh\u001b[0m\u001b[1;33m[\u001b[0m\u001b[1;33m-\u001b[0m\u001b[1;36m1\u001b[0m\u001b[1;33m]\u001b[0m\u001b[1;33m.\u001b[0m\u001b[0mappend\u001b[0m\u001b[1;33m(\u001b[0m\u001b[0mschema\u001b[0m\u001b[1;33m.\u001b[0m\u001b[0mhx\u001b[0m\u001b[1;33m)\u001b[0m\u001b[1;33m\u001b[0m\u001b[1;33m\u001b[0m\u001b[0m\n\u001b[0;32m     15\u001b[0m             \u001b[0mtau\u001b[0m\u001b[1;33m[\u001b[0m\u001b[1;33m-\u001b[0m\u001b[1;36m1\u001b[0m\u001b[1;33m]\u001b[0m\u001b[1;33m.\u001b[0m\u001b[0mappend\u001b[0m\u001b[1;33m(\u001b[0m\u001b[0mschema\u001b[0m\u001b[1;33m.\u001b[0m\u001b[0mtau\u001b[0m\u001b[1;33m)\u001b[0m\u001b[1;33m\u001b[0m\u001b[1;33m\u001b[0m\u001b[0m\n\u001b[1;32m---> 16\u001b[1;33m             \u001b[0meps\u001b[0m\u001b[1;33m[\u001b[0m\u001b[1;33m-\u001b[0m\u001b[1;36m1\u001b[0m\u001b[1;33m]\u001b[0m\u001b[1;33m.\u001b[0m\u001b[0mappend\u001b[0m\u001b[1;33m(\u001b[0m\u001b[0mfull_epsilon\u001b[0m\u001b[1;33m(\u001b[0m\u001b[0mX\u001b[0m\u001b[1;33m,\u001b[0m \u001b[0mY\u001b[0m\u001b[1;33m,\u001b[0m \u001b[0mT\u001b[0m\u001b[1;33m,\u001b[0m \u001b[0mZ\u001b[0m\u001b[1;33m)\u001b[0m\u001b[1;33m)\u001b[0m\u001b[1;33m\u001b[0m\u001b[1;33m\u001b[0m\u001b[0m\n\u001b[0m\u001b[0;32m     17\u001b[0m \u001b[1;33m\u001b[0m\u001b[0m\n\u001b[0;32m     18\u001b[0m     \u001b[0mfig\u001b[0m \u001b[1;33m=\u001b[0m \u001b[0mplt\u001b[0m\u001b[1;33m.\u001b[0m\u001b[0mfigure\u001b[0m\u001b[1;33m(\u001b[0m\u001b[0mnum\u001b[0m\u001b[1;33m=\u001b[0m\u001b[1;36m1\u001b[0m\u001b[1;33m,\u001b[0m \u001b[0mfigsize\u001b[0m\u001b[1;33m=\u001b[0m\u001b[1;33m(\u001b[0m\u001b[1;36m19\u001b[0m\u001b[1;33m,\u001b[0m \u001b[1;36m12\u001b[0m\u001b[1;33m)\u001b[0m\u001b[1;33m,\u001b[0m \u001b[0mclear\u001b[0m\u001b[1;33m=\u001b[0m\u001b[1;32mTrue\u001b[0m\u001b[1;33m)\u001b[0m\u001b[1;33m\u001b[0m\u001b[1;33m\u001b[0m\u001b[0m\n",
      "\u001b[1;32m~\\AppData\\Local\\Temp/ipykernel_3208/2232508670.py\u001b[0m in \u001b[0;36mfull_epsilon\u001b[1;34m(X, Y, T, Z)\u001b[0m\n\u001b[0;32m      4\u001b[0m         \u001b[1;32mfor\u001b[0m \u001b[0mi\u001b[0m \u001b[1;32min\u001b[0m \u001b[0mrange\u001b[0m\u001b[1;33m(\u001b[0m\u001b[0mlen\u001b[0m\u001b[1;33m(\u001b[0m\u001b[0mX\u001b[0m\u001b[1;33m)\u001b[0m\u001b[1;33m)\u001b[0m\u001b[1;33m:\u001b[0m\u001b[1;33m\u001b[0m\u001b[1;33m\u001b[0m\u001b[0m\n\u001b[0;32m      5\u001b[0m             \u001b[1;32mfor\u001b[0m \u001b[0mj\u001b[0m \u001b[1;32min\u001b[0m  \u001b[0mrange\u001b[0m\u001b[1;33m(\u001b[0m\u001b[0mlen\u001b[0m\u001b[1;33m(\u001b[0m\u001b[0mX\u001b[0m\u001b[1;33m[\u001b[0m\u001b[0mi\u001b[0m\u001b[1;33m]\u001b[0m\u001b[1;33m)\u001b[0m\u001b[1;33m)\u001b[0m\u001b[1;33m:\u001b[0m\u001b[1;33m\u001b[0m\u001b[1;33m\u001b[0m\u001b[0m\n\u001b[1;32m----> 6\u001b[1;33m                 \u001b[0mans\u001b[0m \u001b[1;33m+=\u001b[0m \u001b[1;33m(\u001b[0m\u001b[0mu\u001b[0m\u001b[1;33m(\u001b[0m\u001b[0mX\u001b[0m\u001b[1;33m[\u001b[0m\u001b[0mi\u001b[0m\u001b[1;33m]\u001b[0m\u001b[1;33m[\u001b[0m\u001b[0mj\u001b[0m\u001b[1;33m]\u001b[0m\u001b[1;33m,\u001b[0m \u001b[0mY\u001b[0m\u001b[1;33m[\u001b[0m\u001b[0mi\u001b[0m\u001b[1;33m]\u001b[0m\u001b[1;33m[\u001b[0m\u001b[0mj\u001b[0m\u001b[1;33m]\u001b[0m\u001b[1;33m,\u001b[0m \u001b[0mT\u001b[0m\u001b[1;33m[\u001b[0m\u001b[0mk\u001b[0m\u001b[1;33m]\u001b[0m\u001b[1;33m)\u001b[0m \u001b[1;33m-\u001b[0m \u001b[0mZ\u001b[0m\u001b[1;33m[\u001b[0m\u001b[0mk\u001b[0m\u001b[1;33m]\u001b[0m\u001b[1;33m[\u001b[0m\u001b[0mi\u001b[0m\u001b[1;33m]\u001b[0m\u001b[1;33m[\u001b[0m\u001b[0mj\u001b[0m\u001b[1;33m]\u001b[0m\u001b[1;33m)\u001b[0m\u001b[1;33m**\u001b[0m\u001b[1;36m2\u001b[0m\u001b[1;33m\u001b[0m\u001b[1;33m\u001b[0m\u001b[0m\n\u001b[0m\u001b[0;32m      7\u001b[0m     \u001b[1;32mreturn\u001b[0m \u001b[1;33m(\u001b[0m\u001b[0mans\u001b[0m \u001b[1;33m/\u001b[0m \u001b[0mlen\u001b[0m\u001b[1;33m(\u001b[0m\u001b[0mT\u001b[0m\u001b[1;33m)\u001b[0m \u001b[1;33m/\u001b[0m \u001b[0mlen\u001b[0m\u001b[1;33m(\u001b[0m\u001b[0mX\u001b[0m\u001b[1;33m)\u001b[0m \u001b[1;33m/\u001b[0m \u001b[0mlen\u001b[0m\u001b[1;33m(\u001b[0m\u001b[0mX\u001b[0m\u001b[1;33m[\u001b[0m\u001b[1;36m0\u001b[0m\u001b[1;33m]\u001b[0m\u001b[1;33m)\u001b[0m\u001b[1;33m)\u001b[0m\u001b[1;33m**\u001b[0m\u001b[1;36m0.5\u001b[0m\u001b[1;33m\u001b[0m\u001b[1;33m\u001b[0m\u001b[0m\n",
      "\u001b[1;32m~\\AppData\\Local\\Temp/ipykernel_3208/2378984536.py\u001b[0m in \u001b[0;36mu\u001b[1;34m(x, y, t, a)\u001b[0m\n\u001b[0;32m     17\u001b[0m \u001b[1;31m# analytic solve\u001b[0m\u001b[1;33m\u001b[0m\u001b[1;33m\u001b[0m\u001b[1;33m\u001b[0m\u001b[0m\n\u001b[0;32m     18\u001b[0m \u001b[1;32mdef\u001b[0m \u001b[0mu\u001b[0m\u001b[1;33m(\u001b[0m\u001b[0mx\u001b[0m\u001b[1;33m,\u001b[0m \u001b[0my\u001b[0m\u001b[1;33m,\u001b[0m \u001b[0mt\u001b[0m\u001b[1;33m,\u001b[0m \u001b[0ma\u001b[0m \u001b[1;33m=\u001b[0m \u001b[1;36m1\u001b[0m\u001b[1;33m)\u001b[0m\u001b[1;33m:\u001b[0m\u001b[1;33m\u001b[0m\u001b[1;33m\u001b[0m\u001b[0m\n\u001b[1;32m---> 19\u001b[1;33m     \u001b[1;32mreturn\u001b[0m \u001b[0mmath\u001b[0m\u001b[1;33m.\u001b[0m\u001b[0mcos\u001b[0m\u001b[1;33m(\u001b[0m\u001b[1;36m2\u001b[0m\u001b[1;33m*\u001b[0m\u001b[0mx\u001b[0m\u001b[1;33m)\u001b[0m \u001b[1;33m*\u001b[0m \u001b[0mmath\u001b[0m\u001b[1;33m.\u001b[0m\u001b[0mcosh\u001b[0m\u001b[1;33m(\u001b[0m\u001b[0my\u001b[0m\u001b[1;33m)\u001b[0m \u001b[1;33m*\u001b[0m \u001b[0mmath\u001b[0m\u001b[1;33m.\u001b[0m\u001b[0mexp\u001b[0m\u001b[1;33m(\u001b[0m\u001b[1;33m-\u001b[0m\u001b[1;36m3\u001b[0m\u001b[1;33m*\u001b[0m\u001b[0ma\u001b[0m\u001b[1;33m*\u001b[0m\u001b[0mt\u001b[0m\u001b[1;33m)\u001b[0m\u001b[1;33m\u001b[0m\u001b[1;33m\u001b[0m\u001b[0m\n\u001b[0m",
      "\u001b[1;31mKeyboardInterrupt\u001b[0m: "
     ]
    }
   ],
   "source": [
    "def plot_epsilon():\n",
    "    schema = Schema(T = 1, order2nd=False)\n",
    "    h = []\n",
    "    tau = []\n",
    "    eps = []\n",
    "    for i in tqdm(range(30)):\n",
    "        h.append([])\n",
    "        tau.append([])\n",
    "        eps.append([])\n",
    "        for j in range(45):\n",
    "            N = i + 5\n",
    "            K = j + 40\n",
    "            X, Y, T, Z = schema(N, N, K)\n",
    "            h[-1].append(schema.hx)\n",
    "            tau[-1].append(schema.tau)\n",
    "            eps[-1].append(full_epsilon(X, Y, T, Z))\n",
    "            \n",
    "    fig = plt.figure(num=1, figsize=(19, 12), clear=True)\n",
    "    ax = fig.add_subplot(1, 1, 1, projection='3d')\n",
    "    ax.plot_surface(np.array(h), np.array(tau), np.array(eps))\n",
    "    ax.set(xlabel='$h_x$', ylabel='$\\tau$', zlabel='$\\epsilon$', title='Погрешность метода дробных шагов')\n",
    "    fig.tight_layout()\n",
    "\n",
    "plot_epsilon()"
   ]
  }
 ],
 "metadata": {
  "kernelspec": {
   "display_name": "Python 3 (ipykernel)",
   "language": "python",
   "name": "python3"
  },
  "language_info": {
   "codemirror_mode": {
    "name": "ipython",
    "version": 3
   },
   "file_extension": ".py",
   "mimetype": "text/x-python",
   "name": "python",
   "nbconvert_exporter": "python",
   "pygments_lexer": "ipython3",
   "version": "3.7.2rc1"
  }
 },
 "nbformat": 4,
 "nbformat_minor": 4
}
