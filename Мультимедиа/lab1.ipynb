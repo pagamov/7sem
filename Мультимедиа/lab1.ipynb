{
 "cells": [
  {
   "cell_type": "markdown",
   "metadata": {
    "id": "eOivSghfGwy-"
   },
   "source": [
    "<h2 style=\"text-align: center;\"><b>Python. Занятие 1: Основы</b></h2>"
   ]
  },
  {
   "cell_type": "markdown",
   "metadata": {
    "id": "qoHHrmtJGwzG"
   },
   "source": [
    "## Основы Python"
   ]
  },
  {
   "cell_type": "markdown",
   "metadata": {
    "id": "P7kqThRsGw1S"
   },
   "source": [
    "### Структуры данных и встроенные функции"
   ]
  },
  {
   "cell_type": "markdown",
   "metadata": {
    "id": "PJA-KLzvGwzN"
   },
   "source": [
    "**Все типы данных** в Python относятся к одной из **2-х категорий**: **изменяемые (mutable)** и **неизменяемые (unmutable)**.   \n",
    "\n",
    "*Неизменяемые объекты*:  \n",
    "* числовые данные (int, float), \n",
    "* bool,\n",
    "* None,\n",
    "* символьные строки (class 'str'), \n",
    "* кортежи (tuple).  \n",
    "\n",
    "*Изменяемые объекты*:  \n",
    "* списки (list), \n",
    "* множества (set), \n",
    "* словари (dict).  \n",
    "\n",
    "Вновь определяемые пользователем типы (классы) могут быть определены как неизменяемые или изменяемые. Изменяемость объектов определённого типа является принципиально важной характеристикой, определяющей, может ли объект такого типа **выступать в качестве ключа для словарей (dict)** или нет."
   ]
  },
  {
   "cell_type": "markdown",
   "metadata": {
    "id": "2mnxxvHxGw0c"
   },
   "source": [
    "### tuple"
   ]
  },
  {
   "cell_type": "code",
   "execution_count": 6,
   "metadata": {
    "colab": {
     "base_uri": "https://localhost:8080/"
    },
    "id": "pCgzsWT-Gw0d",
    "outputId": "22046074-0c78-4cac-9e7a-f6aec8bca38a"
   },
   "outputs": [
    {
     "data": {
      "text/plain": [
       "('a', 5, 12.345)"
      ]
     },
     "execution_count": 6,
     "metadata": {},
     "output_type": "execute_result"
    }
   ],
   "source": [
    "t = ('a', 5, 12.345)\n",
    "t"
   ]
  },
  {
   "cell_type": "code",
   "execution_count": 8,
   "metadata": {
    "id": "HoKY7OS5Gw0t"
   },
   "outputs": [
    {
     "data": {
      "text/plain": [
       "3"
      ]
     },
     "execution_count": 8,
     "metadata": {},
     "output_type": "execute_result"
    }
   ],
   "source": [
    "len(t)"
   ]
  },
  {
   "cell_type": "markdown",
   "metadata": {
    "id": "QrloQ6pcGw0w"
   },
   "source": [
    "#### Поменять переменные местами"
   ]
  },
  {
   "cell_type": "code",
   "execution_count": 9,
   "metadata": {
    "id": "BP7tJfrwGw0x"
   },
   "outputs": [
    {
     "name": "stdout",
     "output_type": "stream",
     "text": [
      "a: 100 \n",
      "b: -5\n"
     ]
    }
   ],
   "source": [
    "a = -5\n",
    "b = 100\n",
    "\n",
    "a, b = b, a\n",
    "\n",
    "print('a:', a, '\\nb:', b)"
   ]
  },
  {
   "cell_type": "markdown",
   "metadata": {
    "id": "e6LOqPpYGw1T"
   },
   "source": [
    "### list"
   ]
  },
  {
   "cell_type": "code",
   "execution_count": 10,
   "metadata": {
    "id": "pGXNzuLsGw1U"
   },
   "outputs": [
    {
     "name": "stdout",
     "output_type": "stream",
     "text": [
      "True\n"
     ]
    }
   ],
   "source": [
    "a = list()\n",
    "b = []\n",
    "\n",
    "print(a == b)"
   ]
  },
  {
   "cell_type": "code",
   "execution_count": 11,
   "metadata": {
    "id": "bj2nfMarGw1Y"
   },
   "outputs": [
    {
     "data": {
      "text/plain": [
       "['string', 100, 5.678, None]"
      ]
     },
     "execution_count": 11,
     "metadata": {},
     "output_type": "execute_result"
    }
   ],
   "source": [
    "my_list = ['string', 100, 5.678, None]\n",
    "my_list"
   ]
  },
  {
   "cell_type": "code",
   "execution_count": 12,
   "metadata": {
    "id": "bYJBlGn3Gw1i"
   },
   "outputs": [
    {
     "name": "stdout",
     "output_type": "stream",
     "text": [
      "[37, 34, 26, 85, 67, 96, 53, 42, 45, 65, 74, 78] | <class 'list'>\n"
     ]
    }
   ],
   "source": [
    "array = [37,34,26,85,67,96,53,42,45,65,74,78,]\n",
    "array = list(array)\n",
    "print(array, '|', type(array))"
   ]
  },
  {
   "cell_type": "code",
   "execution_count": 13,
   "metadata": {
    "id": "nJAGzNrMGw1k"
   },
   "outputs": [
    {
     "data": {
      "text/plain": [
       "34"
      ]
     },
     "execution_count": 13,
     "metadata": {},
     "output_type": "execute_result"
    }
   ],
   "source": [
    "array[1]"
   ]
  },
  {
   "cell_type": "code",
   "execution_count": 14,
   "metadata": {
    "id": "lccw9vyNGw1p"
   },
   "outputs": [
    {
     "data": {
      "text/plain": [
       "78"
      ]
     },
     "execution_count": 14,
     "metadata": {},
     "output_type": "execute_result"
    }
   ],
   "source": [
    "array[-1]"
   ]
  },
  {
   "cell_type": "code",
   "execution_count": 15,
   "metadata": {
    "id": "Oa7FXqyrGw1r"
   },
   "outputs": [
    {
     "name": "stdout",
     "output_type": "stream",
     "text": [
      "0\n",
      "1\n",
      "2\n",
      "3\n",
      "4\n"
     ]
    }
   ],
   "source": [
    "for i in range(0, 5):\n",
    "    print(i)"
   ]
  },
  {
   "cell_type": "markdown",
   "metadata": {
    "id": "5kWpqBrgGw1t"
   },
   "source": [
    "* Перевернуть список:"
   ]
  },
  {
   "cell_type": "code",
   "execution_count": 16,
   "metadata": {
    "id": "J0BYX4JXGw1v"
   },
   "outputs": [
    {
     "data": {
      "text/plain": [
       "[78, 74, 65, 45, 42, 53, 96, 67, 85, 26, 34, 37]"
      ]
     },
     "execution_count": 16,
     "metadata": {},
     "output_type": "execute_result"
    }
   ],
   "source": [
    "array = array[::-1]\n",
    "array"
   ]
  },
  {
   "cell_type": "markdown",
   "metadata": {
    "id": "4VKPt0CwGw1z"
   },
   "source": [
    "* Срезы (`slice`'s) - это объекты языка Python, позволяющие получить какую-то часть итерируемого объекта.  \n",
    "Пример:"
   ]
  },
  {
   "cell_type": "code",
   "execution_count": 17,
   "metadata": {
    "id": "HBULSoIXGw1z"
   },
   "outputs": [
    {
     "data": {
      "text/plain": [
       "[0, 1, 2, 3, 4, 5, 6, 7, 8, 9]"
      ]
     },
     "execution_count": 17,
     "metadata": {},
     "output_type": "execute_result"
    }
   ],
   "source": [
    "foo = list(range(10))\n",
    "foo"
   ]
  },
  {
   "cell_type": "code",
   "execution_count": 18,
   "metadata": {
    "id": "THekTQaHGw11"
   },
   "outputs": [
    {
     "data": {
      "text/plain": [
       "[0, 1, 2, 3, 4]"
      ]
     },
     "execution_count": 18,
     "metadata": {},
     "output_type": "execute_result"
    }
   ],
   "source": [
    "foo[:5]"
   ]
  },
  {
   "cell_type": "code",
   "execution_count": 19,
   "metadata": {
    "id": "j642PY8CGw15"
   },
   "outputs": [
    {
     "data": {
      "text/plain": [
       "[5, 6, 7, 8, 9]"
      ]
     },
     "execution_count": 19,
     "metadata": {},
     "output_type": "execute_result"
    }
   ],
   "source": [
    "foo[5:]"
   ]
  },
  {
   "cell_type": "code",
   "execution_count": 20,
   "metadata": {
    "id": "zGfCADqAGw17"
   },
   "outputs": [
    {
     "data": {
      "text/plain": [
       "[2, 3, 4]"
      ]
     },
     "execution_count": 20,
     "metadata": {},
     "output_type": "execute_result"
    }
   ],
   "source": [
    "foo[2:5]"
   ]
  },
  {
   "cell_type": "markdown",
   "metadata": {
    "id": "4-_DSyd8Gw2K"
   },
   "source": [
    "* Списки можно \"склеивать\":"
   ]
  },
  {
   "cell_type": "code",
   "execution_count": 21,
   "metadata": {
    "id": "v6LX530dGw2K"
   },
   "outputs": [
    {
     "name": "stdout",
     "output_type": "stream",
     "text": [
      "[1, 2, 3, 4, 5, 6]\n"
     ]
    }
   ],
   "source": [
    "a = [1, 2, 3]\n",
    "b = [4, 5, 6]\n",
    "\n",
    "print(a + b)"
   ]
  },
  {
   "cell_type": "markdown",
   "metadata": {
    "id": "HA7rCsAcGw3O"
   },
   "source": [
    "### Задание 1"
   ]
  },
  {
   "cell_type": "markdown",
   "metadata": {
    "id": "5F8N8lYHGw3P"
   },
   "source": [
    "1. Даны два списка одинаковых размеров из одинаковых элементов:  \n",
    "`items = [1 5 6 9 8 7 2 3 4]`  \n",
    "`shuffled_items = [2 3 4 1 6 5 7 9 8]`  \n",
    "\n",
    "2. Расставьте элементы (с помощью функции `sort()`) в списоке `items` так, чтобы получился список `shuffled_items`  "
   ]
  },
  {
   "cell_type": "code",
   "execution_count": 22,
   "metadata": {
    "id": "cnSSg6bjGw3P"
   },
   "outputs": [
    {
     "name": "stdout",
     "output_type": "stream",
     "text": [
      "[2, 3, 4, 1, 6, 5, 7, 9, 8]\n",
      "[2, 3, 4, 1, 6, 5, 7, 9, 8]\n"
     ]
    }
   ],
   "source": [
    "items = [1, 5, 6, 9, 8, 7, 2, 3, 4]\n",
    "shuffled_items = [2, 3, 4, 1, 6, 5, 7, 9, 8]\n",
    "items.sort(key=lambda x: shuffled_items.index(x))\n",
    "print(items)\n",
    "print(shuffled_items)"
   ]
  },
  {
   "cell_type": "markdown",
   "metadata": {
    "id": "MXFzodUsGw3s"
   },
   "source": [
    "---"
   ]
  },
  {
   "cell_type": "markdown",
   "metadata": {
    "id": "70QerwaDGw3y"
   },
   "source": [
    "### enumerate, zip"
   ]
  },
  {
   "cell_type": "code",
   "execution_count": 23,
   "metadata": {
    "id": "Ywi776zAGw3y"
   },
   "outputs": [
    {
     "name": "stdout",
     "output_type": "stream",
     "text": [
      "['a', 'b', 'c', 'd', 'e', 'f', 'g'] ['1', '2', '3', '4', '']\n"
     ]
    },
    {
     "data": {
      "text/plain": [
       "<zip at 0x2c3593d7dc8>"
      ]
     },
     "execution_count": 23,
     "metadata": {},
     "output_type": "execute_result"
    }
   ],
   "source": [
    "first = 'a b c d e f g'.split(' ')\n",
    "second = '1 2 3 4 '.split(' ')\n",
    "print(first, second)\n",
    "zip(first, second)"
   ]
  },
  {
   "cell_type": "code",
   "execution_count": 24,
   "metadata": {
    "id": "m0yDMUT4PDok"
   },
   "outputs": [
    {
     "data": {
      "text/plain": [
       "(['a', 'b', 'c', 'd', 'e', 'f', 'g'], ['1', '2', '3', '4', ''])"
      ]
     },
     "execution_count": 24,
     "metadata": {},
     "output_type": "execute_result"
    }
   ],
   "source": [
    "first, second"
   ]
  },
  {
   "cell_type": "code",
   "execution_count": 25,
   "metadata": {
    "id": "grtoIeZnGw31"
   },
   "outputs": [
    {
     "data": {
      "text/plain": [
       "[('a', '1', 'a', '1'),\n",
       " ('b', '2', 'b', '2'),\n",
       " ('c', '3', 'c', '3'),\n",
       " ('d', '4', 'd', '4'),\n",
       " ('e', '', 'e', ''),\n",
       " ('f', '1', 'f', '1'),\n",
       " ('g', '2', 'g', '2')]"
      ]
     },
     "execution_count": 25,
     "metadata": {},
     "output_type": "execute_result"
    }
   ],
   "source": [
    "list(zip(first, second * 3, first, second * 2))"
   ]
  },
  {
   "cell_type": "markdown",
   "metadata": {
    "id": "ZPIwoJneGw37"
   },
   "source": [
    "---\n",
    "\n",
    "### Задание 2\n",
    "\n",
    "1. Создайте список `a`, состоящий из каких-то элементов.\n",
    "2. Создайте список `b` такого же размера, как `a`, состоящий из каких-то элементов.\n",
    "3. Выведите нумерованный список пар из элементов списков `a` и `b`."
   ]
  },
  {
   "cell_type": "code",
   "execution_count": 26,
   "metadata": {
    "id": "rucloO5QGw37"
   },
   "outputs": [
    {
     "name": "stdout",
     "output_type": "stream",
     "text": [
      "IDX: 0, PAIR: ('a', 1)\n",
      "IDX: 1, PAIR: ('b', 6)\n",
      "IDX: 2, PAIR: ('c', 9)\n"
     ]
    }
   ],
   "source": [
    "a, b = ['a', 'b', 'c'], [1, 6, 9]\n",
    "for i, pair in enumerate(zip(a, b)):\n",
    "    print(f\"IDX: {i}, PAIR: {pair}\")"
   ]
  },
  {
   "cell_type": "markdown",
   "metadata": {
    "id": "MJJxXLh2Gw37"
   },
   "source": [
    "---"
   ]
  },
  {
   "cell_type": "markdown",
   "metadata": {
    "id": "obbVEyk5Gw4I"
   },
   "source": [
    "### Задание 3"
   ]
  },
  {
   "cell_type": "markdown",
   "metadata": {
    "id": "Px2HOqD9Gw4J"
   },
   "source": [
    "*Выведите* список из 100 чисел *через запятую*. **Чистыми циклами пользоваться нельзя.** (list comprehensions можно)"
   ]
  },
  {
   "cell_type": "code",
   "execution_count": 27,
   "metadata": {
    "id": "fN5BeHS3Gw4J"
   },
   "outputs": [
    {
     "data": {
      "text/plain": [
       "'0, 1, 2, 3, 4, 5, 6, 7, 8, 9, 10, 11, 12, 13, 14, 15, 16, 17, 18, 19, 20, 21, 22, 23, 24, 25, 26, 27, 28, 29, 30, 31, 32, 33, 34, 35, 36, 37, 38, 39, 40, 41, 42, 43, 44, 45, 46, 47, 48, 49, 50, 51, 52, 53, 54, 55, 56, 57, 58, 59, 60, 61, 62, 63, 64, 65, 66, 67, 68, 69, 70, 71, 72, 73, 74, 75, 76, 77, 78, 79, 80, 81, 82, 83, 84, 85, 86, 87, 88, 89, 90, 91, 92, 93, 94, 95, 96, 97, 98, 99'"
      ]
     },
     "execution_count": 27,
     "metadata": {},
     "output_type": "execute_result"
    }
   ],
   "source": [
    "\", \".join([str(i) for i in range(100)])"
   ]
  },
  {
   "cell_type": "markdown",
   "metadata": {
    "id": "F9iEYYVWGw4K"
   },
   "source": [
    "---"
   ]
  },
  {
   "cell_type": "code",
   "execution_count": null,
   "metadata": {
    "id": "_1Ka0XuZ6xb6"
   },
   "outputs": [],
   "source": []
  },
  {
   "cell_type": "code",
   "execution_count": 28,
   "metadata": {
    "id": "3noLimKfGw4e"
   },
   "outputs": [
    {
     "name": "stdout",
     "output_type": "stream",
     "text": [
      "bgf...d\n"
     ]
    }
   ],
   "source": [
    "l = ['agfkd.,f', 'Qksdf;sb&..', 'asdoo*', 'bgf...d', 're54()kj[]].']\n",
    "for num, s in zip([x.count('.') for x in l], l):\n",
    "    if num > 2:\n",
    "        print(s)"
   ]
  },
  {
   "cell_type": "code",
   "execution_count": 29,
   "metadata": {
    "id": "g37MzNKU8nHu"
   },
   "outputs": [
    {
     "data": {
      "text/plain": [
       "['bgf...d']"
      ]
     },
     "execution_count": 29,
     "metadata": {},
     "output_type": "execute_result"
    }
   ],
   "source": [
    "[s for num, s in zip([x.count('.') for x in l], l) if num > 2]"
   ]
  },
  {
   "cell_type": "markdown",
   "metadata": {
    "id": "oqHHZkqkGw4f"
   },
   "source": [
    "---"
   ]
  },
  {
   "cell_type": "markdown",
   "metadata": {
    "id": "-kYdwvhLGw5F"
   },
   "source": [
    "### modules"
   ]
  },
  {
   "cell_type": "markdown",
   "metadata": {
    "id": "i8oVrMMOGw5G"
   },
   "source": [
    "**Модули** - это \"библиотеки\" Python. То есть это самостоятельные, объединённые технически и логически, именованные части Python кода"
   ]
  },
  {
   "cell_type": "markdown",
   "metadata": {
    "id": "8VsaBB8CGw5G"
   },
   "source": [
    "* О модулях необходимо знать только одно - как их импортировать:"
   ]
  },
  {
   "cell_type": "code",
   "execution_count": 30,
   "metadata": {
    "id": "HyDhkTUYGw5H"
   },
   "outputs": [],
   "source": [
    "import collections"
   ]
  },
  {
   "cell_type": "markdown",
   "metadata": {
    "id": "KCOahn9JGw5H"
   },
   "source": [
    "* Импортировать только какой-то компонент из модуля:"
   ]
  },
  {
   "cell_type": "code",
   "execution_count": 31,
   "metadata": {
    "id": "GFTwj3EEGw5H"
   },
   "outputs": [],
   "source": [
    "from collections import Counter"
   ]
  },
  {
   "cell_type": "markdown",
   "metadata": {
    "id": "VXFVpvqwGw5I"
   },
   "source": [
    "* Импортировать с другим именем (чаще всего используется для локаничности кода):"
   ]
  },
  {
   "cell_type": "code",
   "execution_count": 32,
   "metadata": {
    "id": "pDR1RfkAGw5I"
   },
   "outputs": [],
   "source": [
    "import collections as cl"
   ]
  },
  {
   "cell_type": "code",
   "execution_count": 33,
   "metadata": {
    "id": "NXIY7m_zGw5J"
   },
   "outputs": [],
   "source": [
    "count = cl.Counter()"
   ]
  },
  {
   "cell_type": "markdown",
   "metadata": {
    "id": "YxuJA1qgGw5K"
   },
   "source": [
    "Жизненный пример:"
   ]
  },
  {
   "cell_type": "code",
   "execution_count": 34,
   "metadata": {
    "id": "db7fca4LGw5K"
   },
   "outputs": [],
   "source": [
    "import numpy as np"
   ]
  },
  {
   "cell_type": "markdown",
   "metadata": {
    "id": "1q8IsL0_Gw5L"
   },
   "source": [
    "### files"
   ]
  },
  {
   "cell_type": "code",
   "execution_count": 35,
   "metadata": {
    "id": "rEAwf87Q9JP9"
   },
   "outputs": [],
   "source": [
    "!echo 'test file for python-intro notebook' > test.txt"
   ]
  },
  {
   "cell_type": "code",
   "execution_count": 36,
   "metadata": {
    "id": "8ps9pgh_Gw5L"
   },
   "outputs": [],
   "source": [
    "path = './test.txt'"
   ]
  },
  {
   "cell_type": "code",
   "execution_count": 37,
   "metadata": {
    "id": "ivXBlu9EGw5M"
   },
   "outputs": [
    {
     "name": "stdout",
     "output_type": "stream",
     "text": [
      "'test file for python-intro notebook' \n",
      "\n"
     ]
    }
   ],
   "source": [
    "\n",
    "file = open(path, mode='r')\n",
    "print([line for line in file][0])\n",
    "file.close()"
   ]
  },
  {
   "cell_type": "markdown",
   "metadata": {
    "id": "FR3dNC56Gw5N"
   },
   "source": [
    "| Режим | Обозначение |\n",
    "|-------|-------------|\n",
    "| **'r'**  | Открытие на **чтение** (является значением по умолчанию) |\n",
    "| **'rb'** | Открытие на **чтение**, в предположении, что будут считываться **байты** |\n",
    "| **'w'** | Открытие на **запись**, содержимое файла удаляется. Если файла не существует, создается новый |\n",
    "| **'wb**' | Открытие на **запись байтов**, содержимое файла удаляется. Если файла не существует, создается новый |\n",
    "| **'a'** | Открытие на **дозапись**, информация добавляется **в конец файла** |\n",
    "| **'r+'** | Открыть файл на **чтение И запись**. Если файла нет, **новый НЕ создаётся** |\n",
    "| **'a+'** | Открыть файл на **чтение И запись в конец файла**. Если файла нет, **новый создаётся** |\n",
    "| **'t'** | Открытие файла **как текстового** (по умолчанию) |"
   ]
  },
  {
   "cell_type": "code",
   "execution_count": 38,
   "metadata": {
    "id": "NYRCktzbGw5N"
   },
   "outputs": [
    {
     "name": "stdout",
     "output_type": "stream",
     "text": [
      "'test file for python-intro notebook' \n",
      "\n"
     ]
    }
   ],
   "source": [
    "with open(path, mode='r') as test_file:\n",
    "    for line in test_file:\n",
    "        print(line)\n",
    "\n"
   ]
  },
  {
   "cell_type": "markdown",
   "metadata": {
    "id": "6leMOqzKGw5R"
   },
   "source": [
    "### exceptions"
   ]
  },
  {
   "cell_type": "code",
   "execution_count": 39,
   "metadata": {
    "id": "lqdK9vpIGw5R"
   },
   "outputs": [
    {
     "data": {
      "text/plain": [
       "['ArithmeticError',\n",
       " 'AssertionError',\n",
       " 'AttributeError',\n",
       " 'BaseException',\n",
       " 'BlockingIOError',\n",
       " 'BrokenPipeError',\n",
       " 'BufferError',\n",
       " 'BytesWarning',\n",
       " 'ChildProcessError',\n",
       " 'ConnectionAbortedError',\n",
       " 'ConnectionError',\n",
       " 'ConnectionRefusedError',\n",
       " 'ConnectionResetError',\n",
       " 'DeprecationWarning',\n",
       " 'EOFError',\n",
       " 'Ellipsis',\n",
       " 'EnvironmentError',\n",
       " 'Exception',\n",
       " 'False',\n",
       " 'FileExistsError',\n",
       " 'FileNotFoundError',\n",
       " 'FloatingPointError',\n",
       " 'FutureWarning',\n",
       " 'GeneratorExit',\n",
       " 'IOError',\n",
       " 'ImportError',\n",
       " 'ImportWarning',\n",
       " 'IndentationError',\n",
       " 'IndexError',\n",
       " 'InterruptedError',\n",
       " 'IsADirectoryError',\n",
       " 'KeyError',\n",
       " 'KeyboardInterrupt',\n",
       " 'LookupError',\n",
       " 'MemoryError',\n",
       " 'ModuleNotFoundError',\n",
       " 'NameError',\n",
       " 'None',\n",
       " 'NotADirectoryError',\n",
       " 'NotImplemented',\n",
       " 'NotImplementedError',\n",
       " 'OSError',\n",
       " 'OverflowError',\n",
       " 'PendingDeprecationWarning',\n",
       " 'PermissionError',\n",
       " 'ProcessLookupError',\n",
       " 'RecursionError',\n",
       " 'ReferenceError',\n",
       " 'ResourceWarning',\n",
       " 'RuntimeError',\n",
       " 'RuntimeWarning',\n",
       " 'StopAsyncIteration',\n",
       " 'StopIteration',\n",
       " 'SyntaxError',\n",
       " 'SyntaxWarning',\n",
       " 'SystemError',\n",
       " 'SystemExit',\n",
       " 'TabError',\n",
       " 'TimeoutError',\n",
       " 'True',\n",
       " 'TypeError',\n",
       " 'UnboundLocalError',\n",
       " 'UnicodeDecodeError',\n",
       " 'UnicodeEncodeError',\n",
       " 'UnicodeError',\n",
       " 'UnicodeTranslateError',\n",
       " 'UnicodeWarning',\n",
       " 'UserWarning',\n",
       " 'ValueError',\n",
       " 'Warning',\n",
       " 'WindowsError',\n",
       " 'ZeroDivisionError',\n",
       " '__IPYTHON__',\n",
       " '__build_class__',\n",
       " '__debug__',\n",
       " '__doc__',\n",
       " '__import__',\n",
       " '__loader__',\n",
       " '__name__',\n",
       " '__package__',\n",
       " '__spec__',\n",
       " 'abs',\n",
       " 'all',\n",
       " 'any',\n",
       " 'ascii',\n",
       " 'bin',\n",
       " 'bool',\n",
       " 'breakpoint',\n",
       " 'bytearray',\n",
       " 'bytes',\n",
       " 'callable',\n",
       " 'chr',\n",
       " 'classmethod',\n",
       " 'compile',\n",
       " 'complex',\n",
       " 'copyright',\n",
       " 'credits',\n",
       " 'delattr',\n",
       " 'dict',\n",
       " 'dir',\n",
       " 'display',\n",
       " 'divmod',\n",
       " 'enumerate',\n",
       " 'eval',\n",
       " 'exec',\n",
       " 'execfile',\n",
       " 'filter',\n",
       " 'float',\n",
       " 'format',\n",
       " 'frozenset',\n",
       " 'get_ipython',\n",
       " 'getattr',\n",
       " 'globals',\n",
       " 'hasattr',\n",
       " 'hash',\n",
       " 'help',\n",
       " 'hex',\n",
       " 'id',\n",
       " 'input',\n",
       " 'int',\n",
       " 'isinstance',\n",
       " 'issubclass',\n",
       " 'iter',\n",
       " 'len',\n",
       " 'license',\n",
       " 'list',\n",
       " 'locals',\n",
       " 'map',\n",
       " 'max',\n",
       " 'memoryview',\n",
       " 'min',\n",
       " 'next',\n",
       " 'object',\n",
       " 'oct',\n",
       " 'open',\n",
       " 'ord',\n",
       " 'pow',\n",
       " 'print',\n",
       " 'property',\n",
       " 'range',\n",
       " 'repr',\n",
       " 'reversed',\n",
       " 'round',\n",
       " 'runfile',\n",
       " 'set',\n",
       " 'setattr',\n",
       " 'slice',\n",
       " 'sorted',\n",
       " 'staticmethod',\n",
       " 'str',\n",
       " 'sum',\n",
       " 'super',\n",
       " 'tuple',\n",
       " 'type',\n",
       " 'vars',\n",
       " 'zip']"
      ]
     },
     "execution_count": 39,
     "metadata": {},
     "output_type": "execute_result"
    }
   ],
   "source": [
    "dir(__builtin__)"
   ]
  },
  {
   "cell_type": "code",
   "execution_count": 40,
   "metadata": {
    "id": "4fvhuqHWGw5S"
   },
   "outputs": [
    {
     "ename": "KeyboardInterrupt",
     "evalue": "",
     "output_type": "error",
     "traceback": [
      "\u001b[1;31m---------------------------------------------------------------------------\u001b[0m",
      "\u001b[1;31mKeyboardInterrupt\u001b[0m                         Traceback (most recent call last)",
      "\u001b[1;32m~\\AppData\\Local\\Temp/ipykernel_3120/234549669.py\u001b[0m in \u001b[0;36m<module>\u001b[1;34m\u001b[0m\n\u001b[1;32m----> 1\u001b[1;33m \u001b[1;32mraise\u001b[0m \u001b[0mKeyboardInterrupt\u001b[0m\u001b[1;33m(\u001b[0m\u001b[1;33m)\u001b[0m\u001b[1;33m\u001b[0m\u001b[1;33m\u001b[0m\u001b[0m\n\u001b[0m",
      "\u001b[1;31mKeyboardInterrupt\u001b[0m: "
     ]
    }
   ],
   "source": [
    "raise KeyboardInterrupt()"
   ]
  },
  {
   "cell_type": "code",
   "execution_count": 41,
   "metadata": {
    "id": "e-ixo9KZGw5T"
   },
   "outputs": [
    {
     "ename": "KeyError",
     "evalue": "'NEW'",
     "output_type": "error",
     "traceback": [
      "\u001b[1;31m---------------------------------------------------------------------------\u001b[0m",
      "\u001b[1;31mKeyError\u001b[0m                                  Traceback (most recent call last)",
      "\u001b[1;32m~\\AppData\\Local\\Temp/ipykernel_3120/3669362284.py\u001b[0m in \u001b[0;36m<module>\u001b[1;34m\u001b[0m\n\u001b[0;32m      1\u001b[0m \u001b[0mmy_dict\u001b[0m \u001b[1;33m=\u001b[0m \u001b[1;33m{\u001b[0m\u001b[1;36m1\u001b[0m\u001b[1;33m:\u001b[0m \u001b[1;36m100\u001b[0m\u001b[1;33m,\u001b[0m \u001b[1;36m2\u001b[0m\u001b[1;33m:\u001b[0m \u001b[1;36m200\u001b[0m\u001b[1;33m}\u001b[0m\u001b[1;33m\u001b[0m\u001b[1;33m\u001b[0m\u001b[0m\n\u001b[1;32m----> 2\u001b[1;33m \u001b[0mprint\u001b[0m\u001b[1;33m(\u001b[0m\u001b[0mmy_dict\u001b[0m\u001b[1;33m[\u001b[0m\u001b[1;34m'NEW'\u001b[0m\u001b[1;33m]\u001b[0m\u001b[1;33m)\u001b[0m\u001b[1;33m\u001b[0m\u001b[1;33m\u001b[0m\u001b[0m\n\u001b[0m",
      "\u001b[1;31mKeyError\u001b[0m: 'NEW'"
     ]
    }
   ],
   "source": [
    "my_dict = {1: 100, 2: 200}\n",
    "print(my_dict['NEW'])"
   ]
  },
  {
   "cell_type": "code",
   "execution_count": 42,
   "metadata": {
    "id": "AHvxS46MGw5U"
   },
   "outputs": [
    {
     "name": "stdout",
     "output_type": "stream",
     "text": [
      "Caught KeyError!\n"
     ]
    }
   ],
   "source": [
    "try:\n",
    "    my_dict = {1: 100, 2: 200}\n",
    "    print(my_dict['NEW'])\n",
    "except KeyError:\n",
    "    print('Caught KeyError!')"
   ]
  },
  {
   "cell_type": "markdown",
   "metadata": {
    "id": "eh9SR61aGw5U"
   },
   "source": [
    "### Полезные библиотеки Python"
   ]
  },
  {
   "cell_type": "markdown",
   "metadata": {
    "id": "n8z_sEhyGw5V"
   },
   "source": [
    "### glob"
   ]
  },
  {
   "cell_type": "code",
   "execution_count": 43,
   "metadata": {
    "id": "5KYnQ6ARGw5V"
   },
   "outputs": [],
   "source": [
    "import glob"
   ]
  },
  {
   "cell_type": "code",
   "execution_count": 44,
   "metadata": {
    "id": "rtqbatDNGw5W"
   },
   "outputs": [
    {
     "name": "stdout",
     "output_type": "stream",
     "text": [
      "\n",
      "ЋЎ¬Ґ­ Ї ЄҐв ¬Ё б google.com [173.194.220.139] б 32 Ў ©в ¬Ё ¤ ­­ле:\n",
      "ЋвўҐв ®в 173.194.220.139: зЁб«® Ў ©в=32 ўаҐ¬п=19¬б TTL=60\n",
      "ЋвўҐв ®в 173.194.220.139: зЁб«® Ў ©в=32 ўаҐ¬п=19¬б TTL=60\n",
      "ЋвўҐв ®в 173.194.220.139: зЁб«® Ў ©в=32 ўаҐ¬п=19¬б TTL=60\n",
      "ЋвўҐв ®в 173.194.220.139: зЁб«® Ў ©в=32 ўаҐ¬п=18¬б TTL=60\n",
      "\n",
      "‘в вЁбвЁЄ  Ping ¤«п 173.194.220.139:\n",
      "    Џ ЄҐв®ў: ®вЇа ў«Ґ­® = 4, Ї®«гзҐ­® = 4, Ї®вҐап­® = 0\n",
      "    (0% Ї®вҐам)\n",
      "ЏаЁЎ«Ё§ЁвҐ«м­®Ґ ўаҐ¬п ЇаЁҐ¬ -ЇҐаҐ¤ зЁ ў ¬б:\n",
      "    ЊЁ­Ё¬ «м­®Ґ = 18¬бҐЄ, Њ ЄбЁ¬ «м­®Ґ = 19 ¬бҐЄ, ‘аҐ¤­ҐҐ = 18 ¬бҐЄ\n"
     ]
    }
   ],
   "source": [
    "!ping google.com"
   ]
  },
  {
   "cell_type": "code",
   "execution_count": 45,
   "metadata": {
    "id": "-DWVWSFDGw5W"
   },
   "outputs": [
    {
     "data": {
      "text/plain": [
       "[]"
      ]
     },
     "execution_count": 45,
     "metadata": {},
     "output_type": "execute_result"
    }
   ],
   "source": [
    "glob.glob('./[0-9].*')"
   ]
  },
  {
   "cell_type": "code",
   "execution_count": 46,
   "metadata": {
    "id": "ymlN5XWwGw5X"
   },
   "outputs": [
    {
     "data": {
      "text/plain": [
       "[]"
      ]
     },
     "execution_count": 46,
     "metadata": {},
     "output_type": "execute_result"
    }
   ],
   "source": [
    "glob.glob('*.png')"
   ]
  },
  {
   "cell_type": "code",
   "execution_count": 47,
   "metadata": {
    "id": "B9aZ6xpVGw5Y"
   },
   "outputs": [
    {
     "data": {
      "text/plain": [
       "[]"
      ]
     },
     "execution_count": 47,
     "metadata": {},
     "output_type": "execute_result"
    }
   ],
   "source": [
    "glob.glob('?.jpg')"
   ]
  },
  {
   "cell_type": "code",
   "execution_count": 48,
   "metadata": {
    "id": "VnI6S7BSGw5Z"
   },
   "outputs": [
    {
     "data": {
      "text/plain": [
       "['.\\\\']"
      ]
     },
     "execution_count": 48,
     "metadata": {},
     "output_type": "execute_result"
    }
   ],
   "source": [
    "glob.glob('./**/', recursive=True)"
   ]
  },
  {
   "cell_type": "code",
   "execution_count": 49,
   "metadata": {
    "id": "7cowug2JGw5a"
   },
   "outputs": [
    {
     "data": {
      "text/plain": [
       "['info.txt', 'test.txt']"
      ]
     },
     "execution_count": 49,
     "metadata": {},
     "output_type": "execute_result"
    }
   ],
   "source": [
    "glob.glob('**/*.txt', recursive=True)"
   ]
  },
  {
   "cell_type": "markdown",
   "metadata": {
    "id": "n0KYZdNcGw5b"
   },
   "source": [
    "### tqdm"
   ]
  },
  {
   "cell_type": "markdown",
   "metadata": {
    "id": "YM9NS9PeGw5c"
   },
   "source": [
    "* Устанавливаем виджеты:\n",
    "\n",
    "`pip install ipywidgets`  \n",
    "\n",
    "(или `conda install -c conda-forge ipywidgets`)\n",
    "\n",
    "* Разрешаем их использование в Jupyter Notebook:  \n",
    "\n",
    "`jupyter nbextension enable --py --sys-prefix widgetsnbextension`  \n",
    "\n",
    "* Перезагружаем ядро (Restart Kernel)  \n",
    "\n",
    "\n",
    "* Устанавливаем tqdm:  \n",
    "\n",
    "`pip install tqdm`  \n",
    "\n",
    "(или `conda install -c conda-forge tqdm`)  \n",
    "\n",
    "Больше про tqdm: https://pypi.python.org/pypi/tqdm"
   ]
  },
  {
   "cell_type": "code",
   "execution_count": 50,
   "metadata": {
    "id": "Gjf3-0CDGw5c"
   },
   "outputs": [
    {
     "ename": "ModuleNotFoundError",
     "evalue": "No module named 'tqdm'",
     "output_type": "error",
     "traceback": [
      "\u001b[1;31m---------------------------------------------------------------------------\u001b[0m",
      "\u001b[1;31mModuleNotFoundError\u001b[0m                       Traceback (most recent call last)",
      "\u001b[1;32m~\\AppData\\Local\\Temp/ipykernel_3120/190243553.py\u001b[0m in \u001b[0;36m<module>\u001b[1;34m\u001b[0m\n\u001b[1;32m----> 1\u001b[1;33m \u001b[1;32mfrom\u001b[0m \u001b[0mtqdm\u001b[0m \u001b[1;32mimport\u001b[0m \u001b[0mtqdm\u001b[0m\u001b[1;33m\u001b[0m\u001b[1;33m\u001b[0m\u001b[0m\n\u001b[0m\u001b[0;32m      2\u001b[0m \u001b[1;32mfrom\u001b[0m \u001b[0mtqdm\u001b[0m \u001b[1;32mimport\u001b[0m \u001b[0mtnrange\u001b[0m\u001b[1;33m,\u001b[0m \u001b[0mtqdm_notebook\u001b[0m\u001b[1;33m\u001b[0m\u001b[1;33m\u001b[0m\u001b[0m\n\u001b[0;32m      3\u001b[0m \u001b[1;32mfrom\u001b[0m \u001b[0mtime\u001b[0m \u001b[1;32mimport\u001b[0m \u001b[0msleep\u001b[0m\u001b[1;33m\u001b[0m\u001b[1;33m\u001b[0m\u001b[0m\n",
      "\u001b[1;31mModuleNotFoundError\u001b[0m: No module named 'tqdm'"
     ]
    }
   ],
   "source": [
    "from tqdm import tqdm\n",
    "from tqdm import tnrange, tqdm_notebook\n",
    "from time import sleep"
   ]
  },
  {
   "cell_type": "code",
   "execution_count": 51,
   "metadata": {
    "id": "a3b80N6rGw5c"
   },
   "outputs": [
    {
     "ename": "NameError",
     "evalue": "name 'tqdm' is not defined",
     "output_type": "error",
     "traceback": [
      "\u001b[1;31m---------------------------------------------------------------------------\u001b[0m",
      "\u001b[1;31mNameError\u001b[0m                                 Traceback (most recent call last)",
      "\u001b[1;32m~\\AppData\\Local\\Temp/ipykernel_3120/2485539647.py\u001b[0m in \u001b[0;36m<module>\u001b[1;34m\u001b[0m\n\u001b[0;32m      1\u001b[0m \u001b[0mcnt\u001b[0m \u001b[1;33m=\u001b[0m \u001b[1;36m0\u001b[0m\u001b[1;33m\u001b[0m\u001b[1;33m\u001b[0m\u001b[0m\n\u001b[1;32m----> 2\u001b[1;33m \u001b[1;32mfor\u001b[0m \u001b[0mi\u001b[0m \u001b[1;32min\u001b[0m \u001b[0mtqdm\u001b[0m\u001b[1;33m(\u001b[0m\u001b[0mrange\u001b[0m\u001b[1;33m(\u001b[0m\u001b[1;36m1000\u001b[0m\u001b[1;33m)\u001b[0m\u001b[1;33m)\u001b[0m\u001b[1;33m:\u001b[0m\u001b[1;33m\u001b[0m\u001b[1;33m\u001b[0m\u001b[0m\n\u001b[0m\u001b[0;32m      3\u001b[0m     \u001b[0msleep\u001b[0m\u001b[1;33m(\u001b[0m\u001b[1;36m0.01\u001b[0m\u001b[1;33m)\u001b[0m\u001b[1;33m\u001b[0m\u001b[1;33m\u001b[0m\u001b[0m\n\u001b[0;32m      4\u001b[0m     \u001b[0mcnt\u001b[0m \u001b[1;33m+=\u001b[0m \u001b[1;36m1\u001b[0m\u001b[1;33m\u001b[0m\u001b[1;33m\u001b[0m\u001b[0m\n",
      "\u001b[1;31mNameError\u001b[0m: name 'tqdm' is not defined"
     ]
    }
   ],
   "source": [
    "cnt = 0\n",
    "for i in tqdm(range(1000)):\n",
    "    sleep(0.01)\n",
    "    cnt += 1"
   ]
  },
  {
   "cell_type": "code",
   "execution_count": null,
   "metadata": {
    "id": "bHFdvioAGw5d",
    "scrolled": true
   },
   "outputs": [],
   "source": [
    "for i in tnrange(10, desc='1st loop'):\n",
    "    print(i)\n",
    "    for j in tqdm_notebook(range(100), desc='2nd loop', leave=False):\n",
    "        print(j)\n",
    "        sleep(0.01)"
   ]
  },
  {
   "cell_type": "markdown",
   "metadata": {
    "id": "FRMkmKXIGw5d"
   },
   "source": [
    "### collections"
   ]
  },
  {
   "cell_type": "markdown",
   "metadata": {
    "id": "gLqohQ5rGw5f"
   },
   "source": [
    "* `defaultdict()` - класс словаря, у которого есть значение по умолчанию - порой очень пригождается:"
   ]
  },
  {
   "cell_type": "code",
   "execution_count": null,
   "metadata": {
    "id": "G39co0rLGw5h"
   },
   "outputs": [],
   "source": [
    "from collections import defaultdict"
   ]
  },
  {
   "cell_type": "code",
   "execution_count": null,
   "metadata": {
    "id": "Z-QskRLbGw5i"
   },
   "outputs": [],
   "source": [
    "d = defaultdict(int)\n",
    "\n",
    "print(d.get('key', 0))\n",
    "\n",
    "d['key'] = 5\n",
    "print(d['key'])  # 5"
   ]
  },
  {
   "cell_type": "code",
   "execution_count": null,
   "metadata": {
    "id": "esQdFR58Gw5j"
   },
   "outputs": [],
   "source": [
    "d = defaultdict(lambda: 'empty')\n",
    "print(d['key'])\n",
    "\n",
    "d['key'] = 'full'\n",
    "print(d['key'])"
   ]
  },
  {
   "cell_type": "code",
   "execution_count": null,
   "metadata": {
    "id": "7TAmXayD3xVP"
   },
   "outputs": [],
   "source": [
    "temp = defaultdict(lambda: 'empty')\n",
    "temp['trata']\n",
    "print(temp.keys(), temp['trata'])"
   ]
  },
  {
   "cell_type": "code",
   "execution_count": null,
   "metadata": {
    "id": "RWMWkplPGw5m"
   },
   "outputs": [],
   "source": [
    "d = dict()\n",
    "print(d)\n",
    "if 'list1' in d.keys():\n",
    "    d['list1'].append(100)\n",
    "    d['list1'].append(200)\n",
    "else:\n",
    "    d['list1'] = []\n",
    "print(d)\n",
    "print(d['list1'])"
   ]
  },
  {
   "cell_type": "markdown",
   "metadata": {
    "id": "w4XJ967YGw5n"
   },
   "source": [
    "* `Counter()` - класс словаря, предназначенного для счётчиков. По сути, `== defaultdict(int)`:"
   ]
  },
  {
   "cell_type": "code",
   "execution_count": null,
   "metadata": {
    "id": "qQ-NZSr8Gw5o"
   },
   "outputs": [],
   "source": [
    "from collections import Counter"
   ]
  },
  {
   "cell_type": "code",
   "execution_count": null,
   "metadata": {
    "id": "e1DjIXd1Gw5p"
   },
   "outputs": [],
   "source": [
    "counter = Counter()\n",
    "\n",
    "for word in dir(__builtin__):\n",
    "    for letter in word:\n",
    "        counter[letter] += 1  # или .update(value)\n",
    "    \n",
    "print(counter)"
   ]
  },
  {
   "cell_type": "markdown",
   "metadata": {
    "id": "AdU2IypUGw5q"
   },
   "source": [
    "---"
   ]
  },
  {
   "cell_type": "markdown",
   "metadata": {
    "id": "J1upNY5z_utC"
   },
   "source": [
    "# Библиотека Numpy.\n",
    "- ***``Numpy`` - это библиотека Python для вычислительно эффективных операций с многомерными массивами, предназначенная в основном для научных вычислений.***\n",
    "\n",
    "\n",
    "- ***Пакет ``Numpy`` предоставляет $n$-мерные однородные массивы (все элементы одного типа) в них нельзя вставить или удалить элемент в произвольном месте. В ``Numpy`` реализовано много операций над массивами в целом.***"
   ]
  },
  {
   "cell_type": "code",
   "execution_count": 52,
   "metadata": {
    "id": "vkt3rS0X_utC"
   },
   "outputs": [],
   "source": [
    "# !conda install numpy\n",
    "# !pip3 install numpy"
   ]
  },
  {
   "cell_type": "code",
   "execution_count": 53,
   "metadata": {
    "id": "-ACVD36u_utD"
   },
   "outputs": [],
   "source": [
    "import numpy as np"
   ]
  },
  {
   "cell_type": "markdown",
   "metadata": {
    "id": "G7t67Mlv_utD"
   },
   "source": [
    "## 1. Одномерные массивы"
   ]
  },
  {
   "cell_type": "markdown",
   "metadata": {
    "id": "K4JWtd2q_utG"
   },
   "source": [
    "***Если вы не знаете нужной функции, но понимаете, чего хотите, тогда можно воспользоваться поиском в документации.***"
   ]
  },
  {
   "cell_type": "code",
   "execution_count": null,
   "metadata": {
    "id": "A684TRSO_utG"
   },
   "outputs": [],
   "source": [
    "np.lookfor('mean value of array') "
   ]
  },
  {
   "cell_type": "markdown",
   "metadata": {
    "id": "esVuiArA_utG"
   },
   "source": [
    "***Далее можно почитать документацию про контретную функцию.***"
   ]
  },
  {
   "cell_type": "code",
   "execution_count": null,
   "metadata": {
    "id": "Abcqb-QH_utH"
   },
   "outputs": [],
   "source": [
    "?np.ma.mean"
   ]
  },
  {
   "cell_type": "code",
   "execution_count": null,
   "metadata": {
    "id": "zLDAnd4G_utH"
   },
   "outputs": [],
   "source": [
    "np.con*?"
   ]
  },
  {
   "cell_type": "markdown",
   "metadata": {
    "id": "0B7cbpZU_utH"
   },
   "source": [
    "***Посмотрим на количественные характеристики ``ndarray``.***"
   ]
  },
  {
   "cell_type": "code",
   "execution_count": null,
   "metadata": {
    "id": "cOsmLh3o_utI"
   },
   "outputs": [],
   "source": [
    "arr = np.array([[[1, 2, 3, 4],\n",
    "                [2, 3, 4, 3],\n",
    "                [1, 1, 1, 1]], \n",
    "                [[1, 2, 3, 4],\n",
    "                [2, 3, 4, 3],\n",
    "                [1, 1, 1, 1]]])\n",
    "print(arr)"
   ]
  },
  {
   "cell_type": "code",
   "execution_count": null,
   "metadata": {
    "id": "AV1wsl-3_utI"
   },
   "outputs": [],
   "source": [
    "print(\"len:\", len(arr), \"-- количество элементов по первой оси.\",\n",
    "      \"\\nsize:\", arr.size, \"-- всего элементов в матрице.\",\n",
    "      \"\\nndim:\", arr.ndim, \"-- размерность матрицы.\",\n",
    "      \"\\nshape:\", arr.shape, \"-- количество элементов по каждой оси.\")"
   ]
  },
  {
   "cell_type": "markdown",
   "metadata": {
    "id": "I_cLmq7l_utI"
   },
   "source": [
    "***Индексы.***"
   ]
  },
  {
   "cell_type": "code",
   "execution_count": null,
   "metadata": {
    "id": "K2je6I4r_utI"
   },
   "outputs": [],
   "source": [
    "a = np.array([1, 2, 3, 4])\n",
    "a[0], a[1]"
   ]
  },
  {
   "cell_type": "markdown",
   "metadata": {
    "id": "CXNCieKj_utJ"
   },
   "source": [
    "***Последний элемент.***"
   ]
  },
  {
   "cell_type": "code",
   "execution_count": null,
   "metadata": {
    "id": "Mf8ChIln_utJ"
   },
   "outputs": [],
   "source": [
    "a[-1]"
   ]
  },
  {
   "cell_type": "markdown",
   "metadata": {
    "id": "_-3TtUFk_utJ"
   },
   "source": [
    "***Можем изменять объекты массива.***"
   ]
  },
  {
   "cell_type": "code",
   "execution_count": null,
   "metadata": {
    "id": "bWMF-mIP_utJ"
   },
   "outputs": [],
   "source": [
    "a[2] = -1\n",
    "a"
   ]
  },
  {
   "cell_type": "markdown",
   "metadata": {
    "id": "nEba-JFt_utK"
   },
   "source": [
    "### **Задача 1:** \n",
    "Создать numpy-массив, состоящий из первых четырех простых чисел, выведите его тип и размер:"
   ]
  },
  {
   "cell_type": "code",
   "execution_count": null,
   "metadata": {
    "id": "UW0scZM2_utK"
   },
   "outputs": [],
   "source": [
    "# решение\n",
    "a = np.array([2,3,5,7])\n",
    "print(f\"a: {a}, type: {type(a)}, size: {a.size}\")"
   ]
  },
  {
   "cell_type": "markdown",
   "metadata": {
    "id": "rY90YTcw_utL"
   },
   "source": [
    "## Создание массивов."
   ]
  },
  {
   "cell_type": "code",
   "execution_count": null,
   "metadata": {
    "id": "vVFo3DhS_utL"
   },
   "outputs": [],
   "source": [
    "a = np.zeros(7) # массив из нулей\n",
    "b = np.ones(7, dtype=np.int16) # массив из единиц\n",
    "print(a)\n",
    "print(b)"
   ]
  },
  {
   "cell_type": "markdown",
   "metadata": {
    "id": "PIqEGFbD_utL"
   },
   "source": [
    "***Часто нужно создать нулевой массив такой же как другой.***"
   ]
  },
  {
   "cell_type": "code",
   "execution_count": null,
   "metadata": {
    "id": "XNMiwpF5_utL"
   },
   "outputs": [],
   "source": [
    "c = np.zeros(7)\n",
    "c"
   ]
  },
  {
   "cell_type": "code",
   "execution_count": null,
   "metadata": {
    "id": "gl2IwKED_utL"
   },
   "outputs": [],
   "source": [
    "c = np.zeros_like(b)\n",
    "c"
   ]
  },
  {
   "cell_type": "markdown",
   "metadata": {
    "id": "XiMc_ATd_utL"
   },
   "source": [
    "***Функция `np.arange` подобна `range`. Аргументы могут быть с плавающей точкой. Следует избегать ситуаций, когда (конец-начало)/шаг -- целое число, потому что в этом случае включение последнего элемента зависит от ошибок округления. Лучше, чтобы конец диапазона был где-то посредине шага.***"
   ]
  },
  {
   "cell_type": "code",
   "execution_count": null,
   "metadata": {
    "id": "heQ6wJmM_utN"
   },
   "outputs": [],
   "source": [
    "a = np.arange(1, 16, 4)\n",
    "b = np.arange(5., 21, 2)\n",
    "c = np.arange(1, 10)\n",
    "d = np.arange(5)\n",
    "print(a)\n",
    "print(b)\n",
    "print(c)\n",
    "print(d)"
   ]
  },
  {
   "cell_type": "markdown",
   "metadata": {
    "id": "1WTiQphx_utO"
   },
   "source": [
    "***Последовательности чисел с постоянным шагом можно также создавать функцией `linspace`. Начало и конец диапазона включаются; последний аргумент -- число точек.***"
   ]
  },
  {
   "cell_type": "code",
   "execution_count": null,
   "metadata": {
    "id": "OWrTQixa_utO"
   },
   "outputs": [],
   "source": [
    "a = np.linspace(1, 15, 2)\n",
    "b = np.linspace(5, 12, 10)\n",
    "print(a)\n",
    "print(b)"
   ]
  },
  {
   "cell_type": "markdown",
   "metadata": {
    "id": "tinv6a4U_utO"
   },
   "source": [
    "### **Задача 2:** \n",
    "создать и вывести последовательность чисел от 10 до 32 с постоянным шагом, длина последовательности -- 12. Чему равен шаг?"
   ]
  },
  {
   "cell_type": "code",
   "execution_count": null,
   "metadata": {
    "id": "RM2JGLL9_utO"
   },
   "outputs": [],
   "source": [
    "# решение\n",
    "a = np.linspace(10, 32, 12)\n",
    "print(f\"{a}, step: {(33-10+1)/12}\")"
   ]
  },
  {
   "cell_type": "markdown",
   "metadata": {
    "id": "kyBHmBlt_utO"
   },
   "source": [
    "***Последовательность чисел с постоянным шагом по логарифмической шкале от $10^0$ до $10^3$.***"
   ]
  },
  {
   "cell_type": "code",
   "execution_count": null,
   "metadata": {
    "id": "ditH-nIm_utP"
   },
   "outputs": [],
   "source": [
    "#решенение\n",
    "a = np.logspace(0, 3, base=10.0, num=12)\n",
    "a"
   ]
  },
  {
   "cell_type": "markdown",
   "metadata": {
    "id": "6tzHNTTP_utP"
   },
   "source": [
    "## 2. Операции над одномерными массивами."
   ]
  },
  {
   "cell_type": "markdown",
   "metadata": {
    "id": "FCJIPaY7_utP"
   },
   "source": [
    "***Все арифметические операции производятся поэлементно.***"
   ]
  },
  {
   "cell_type": "code",
   "execution_count": null,
   "metadata": {
    "id": "YPxEOhty_utP"
   },
   "outputs": [],
   "source": [
    "print(a)\n",
    "print(b)"
   ]
  },
  {
   "cell_type": "code",
   "execution_count": null,
   "metadata": {
    "id": "GnjOwnni_utP"
   },
   "outputs": [],
   "source": [
    "a = np.linspace(3, 33, 11)\n",
    "b = np.linspace(-2, -22, 11)\n",
    "print(a + b)\n",
    "print(a - b)\n",
    "print(a * b)\n",
    "print(a / b)"
   ]
  },
  {
   "cell_type": "markdown",
   "metadata": {
    "id": "X4Dl5ZPq_utQ"
   },
   "source": [
    "***Один из операндов может быть скаляром, а не массивом.***"
   ]
  },
  {
   "cell_type": "code",
   "execution_count": null,
   "metadata": {
    "id": "VOCLmN8I_utQ"
   },
   "outputs": [],
   "source": [
    "print(5*a)\n",
    "print(10 + b)"
   ]
  },
  {
   "cell_type": "code",
   "execution_count": null,
   "metadata": {
    "id": "iLPBYyBzEt0v"
   },
   "outputs": [],
   "source": [
    "print((a + b) ** 2)\n",
    "print(2 ** (a + b))"
   ]
  },
  {
   "cell_type": "code",
   "execution_count": null,
   "metadata": {
    "id": "8J_xxASK_utR"
   },
   "outputs": [],
   "source": [
    "np.cos(a)"
   ]
  },
  {
   "cell_type": "code",
   "execution_count": null,
   "metadata": {
    "id": "DiAqTLSn_utR"
   },
   "outputs": [],
   "source": [
    "np.log(b)"
   ]
  },
  {
   "cell_type": "markdown",
   "metadata": {
    "id": "mA75T51o_utR"
   },
   "source": [
    "***Логические операции также производятся поэлементно.***"
   ]
  },
  {
   "cell_type": "code",
   "execution_count": null,
   "metadata": {
    "id": "bxg7QoL1_utR"
   },
   "outputs": [],
   "source": [
    "print(a > b)\n",
    "print(a == b)\n",
    "print(a >= 10)"
   ]
  },
  {
   "cell_type": "code",
   "execution_count": null,
   "metadata": {
    "id": "DEFQmPV6_utU"
   },
   "outputs": [],
   "source": [
    "print(np.e, np.pi)"
   ]
  },
  {
   "cell_type": "markdown",
   "metadata": {
    "id": "2CfCkU_Q_utU"
   },
   "source": [
    "***Посмотрим на сортировку numpy-массивов.***"
   ]
  },
  {
   "cell_type": "code",
   "execution_count": null,
   "metadata": {
    "id": "76_uCJUr_utU"
   },
   "outputs": [],
   "source": [
    "a = np.array([1, 5, 6, 10, -2, 0, 18])"
   ]
  },
  {
   "cell_type": "code",
   "execution_count": null,
   "metadata": {
    "id": "eTDAjZJu_utU"
   },
   "outputs": [],
   "source": [
    "print(np.sort(a))\n",
    "print(a)"
   ]
  },
  {
   "cell_type": "markdown",
   "metadata": {
    "id": "95pzhn5c_utU"
   },
   "source": [
    "***Теперь попробуем как метод.***"
   ]
  },
  {
   "cell_type": "code",
   "execution_count": null,
   "metadata": {
    "id": "SFm__ynY_utV"
   },
   "outputs": [],
   "source": [
    "a.sort()\n",
    "print(a)"
   ]
  },
  {
   "cell_type": "code",
   "execution_count": null,
   "metadata": {
    "id": "qWer1GNA_utV"
   },
   "outputs": [],
   "source": [
    "b = np.ones(5)\n",
    "b"
   ]
  },
  {
   "cell_type": "markdown",
   "metadata": {
    "id": "EY8LCSPn_utX"
   },
   "source": [
    "## Индексирование массивов и срезы"
   ]
  },
  {
   "cell_type": "markdown",
   "metadata": {
    "id": "YrQOJXlT_utX"
   },
   "source": [
    "***Массив в обратном порядоке.***"
   ]
  },
  {
   "cell_type": "code",
   "execution_count": null,
   "metadata": {
    "id": "w1EGOsVW_utX"
   },
   "outputs": [],
   "source": [
    "a[::-1]"
   ]
  },
  {
   "cell_type": "markdown",
   "metadata": {
    "id": "7LUt5Rtq_utY"
   },
   "source": [
    "***Диапазон индексов. Создаётся новый заголовок массива, указывающий на те же данные. Изменения, сделанные через такой массив, видны и в исходном массиве.***"
   ]
  },
  {
   "cell_type": "code",
   "execution_count": null,
   "metadata": {
    "id": "Qv-Ijg_k_utY"
   },
   "outputs": [],
   "source": [
    "print(a)"
   ]
  },
  {
   "cell_type": "code",
   "execution_count": null,
   "metadata": {
    "id": "h1taQuOu_utY"
   },
   "outputs": [],
   "source": [
    "a[2:5]"
   ]
  },
  {
   "cell_type": "code",
   "execution_count": null,
   "metadata": {
    "id": "OEzQjMOJ_utY"
   },
   "outputs": [],
   "source": [
    "b = a[0:6] # копия не создается\n",
    "b[1] = -1000\n",
    "print(a)"
   ]
  },
  {
   "cell_type": "markdown",
   "metadata": {
    "id": "FzN23mz7_utY"
   },
   "source": [
    "***Диапозоны с шагами.***"
   ]
  },
  {
   "cell_type": "code",
   "execution_count": null,
   "metadata": {
    "id": "SZJMk-Yy_utZ"
   },
   "outputs": [],
   "source": [
    "b = a[0:4:2]\n",
    "print(b)\n",
    "\n",
    "# подмассиву можно присваивать скаляр\n",
    "a[1:6:3] = 0\n",
    "print(a)"
   ]
  },
  {
   "cell_type": "markdown",
   "metadata": {
    "id": "juHM0Uww_utZ"
   },
   "source": [
    "### **Задание 3:**  \n",
    "- Создать массив чисел от $-4\\pi$  до $4\\pi $, количество точек 100\n",
    "- Посчитать сумму поэлементных квадратов синуса и косинуса для данного массива  \n",
    "- С помощью ``np.all`` проверить, что все элементы равны единице."
   ]
  },
  {
   "cell_type": "code",
   "execution_count": null,
   "metadata": {
    "id": "b0RGOEuk_uta"
   },
   "outputs": [],
   "source": [
    "# решение\n",
    "from math import pi, sin, cos\n",
    "a = np.array([sin(x)**2 + cos(x)**2 for x in np.linspace(-4*pi,4*pi,100)])\n",
    "print(np.allclose(a, np.ones(a.size)))"
   ]
  },
  {
   "cell_type": "markdown",
   "metadata": {
    "id": "lkvf6MZ0_uta"
   },
   "source": [
    "## 3. Двумерные массивы"
   ]
  },
  {
   "cell_type": "code",
   "execution_count": null,
   "metadata": {
    "id": "YQuMJe26_utb"
   },
   "outputs": [],
   "source": [
    "a = np.array([[1, 2], [3, 4]])\n",
    "print(a)"
   ]
  },
  {
   "cell_type": "code",
   "execution_count": null,
   "metadata": {
    "id": "AKY6TxVM_utb"
   },
   "outputs": [],
   "source": [
    "a.ndim, a.shape, len(a), a.size"
   ]
  },
  {
   "cell_type": "markdown",
   "metadata": {
    "id": "iqD53O2Q_utb"
   },
   "source": [
    "***Обращение по индексу.***"
   ]
  },
  {
   "cell_type": "code",
   "execution_count": null,
   "metadata": {
    "id": "4JPJofyc_utb"
   },
   "outputs": [],
   "source": [
    "a[1][1], a[1,1]"
   ]
  },
  {
   "cell_type": "code",
   "execution_count": null,
   "metadata": {
    "id": "-4vrqJGY_utc"
   },
   "outputs": [],
   "source": [
    "a = np.ones((3, 3)) # подать tuple\n",
    "print(a)"
   ]
  },
  {
   "cell_type": "code",
   "execution_count": null,
   "metadata": {
    "id": "jxVHN_Qf_utc"
   },
   "outputs": [],
   "source": [
    "b = np.zeros((3, 4))\n",
    "print(b)"
   ]
  },
  {
   "cell_type": "code",
   "execution_count": null,
   "metadata": {
    "id": "pqYaQeGE_utd"
   },
   "outputs": [],
   "source": [
    "c = np.eye(3)\n",
    "print(c)"
   ]
  },
  {
   "cell_type": "code",
   "execution_count": null,
   "metadata": {
    "id": "V_FgSMPx_utd"
   },
   "outputs": [],
   "source": [
    "d = np.diag(np.array([1, 2, 3, 4]))\n",
    "print(d)"
   ]
  },
  {
   "cell_type": "markdown",
   "metadata": {
    "id": "3Z3_1h8d_utd"
   },
   "source": [
    "### ***Задание 4:***\n",
    "Создать квадратную матрицу размера 8, на главной диаг. арифметическая прогрессия с шагом 3 (начиная с 3), а на побочной -1, остальные элементы 0."
   ]
  },
  {
   "cell_type": "code",
   "execution_count": null,
   "metadata": {
    "id": "vufyLtGG_utd"
   },
   "outputs": [],
   "source": [
    "# решение\n",
    "a = np.diag(np.array([3+3*x for x in range(8)]))\n",
    "b = np.rot90(np.diag(np.array([-1 for x in range(8)])))\n",
    "a+b"
   ]
  },
  {
   "cell_type": "markdown",
   "metadata": {
    "id": "Dzkh3dPi_utd"
   },
   "source": [
    "***Умножение матриц.***"
   ]
  },
  {
   "cell_type": "code",
   "execution_count": null,
   "metadata": {
    "id": "nXuMZb_g_ute"
   },
   "outputs": [],
   "source": [
    "a = 5*np.ones((5, 5))\n",
    "b = np.eye(5) + 1\n",
    "print(a, '\\n')\n",
    "print(b)"
   ]
  },
  {
   "cell_type": "code",
   "execution_count": null,
   "metadata": {
    "id": "t5cZ2JrD_ute"
   },
   "outputs": [],
   "source": [
    "print(a*b, '\\n') # поэлементное умножение\n",
    "print(a @ b, '\\n') # матричное умножение\n",
    "print(a.dot(b)) \n",
    "a =np.array([2,5,8])\n",
    "b= np.array([5,3,7])\n",
    "print(a.dot(b))"
   ]
  },
  {
   "cell_type": "markdown",
   "metadata": {
    "id": "YSBsopHn_uth"
   },
   "source": [
    "***Маски.***"
   ]
  },
  {
   "cell_type": "code",
   "execution_count": null,
   "metadata": {
    "id": "r4OSDlK3_uth"
   },
   "outputs": [],
   "source": [
    "a = np.arange(20)\n",
    "print(a % 3 == 0)\n",
    "print(a[a % 3 == 0])"
   ]
  },
  {
   "cell_type": "markdown",
   "metadata": {
    "id": "7YKwXJIw_uth"
   },
   "source": [
    "***След (trace) - сумма диагональных элементов.***"
   ]
  },
  {
   "cell_type": "code",
   "execution_count": null,
   "metadata": {
    "id": "H5gVZbGH_uth"
   },
   "outputs": [],
   "source": [
    "b = np.diag(a[a >= 10])\n",
    "print(b)\n",
    "print(np.trace(b))"
   ]
  },
  {
   "cell_type": "markdown",
   "metadata": {
    "id": "isiWgLWK_uti"
   },
   "source": [
    "## 4. Тензоры (многомерные массивы)"
   ]
  },
  {
   "cell_type": "code",
   "execution_count": null,
   "metadata": {
    "id": "AUyIWgP2_uti"
   },
   "outputs": [],
   "source": [
    "X = np.arange(64).reshape(8, 2, 4)\n",
    "print(X)"
   ]
  },
  {
   "cell_type": "code",
   "execution_count": null,
   "metadata": {
    "id": "5rOaCZPA_uti"
   },
   "outputs": [],
   "source": [
    "X.shape, len(X), X.size, X.ndim"
   ]
  },
  {
   "cell_type": "markdown",
   "metadata": {
    "id": "5CAEcdZD_uti"
   },
   "source": [
    "***Посмотрим на суммы по разным осям.***"
   ]
  },
  {
   "cell_type": "code",
   "execution_count": null,
   "metadata": {
    "id": "C5GLpba__uti"
   },
   "outputs": [],
   "source": [
    "print(np.sum(X, axis=0), '\\n')\n",
    "print(np.sum(X, axis=1), '\\n')\n",
    "print(np.sum(X, axis=2), '\\n')\n",
    "\n",
    "# суммируем сразу по двум осям, то есть для фиксированной i \n",
    "# суммируем только элементы с индексами (i, *, *)\n",
    "print(np.sum(X, axis=(1, 2)))"
   ]
  },
  {
   "cell_type": "markdown",
   "metadata": {
    "id": "A30UqUOO_utj"
   },
   "source": [
    "## 5. Линейная алгебра"
   ]
  },
  {
   "cell_type": "code",
   "execution_count": null,
   "metadata": {
    "id": "L9yyZxD1_utj"
   },
   "outputs": [],
   "source": [
    "a = np.array([[2, 1], [2, 3]])\n",
    "print(a)"
   ]
  },
  {
   "cell_type": "markdown",
   "metadata": {
    "id": "vPaPbS4i_utj"
   },
   "source": [
    "***Определитель.***"
   ]
  },
  {
   "cell_type": "code",
   "execution_count": null,
   "metadata": {
    "id": "iAEMomd4_utj"
   },
   "outputs": [],
   "source": [
    "np.linalg.det(a)"
   ]
  },
  {
   "cell_type": "markdown",
   "metadata": {
    "id": "NyXE5jgh_utj"
   },
   "source": [
    "***Нахождениия обратной.***"
   ]
  },
  {
   "cell_type": "code",
   "execution_count": null,
   "metadata": {
    "id": "Arj57Cqz_utj"
   },
   "outputs": [],
   "source": [
    "b = np.linalg.inv(a)\n",
    "print(b)"
   ]
  },
  {
   "cell_type": "markdown",
   "metadata": {
    "id": "42yeJ6j_3xVg"
   },
   "source": [
    "# Pandas"
   ]
  },
  {
   "cell_type": "markdown",
   "metadata": {
    "id": "ChvYru-EKEa7"
   },
   "source": [
    "Библиотека `pandas` активно используется в современном data science для работы с данными, которые могут быть представлены в виде таблиц (а это очень, очень большая часть данных)"
   ]
  },
  {
   "cell_type": "markdown",
   "metadata": {
    "id": "Q5b3JXTMKEa8"
   },
   "source": [
    "`pandas` есть в пакете Anaconda, но если вдруг у Вас её по каким-то причинам нет, то можно установить, раскомментировав одну из следующих команд:"
   ]
  },
  {
   "cell_type": "code",
   "execution_count": null,
   "metadata": {
    "id": "CzPmRkr-ZW-i"
   },
   "outputs": [],
   "source": [
    "# !pip3 install pandas\n",
    "# !conda install pandas"
   ]
  },
  {
   "cell_type": "code",
   "execution_count": null,
   "metadata": {
    "id": "g5YZv3pmZW-o"
   },
   "outputs": [],
   "source": [
    "import numpy as np\n",
    "import pandas as pd # Стандартное сокращение для pandas. Всегда используйте его!"
   ]
  },
  {
   "cell_type": "markdown",
   "metadata": {
    "id": "Zw6_T-yiZW-s"
   },
   "source": [
    "## pd.Series\n",
    "\n",
    "Тип данных pd.Series представляет собой одномерный набор данных. Отсутствующий данные записываются как `np.nan` (в этот день термометр сломался или метеоролог был пьян); они не участвуют в вычислении средних, среднеквадратичных отклонений и т.д.\n",
    "\n",
    "### Создание\n",
    "Создадим Series из списка температур"
   ]
  },
  {
   "cell_type": "code",
   "execution_count": null,
   "metadata": {
    "id": "bI2M8ejwZW-t"
   },
   "outputs": [],
   "source": [
    "some_list = [1, 3, 5, np.nan, 6, 8]\n",
    "ser_1 = pd.Series(some_list)\n",
    "ser_1"
   ]
  },
  {
   "cell_type": "code",
   "execution_count": null,
   "metadata": {
    "id": "CtTy0kkEKEbX"
   },
   "outputs": [],
   "source": [
    "# Так же можно в явном виде указать индексы, чтобы потом было более удобно обращаться к элементам\n",
    "ind = ['1st day', '2nd day', '3rd day', '4th day', '5rd day', '6th day']\n",
    "\n",
    "ser_2 = pd.Series(some_list, index=ind)\n",
    "ser_2"
   ]
  },
  {
   "cell_type": "code",
   "execution_count": null,
   "metadata": {
    "id": "2IhYD42aKEbd"
   },
   "outputs": [],
   "source": [
    "ser_2['4th day']"
   ]
  },
  {
   "cell_type": "code",
   "execution_count": null,
   "metadata": {
    "id": "c0oiu9rRKEbh",
    "scrolled": true
   },
   "outputs": [],
   "source": [
    "# А еще можно дать pd.Series имя, чтобы было совсем красиво\n",
    "ser_3 = pd.Series(some_list, index=ind, name='Temperature')\n",
    "ser_3"
   ]
  },
  {
   "cell_type": "markdown",
   "metadata": {
    "id": "IV5MDy4uZW_C"
   },
   "source": [
    "### Индексирование\n",
    "С индексами можно работать так же, как и в случае с обычным list."
   ]
  },
  {
   "cell_type": "code",
   "execution_count": null,
   "metadata": {
    "id": "EeNoPJxeKEbl"
   },
   "outputs": [],
   "source": [
    "print(ser_3[0])\n",
    "\n",
    "print('-----------')\n",
    "\n",
    "print(ser_3[1:3])\n",
    "\n",
    "print('-----------')\n",
    "\n",
    "print(ser_3[::-1])"
   ]
  },
  {
   "cell_type": "markdown",
   "metadata": {
    "id": "GSHqJDTUZW_I"
   },
   "source": [
    "### Индексирование pd.Series по условиям"
   ]
  },
  {
   "cell_type": "code",
   "execution_count": null,
   "metadata": {
    "id": "oz4pJ00pKEcE"
   },
   "outputs": [],
   "source": [
    "date_range = pd.date_range('20190101', periods=10)\n",
    "ser_4 = pd.Series(np.random.rand(10), index=date_range)\n",
    "ser_4"
   ]
  },
  {
   "cell_type": "code",
   "execution_count": null,
   "metadata": {
    "id": "-2tVHwwoKEcJ"
   },
   "outputs": [],
   "source": [
    "ser_4 > 0.5"
   ]
  },
  {
   "cell_type": "markdown",
   "metadata": {
    "id": "TqFAOBKaKEcO"
   },
   "source": [
    "В качестве индекса можно указать выражение, и нам будут возвращены только те элементы, для которых значение является `True`"
   ]
  },
  {
   "cell_type": "code",
   "execution_count": null,
   "metadata": {
    "id": "XL2kbqXeKEcO"
   },
   "outputs": [],
   "source": [
    "ser_4[ser_4 > 0.5]"
   ]
  },
  {
   "cell_type": "code",
   "execution_count": null,
   "metadata": {
    "id": "tSlzr1kqKEcX"
   },
   "outputs": [],
   "source": [
    "ser_4[(ser_4 > 0.6) | (ser_4 < 0.2)]"
   ]
  },
  {
   "cell_type": "code",
   "execution_count": null,
   "metadata": {
    "id": "_tLMZbNwPx_e"
   },
   "outputs": [],
   "source": [
    "ser_4[(ser_4 > 0.6) & (ser_4 < 0.2)]"
   ]
  },
  {
   "cell_type": "markdown",
   "metadata": {
    "id": "6AGQx7lFKEbp"
   },
   "source": [
    "### Сортировки\n",
    "Тип `pd.Series` можно отсортировать как по значениям, так и по индексу."
   ]
  },
  {
   "cell_type": "code",
   "execution_count": null,
   "metadata": {
    "id": "lWUR7nrIKEbq"
   },
   "outputs": [],
   "source": [
    "ser_4.sort_index()"
   ]
  },
  {
   "cell_type": "code",
   "execution_count": null,
   "metadata": {
    "id": "Z5fR1a1vKEbv"
   },
   "outputs": [],
   "source": [
    "ser_4 = ser_4.sort_values()"
   ]
  },
  {
   "cell_type": "code",
   "execution_count": null,
   "metadata": {
    "id": "NyT47vPl2qpV"
   },
   "outputs": [],
   "source": [
    "ser_4"
   ]
  },
  {
   "cell_type": "markdown",
   "metadata": {
    "id": "WdMZMJLVKEb0"
   },
   "source": [
    "### Операции с series\n",
    "Тип `pd.Series` можно модифицировать проще, чем стандартный ``list`` из Python."
   ]
  },
  {
   "cell_type": "code",
   "execution_count": null,
   "metadata": {
    "id": "_61Xk26QKEb0",
    "scrolled": true
   },
   "outputs": [],
   "source": [
    "ser_4 + 100"
   ]
  },
  {
   "cell_type": "code",
   "execution_count": null,
   "metadata": {
    "id": "M3EphsCcKEb4"
   },
   "outputs": [],
   "source": [
    "np.exp(ser_4)"
   ]
  },
  {
   "cell_type": "code",
   "execution_count": null,
   "metadata": {
    "id": "_en6VrNEKEb8"
   },
   "outputs": [],
   "source": [
    "term_1 = pd.Series(np.random.randint(0, 10, 5))\n",
    "term_2 = pd.Series(np.random.randint(0, 10, 6))\n",
    "\n",
    "term_1 + term_2"
   ]
  },
  {
   "cell_type": "code",
   "execution_count": null,
   "metadata": {
    "id": "3oy9-zRjKEcA"
   },
   "outputs": [],
   "source": [
    "term_1.shape"
   ]
  },
  {
   "cell_type": "markdown",
   "metadata": {
    "id": "EMgxxnXLZW_0"
   },
   "source": [
    "# pd.DataFrame\n",
    "\n",
    "Тип данных pd.DataFrame представляет собой двумерную таблицу с данными. Имеет индекс и набор столбцов (возможно, имеющих разные типы). Таблицу можно построить, например, из словаря, значениями в котором являются одномерные наборы данных.\n",
    "### Создание и основные объекты"
   ]
  },
  {
   "cell_type": "code",
   "execution_count": null,
   "metadata": {
    "id": "b92QAcDQZW_1"
   },
   "outputs": [],
   "source": [
    "# Dataframe можно составить из словаря. Ключ будет соответсовать колонке\n",
    "some_dict = {'one': pd.Series([1,2,3], index=['a','b','c']),\n",
    "             'two': pd.Series([1,2,3,4], index=['a','b','c','d']),\n",
    "             'three': pd.Series([5,6,7,8], index=['a','b','c','d'])}\n",
    "df = pd.DataFrame(some_dict)\n",
    "df"
   ]
  },
  {
   "cell_type": "code",
   "execution_count": null,
   "metadata": {
    "id": "DGnYePCpZW_4"
   },
   "outputs": [],
   "source": [
    "#Альтернативно, из списка списков с аргументом columns\n",
    "\n",
    "some_array = [[1,1,5], [2,2,6], [3,3,7], [np.nan, 4,8]]\n",
    "df = pd.DataFrame(some_array, index=['a', 'b', 'c', 'd'], columns=['one', 'two', 'three'])\n",
    "df"
   ]
  },
  {
   "cell_type": "code",
   "execution_count": null,
   "metadata": {
    "id": "dgFLY8UjZW_8"
   },
   "outputs": [],
   "source": [
    "df.values"
   ]
  },
  {
   "cell_type": "code",
   "execution_count": null,
   "metadata": {
    "id": "YOPjWvpPZW__"
   },
   "outputs": [],
   "source": [
    "df.columns"
   ]
  },
  {
   "cell_type": "code",
   "execution_count": null,
   "metadata": {
    "id": "DF4NizSiZXAC"
   },
   "outputs": [],
   "source": [
    "df.columns = ['first_column', 'second_column', 'third_column']\n",
    "df.index = [1,2,3,4]\n",
    "df"
   ]
  },
  {
   "cell_type": "markdown",
   "metadata": {
    "id": "igVwR60BZXAH"
   },
   "source": [
    "### Индексирование \n",
    "Есть очень много способов индексировать DataFrame в Pandas. Не все из них хорошие! Вот несколько удобных, но не универсальных.\n",
    "\n",
    "#### По колонкам\n",
    "Индексирование по колонке возращает pd.Series. Можно выбирать не одну колонку, а сразу несколько. Тогда снова вернётся pd.DataFrame."
   ]
  },
  {
   "cell_type": "code",
   "execution_count": null,
   "metadata": {
    "id": "EKc3GHIIZXAI"
   },
   "outputs": [],
   "source": [
    "first_column = df['first_column']\n",
    "first_column"
   ]
  },
  {
   "cell_type": "code",
   "execution_count": null,
   "metadata": {
    "id": "HknUyy3_ui59"
   },
   "outputs": [],
   "source": [
    "df.first_column"
   ]
  },
  {
   "cell_type": "code",
   "execution_count": null,
   "metadata": {
    "id": "qWPr1WuzZXAM"
   },
   "outputs": [],
   "source": [
    "subset_dataframe = df[['first_column', 'second_column']]\n",
    "subset_dataframe"
   ]
  },
  {
   "cell_type": "code",
   "execution_count": null,
   "metadata": {
    "id": "YMIohBQUmDYP"
   },
   "outputs": [],
   "source": [
    "one_column_dataframe = df[['first_column']]\n",
    "one_column_dataframe"
   ]
  },
  {
   "cell_type": "markdown",
   "metadata": {
    "id": "X5j_j4a0ZXAO"
   },
   "source": [
    "#### По строкам\n",
    "Можно писать любые слайсы, как в Python-списке. Они будут применяться к строкам. Нельзя обращаться по элементу!"
   ]
  },
  {
   "cell_type": "code",
   "execution_count": null,
   "metadata": {
    "id": "avfKJfeNZXAP"
   },
   "outputs": [],
   "source": [
    "df[1] # не сработает"
   ]
  },
  {
   "cell_type": "code",
   "execution_count": null,
   "metadata": {
    "id": "KAynoccTZXAT"
   },
   "outputs": [],
   "source": [
    "df[:1]"
   ]
  },
  {
   "cell_type": "code",
   "execution_count": null,
   "metadata": {
    "id": "BE2ACIw9ZXAX"
   },
   "outputs": [],
   "source": [
    "df[1:4]"
   ]
  },
  {
   "cell_type": "markdown",
   "metadata": {
    "id": "_nAgxLhvZXAa"
   },
   "source": [
    "#### Универсальное индексирование: .loc и .iloc\n",
    "\n",
    ".loc и .iloc --- это два взаимозаменяемых атрибута, которые позволяют индексировать по обеим осям сразу. Путаницы не возникает из-за фиксированного порядка перечисления осей."
   ]
  },
  {
   "cell_type": "code",
   "execution_count": null,
   "metadata": {
    "id": "vnqS2YQSZXAb"
   },
   "outputs": [],
   "source": [
    "# По индексам: \n",
    "df.iloc[1:3, :2]"
   ]
  },
  {
   "cell_type": "code",
   "execution_count": null,
   "metadata": {
    "id": "zYFDmyKuZXAe"
   },
   "outputs": [],
   "source": [
    "df.loc[1:3, ['first_column', 'second_column']]"
   ]
  },
  {
   "cell_type": "markdown",
   "metadata": {
    "id": "5t-ftb9cZXAh"
   },
   "source": [
    "Лучше использовать по умолчанию либо только loc, либо только .iloc! А лучше вообще всегда только .iloc, чтобы не запутаться."
   ]
  },
  {
   "cell_type": "markdown",
   "metadata": {
    "id": "5CNJP5R9ZXAi"
   },
   "source": [
    "### Модификации датасета, создание новых колонок\n",
    "Можно просто брать и создавать новую колонку. Синтаксис тут вполне естественный."
   ]
  },
  {
   "cell_type": "code",
   "execution_count": null,
   "metadata": {
    "id": "6kaeuYv5ZXAi"
   },
   "outputs": [],
   "source": [
    "new_column = [5,2,1,4]\n",
    "df['new_column'] = new_column\n",
    "df"
   ]
  },
  {
   "cell_type": "markdown",
   "metadata": {
    "id": "5YE5poCmZXAm"
   },
   "source": [
    "Аналогично, можно применять к отдельным колонкам арифметические операции (ведь колонки --- это Series!)"
   ]
  },
  {
   "cell_type": "code",
   "execution_count": null,
   "metadata": {
    "id": "9mHh66JYZXAm"
   },
   "outputs": [],
   "source": [
    "df['first_column'] = df['first_column'] * 10\n",
    "df"
   ]
  },
  {
   "cell_type": "markdown",
   "metadata": {
    "id": "RFRifpW7ZXAq"
   },
   "source": [
    "## Реальный датасет\n",
    "Мы будем работать с датасетом ``Титаник``. Файлы необходимо скачать локально или загрузить с помощью функции ниже.\n",
    "![alt text](https://drive.google.com/uc?id=1Tb52nFFsjI8sqv0AlMpx25aNJ62xzp5w)\n",
    "\n",
    "Информация о файлах: \n",
    " - *titanic_data.csv* содержит различную информацию о пассажирах Титаника (билет, класс, возраст и т.п.)\n",
    " - *titanic_surv.csv* содержит для каждого пассажира из первого файла информацию о том, выжил ли этот пассажир (метка 1) или нет (метка 0)\n",
    "\n",
    "\n",
    "### Чтение из файла\n",
    "Обычно данные хранятся в виде таблиц в файлах формата .csv или .xlsx. На этом семинаре мы будем загружать данные из .csv файлов.\n",
    "\n",
    "\n",
    " \n",
    "Загрузим первый файл"
   ]
  },
  {
   "cell_type": "code",
   "execution_count": 5,
   "metadata": {
    "id": "09s-lp8cZXAr"
   },
   "outputs": [
    {
     "ename": "NameError",
     "evalue": "name 'pd' is not defined",
     "output_type": "error",
     "traceback": [
      "\u001b[1;31m---------------------------------------------------------------------------\u001b[0m",
      "\u001b[1;31mNameError\u001b[0m                                 Traceback (most recent call last)",
      "\u001b[1;32m~\\AppData\\Local\\Temp/ipykernel_3120/3608244807.py\u001b[0m in \u001b[0;36m<module>\u001b[1;34m\u001b[0m\n\u001b[0;32m      1\u001b[0m \u001b[1;31m# df_1 = pd.read_csv('titanic_data.csv')\u001b[0m\u001b[1;33m\u001b[0m\u001b[1;33m\u001b[0m\u001b[1;33m\u001b[0m\u001b[0m\n\u001b[0;32m      2\u001b[0m \u001b[0mpass_link\u001b[0m \u001b[1;33m=\u001b[0m \u001b[1;34m'https://www.dropbox.com/s/lyzcuxu1pdrw5qb/titanic_data.csv?dl=1'\u001b[0m\u001b[1;33m\u001b[0m\u001b[1;33m\u001b[0m\u001b[0m\n\u001b[1;32m----> 3\u001b[1;33m \u001b[0mtitanic_passengers\u001b[0m \u001b[1;33m=\u001b[0m \u001b[0mpd\u001b[0m\u001b[1;33m.\u001b[0m\u001b[0mread_csv\u001b[0m\u001b[1;33m(\u001b[0m\u001b[0mpass_link\u001b[0m\u001b[1;33m,\u001b[0m \u001b[0mindex_col\u001b[0m\u001b[1;33m=\u001b[0m\u001b[1;34m'PassengerId'\u001b[0m\u001b[1;33m)\u001b[0m \u001b[1;31m# index_col=?\u001b[0m\u001b[1;33m\u001b[0m\u001b[1;33m\u001b[0m\u001b[0m\n\u001b[0m",
      "\u001b[1;31mNameError\u001b[0m: name 'pd' is not defined"
     ]
    }
   ],
   "source": [
    "# df_1 = pd.read_csv('titanic_data.csv')\n",
    "pass_link = 'https://www.dropbox.com/s/lyzcuxu1pdrw5qb/titanic_data.csv?dl=1'\n",
    "titanic_passengers = pd.read_csv(pass_link, index_col='PassengerId') # index_col=?"
   ]
  },
  {
   "cell_type": "code",
   "execution_count": null,
   "metadata": {
    "id": "tK0Q-0SwZXAu"
   },
   "outputs": [],
   "source": [
    "print('Всего пассажиров: ', len(titanic_passengers))\n",
    "titanic_passengers.head(10)"
   ]
  },
  {
   "cell_type": "markdown",
   "metadata": {
    "id": "ctQdw9QJKEdS"
   },
   "source": [
    "### Разная информация о датасете\n",
    "\n",
    "Можно узнать размер таблицы, информацию о значениях таблицы, различные статистики по значениям."
   ]
  },
  {
   "cell_type": "code",
   "execution_count": null,
   "metadata": {
    "id": "KV2UGt9KKEdS"
   },
   "outputs": [],
   "source": [
    "titanic_passengers.shape"
   ]
  },
  {
   "cell_type": "code",
   "execution_count": null,
   "metadata": {
    "id": "0oYzDhBpKEdW"
   },
   "outputs": [],
   "source": [
    "titanic_passengers.info()"
   ]
  },
  {
   "cell_type": "code",
   "execution_count": null,
   "metadata": {
    "id": "hwIV2xUNZXA4"
   },
   "outputs": [],
   "source": [
    "titanic_passengers.describe()"
   ]
  },
  {
   "cell_type": "markdown",
   "metadata": {
    "id": "g5xmllriZXA7"
   },
   "source": [
    "## Задание 1 \n",
    "Опишите данный датасет: какое расределение женщин/мужчин в нем? Сколько пассажиров ехало в каждом классе? Какой средний/минимальный/максимальный возраст пассажиров?"
   ]
  },
  {
   "cell_type": "code",
   "execution_count": null,
   "metadata": {
    "id": "mfzKrjCGZXA7"
   },
   "outputs": [],
   "source": [
    "(titanic_passengers['Age'].min(), titanic_passengers['Age'].mean(), titanic_passengers['Age'].max())"
   ]
  },
  {
   "cell_type": "code",
   "execution_count": null,
   "metadata": {
    "id": "kttv99jP62oa"
   },
   "outputs": [],
   "source": [
    "titanic_passengers['Sex'].value_counts()"
   ]
  },
  {
   "cell_type": "code",
   "execution_count": null,
   "metadata": {
    "id": "Abzvok6x7F1J"
   },
   "outputs": [],
   "source": [
    "titanic_passengers['Pclass'].value_counts()"
   ]
  },
  {
   "cell_type": "markdown",
   "metadata": {
    "id": "t5uMRdo9ZXBA"
   },
   "source": [
    "## Задание 2\n",
    "Сгруппируйте записи по классам пассажиров, в каждой группе посчитайте средний возраст. Используйте метод ``pandas.DataFrame.groupby``."
   ]
  },
  {
   "cell_type": "code",
   "execution_count": null,
   "metadata": {
    "id": "xiy74OyzZXBB"
   },
   "outputs": [],
   "source": [
    "# решение\n",
    "titanic_passengers.groupby(['Pclass'])['Age'].mean()"
   ]
  },
  {
   "cell_type": "markdown",
   "metadata": {
    "id": "j0vCpyp6ZXBF"
   },
   "source": [
    "## Слияние таблиц\n",
    "Таблицы можно сливать несколькими способами. Мы рассмотрим слияние по индексу: метод называется ``pd.join``."
   ]
  },
  {
   "cell_type": "code",
   "execution_count": null,
   "metadata": {
    "id": "9hRs1VtpZXBG"
   },
   "outputs": [],
   "source": [
    "# df_2 = pd.read_csv('titanic_surv.csv')\n",
    "surv_link = 'https://www.dropbox.com/s/v35x9i6a1tc7emm/titanic_surv.csv?dl=1'\n",
    "df_2 = pd.read_csv(surv_link)"
   ]
  },
  {
   "cell_type": "code",
   "execution_count": null,
   "metadata": {
    "id": "NwdiJWqG6k6J"
   },
   "outputs": [],
   "source": [
    "df_2.head()"
   ]
  },
  {
   "cell_type": "markdown",
   "metadata": {
    "id": "EuO4PhriZXBL"
   },
   "source": [
    "### Задание 3.\n",
    "Слейте два датасета по колонке индекса."
   ]
  },
  {
   "cell_type": "code",
   "execution_count": null,
   "metadata": {
    "id": "r3sLiKyAmSGM"
   },
   "outputs": [],
   "source": [
    "# решение\n",
    "result = pd.concat([titanic_passengers, df_2], axis=1)\n",
    "result.head()"
   ]
  },
  {
   "cell_type": "markdown",
   "metadata": {
    "id": "nJFa-316ZXBP"
   },
   "source": [
    "### Задание 4. \n",
    "Сколько всего выживших пассажиров? Выживших пассажиров по каждому из полов? Постройте матрицу корреляций факта выживания, пола и возраста."
   ]
  },
  {
   "cell_type": "code",
   "execution_count": 4,
   "metadata": {
    "id": "b3IeLXJw3xVs"
   },
   "outputs": [
    {
     "ename": "NameError",
     "evalue": "name 'result' is not defined",
     "output_type": "error",
     "traceback": [
      "\u001b[1;31m---------------------------------------------------------------------------\u001b[0m",
      "\u001b[1;31mNameError\u001b[0m                                 Traceback (most recent call last)",
      "\u001b[1;32m~\\AppData\\Local\\Temp/ipykernel_3120/633576151.py\u001b[0m in \u001b[0;36m<module>\u001b[1;34m\u001b[0m\n\u001b[0;32m      1\u001b[0m \u001b[1;31m# решение\u001b[0m\u001b[1;33m\u001b[0m\u001b[1;33m\u001b[0m\u001b[1;33m\u001b[0m\u001b[0m\n\u001b[1;32m----> 2\u001b[1;33m \u001b[0msub\u001b[0m \u001b[1;33m=\u001b[0m \u001b[0mresult\u001b[0m\u001b[1;33m[\u001b[0m\u001b[1;33m[\u001b[0m\u001b[1;34m'Age'\u001b[0m\u001b[1;33m,\u001b[0m\u001b[1;34m'Sex'\u001b[0m\u001b[1;33m,\u001b[0m\u001b[1;34m'Survived'\u001b[0m\u001b[1;33m]\u001b[0m\u001b[1;33m]\u001b[0m\u001b[1;33m\u001b[0m\u001b[1;33m\u001b[0m\u001b[0m\n\u001b[0m\u001b[0;32m      3\u001b[0m \u001b[1;33m\u001b[0m\u001b[0m\n\u001b[0;32m      4\u001b[0m \u001b[0msurvived\u001b[0m \u001b[1;33m=\u001b[0m \u001b[0msub\u001b[0m\u001b[1;33m[\u001b[0m\u001b[0mresult\u001b[0m\u001b[1;33m[\u001b[0m\u001b[1;34m'Survived'\u001b[0m\u001b[1;33m]\u001b[0m \u001b[1;33m==\u001b[0m \u001b[1;36m1.0\u001b[0m\u001b[1;33m]\u001b[0m\u001b[1;33m\u001b[0m\u001b[1;33m\u001b[0m\u001b[0m\n\u001b[0;32m      5\u001b[0m \u001b[0msurvived_male\u001b[0m \u001b[1;33m=\u001b[0m \u001b[0msurvived\u001b[0m\u001b[1;33m[\u001b[0m\u001b[0msurvived\u001b[0m\u001b[1;33m[\u001b[0m\u001b[1;34m'Sex'\u001b[0m\u001b[1;33m]\u001b[0m \u001b[1;33m==\u001b[0m \u001b[1;34m'male'\u001b[0m\u001b[1;33m]\u001b[0m\u001b[1;33m\u001b[0m\u001b[1;33m\u001b[0m\u001b[0m\n",
      "\u001b[1;31mNameError\u001b[0m: name 'result' is not defined"
     ]
    }
   ],
   "source": [
    "# решение\n",
    "sub = result[['Age','Sex','Survived']]\n",
    "\n",
    "survived = sub[result['Survived'] == 1.0]\n",
    "survived_male = survived[survived['Sex'] == 'male']\n",
    "survived_female = survived[survived['Sex'] == 'female']\n",
    "\n",
    "print(f\"Выжило: {sum(survived.value_counts())}\")\n",
    "print(f\"Выжило male: {sum(survived_male.value_counts())}\")\n",
    "print(f\"Выжило female: {sum(survived_female.value_counts())}\")\n",
    "\n"
   ]
  },
  {
   "cell_type": "code",
   "execution_count": null,
   "metadata": {
    "id": "F9UP4UuQ78Nz"
   },
   "outputs": [],
   "source": [
    "import seaborn as sns"
   ]
  },
  {
   "cell_type": "code",
   "execution_count": null,
   "metadata": {
    "id": "2un98ldF8CSs"
   },
   "outputs": [],
   "source": [
    "pd.options.mode.chained_assignment = None  # default='warn'\n",
    "sub['Sex'] = sub['Sex'].replace('male', 1).replace('female', 0)\n",
    "sns.heatmap(\n",
    "    # сюда нужно подставить матрицу корреляции\n",
    "    sub.corr(),\n",
    "    annot=True, cmap='coolwarm',\n",
    "    vmin=-1, vmax=1,\n",
    "    annot_kws={\"size\": 16})"
   ]
  },
  {
   "cell_type": "code",
   "execution_count": null,
   "metadata": {
    "id": "FDDBYZn83xVs"
   },
   "outputs": [],
   "source": []
  }
 ],
 "metadata": {
  "colab": {
   "collapsed_sections": [
    "P7kqThRsGw1S",
    "2mnxxvHxGw0c",
    "QrloQ6pcGw0w",
    "e6LOqPpYGw1T",
    "HA7rCsAcGw3O",
    "70QerwaDGw3y",
    "ZPIwoJneGw37",
    "obbVEyk5Gw4I",
    "-kYdwvhLGw5F",
    "1q8IsL0_Gw5L",
    "6leMOqzKGw5R",
    "eh9SR61aGw5U",
    "n8z_sEhyGw5V",
    "n0KYZdNcGw5b",
    "FRMkmKXIGw5d",
    "3Z3_1h8d_utd",
    "WdMZMJLVKEb0"
   ],
   "name": "lab1.ipynb",
   "provenance": []
  },
  "kernelspec": {
   "display_name": "Python 3 (ipykernel)",
   "language": "python",
   "name": "python3"
  },
  "language_info": {
   "codemirror_mode": {
    "name": "ipython",
    "version": 3
   },
   "file_extension": ".py",
   "mimetype": "text/x-python",
   "name": "python",
   "nbconvert_exporter": "python",
   "pygments_lexer": "ipython3",
   "version": "3.7.2rc1"
  }
 },
 "nbformat": 4,
 "nbformat_minor": 4
}
