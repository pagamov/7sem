{
 "cells": [
  {
   "cell_type": "code",
   "execution_count": 1,
   "id": "ebd15978-67c6-41ff-b799-5f4cb8a70a46",
   "metadata": {},
   "outputs": [],
   "source": [
    "import matplotlib.pyplot as plt\n",
    "import seaborn as sns\n",
    "import pandas as pd\n",
    "import numpy as np\n",
    "from math import sqrt\n",
    "%matplotlib inline\n",
    "sns.set(style=\"darkgrid\")"
   ]
  },
  {
   "cell_type": "markdown",
   "id": "cc1d90c5-1bd8-4941-b845-89b6c903eb9d",
   "metadata": {},
   "source": [
    "### 1. Классификация. Датасет тяжесть заболеваемости ковидом в зависимости от симптомов. Метрика качества RMSE (?)"
   ]
  },
  {
   "cell_type": "code",
   "execution_count": 2,
   "id": "3de57a30-dde6-46f8-9b0d-febb0721e8f7",
   "metadata": {},
   "outputs": [],
   "source": [
    "data = pd.read_csv(\"4labDataCovidClassification.csv\")"
   ]
  },
  {
   "cell_type": "code",
   "execution_count": 3,
   "id": "4c289c4e-a0e4-486a-b909-4775e3edb813",
   "metadata": {},
   "outputs": [
    {
     "data": {
      "text/plain": [
       "(316800, 27)"
      ]
     },
     "execution_count": 3,
     "metadata": {},
     "output_type": "execute_result"
    }
   ],
   "source": [
    "data.shape"
   ]
  },
  {
   "cell_type": "markdown",
   "id": "17ae6549-aa37-42ac-9f2c-df9f27b725f1",
   "metadata": {},
   "source": [
    "### 2. Препроцессинг данных"
   ]
  },
  {
   "cell_type": "code",
   "execution_count": 4,
   "id": "02bb583c",
   "metadata": {},
   "outputs": [
    {
     "data": {
      "text/plain": [
       "Index(['Fever', 'Tiredness', 'Dry-Cough', 'Difficulty-in-Breathing',\n",
       "       'Sore-Throat', 'None_Sympton', 'Pains', 'Nasal-Congestion',\n",
       "       'Runny-Nose', 'Diarrhea', 'None_Experiencing', 'Age_0-9', 'Age_10-19',\n",
       "       'Age_20-24', 'Age_25-59', 'Age_60+', 'Gender_Female', 'Gender_Male',\n",
       "       'Gender_Transgender', 'Severity_Mild', 'Severity_Moderate',\n",
       "       'Severity_None', 'Severity_Severe', 'Contact_Dont-Know', 'Contact_No',\n",
       "       'Contact_Yes', 'Country'],\n",
       "      dtype='object')"
      ]
     },
     "execution_count": 4,
     "metadata": {},
     "output_type": "execute_result"
    }
   ],
   "source": [
    "data.columns"
   ]
  },
  {
   "cell_type": "markdown",
   "id": "c4a6d245-c68b-4b57-b3bd-e79d7b75c98c",
   "metadata": {},
   "source": [
    "#### Severity_Mild (незначительная тяжесть), Severity_Moderate (средняя тяжесть), Severity_None (не болеет), Severity_Severe (тяжелая форма болезни)"
   ]
  },
  {
   "cell_type": "markdown",
   "id": "f34ca005-f21d-46ec-92f0-de06b5f5cf4a",
   "metadata": {},
   "source": [
    "### 2*. Посмотрим на корреляцию данных. Можно заметить возмущения в первых столбцах, некоторые симптомы ведут за собой другие."
   ]
  },
  {
   "cell_type": "code",
   "execution_count": 5,
   "id": "95bf7772-ffa1-4633-8412-bbe7e4c8816b",
   "metadata": {},
   "outputs": [],
   "source": [
    "# figure = plt.figure(figsize=(30,30))\n",
    "# sns.heatmap(data.corr(), annot=True, cmap='coolwarm')"
   ]
  },
  {
   "cell_type": "markdown",
   "id": "87d7badd-b626-414a-b6af-2604401c7fc5",
   "metadata": {
    "tags": []
   },
   "source": [
    "### 3. Реализация метрики качества. \\\\ аргументировать выбор метрики качества "
   ]
  },
  {
   "cell_type": "code",
   "execution_count": null,
   "id": "2f1a67ef-4033-4017-96a5-f3fc8a51a8e7",
   "metadata": {},
   "outputs": [],
   "source": []
  },
  {
   "cell_type": "markdown",
   "id": "15682ad2-a0cf-47f2-b6c8-d31c4533983b",
   "metadata": {},
   "source": [
    "### Разбиение на обучающую и тестовую выборки"
   ]
  },
  {
   "cell_type": "code",
   "execution_count": 6,
   "id": "4edf2250-e1bd-4fe9-8813-59f5b40fb2f0",
   "metadata": {},
   "outputs": [],
   "source": [
    "indicators = ['Fever', 'Tiredness', 'Dry-Cough',  'Difficulty-in-Breathing', 'Sore-Throat', \n",
    "              'Pains', 'Nasal-Congestion', 'Runny-Nose', 'Diarrhea', 'Age_0-9', 'Age_10-19', \n",
    "              'Age_20-24', 'Age_25-59', 'Age_60+', 'Gender_Male', 'Gender_Female', \n",
    "              'Gender_Transgender','Contact_Dont-Know', 'Contact_No', 'Contact_Yes']\n",
    "\n",
    "target_columns = ['Severity_None']\n",
    "\n",
    "X = data[indicators]\n",
    "y = data[target_columns]"
   ]
  },
  {
   "cell_type": "code",
   "execution_count": 7,
   "id": "fac610ef-48f6-4f74-80dd-be137ccfe0ca",
   "metadata": {},
   "outputs": [],
   "source": [
    "# from sklearn.preprocessing import StandardScaler\n",
    "# X = StandardScaler().fit_transform(X)"
   ]
  },
  {
   "cell_type": "code",
   "execution_count": 8,
   "id": "2a4c1eac-a8c7-4ec6-9f31-9e8e64b96528",
   "metadata": {},
   "outputs": [],
   "source": [
    "from sklearn.model_selection import train_test_split\n",
    "X_train, X_test, y_train, y_test = train_test_split(X.to_numpy(), y, test_size=0.3)"
   ]
  },
  {
   "cell_type": "code",
   "execution_count": 9,
   "id": "c7a019aa-8ee0-417f-a3e4-dfb0f5fe7778",
   "metadata": {},
   "outputs": [
    {
     "data": {
      "text/plain": [
       "((221760, 20), (95040, 20))"
      ]
     },
     "execution_count": 9,
     "metadata": {},
     "output_type": "execute_result"
    }
   ],
   "source": [
    "X_train.shape, X_test.shape"
   ]
  },
  {
   "cell_type": "markdown",
   "id": "42d60cf6-34da-418f-a401-244a78880f78",
   "metadata": {},
   "source": [
    "### 4. Реализовать и обучить логистическую регрессию или линейную регрессию \\\\ !!!не разрешается использовать sklearn!!!"
   ]
  },
  {
   "cell_type": "code",
   "execution_count": 10,
   "id": "bf9c5f30-a127-461e-bfad-1cba75ca96fd",
   "metadata": {},
   "outputs": [],
   "source": [
    "class LR:\n",
    "    def __init__(self, step=10**-2, it_c=10, batch=60000):\n",
    "        self.step = step\n",
    "        self.it_c = it_c\n",
    "        self.batch = batch\n",
    "\n",
    "    def get_coeff(self, x, y):\n",
    "        return self.err(x, y.to_numpy())\n",
    "    \n",
    "    def err(self, x, y):\n",
    "        err = sum(list(map(lambda i : 1 if self.predict(x[i]) == y[i] else 0, range(len(y)))))\n",
    "        return err / len(y)\n",
    "    \n",
    "    def fit(self, x, y):\n",
    "        y = y.to_numpy()\n",
    "        y = np.array([y[i][0] for i in range(len(y))])\n",
    "        np.c_[x, np.ones(len(x))]\n",
    "        self.w = np.zeros(x.shape[1])\n",
    "        h = []\n",
    "        for i in range(self.it_c):\n",
    "            for b in range(0, len(x), self.batch):\n",
    "                xx = x[b:min(b+self.batch,len(x))]\n",
    "                yy = y[b:min(b+self.batch,len(x))]\n",
    "                z = [sum([xx[i][j]*self.w[j] for j in range(len(xx[i]))]) for i in range(len(xx))]\n",
    "                res = np.array([1 / (1 + np.exp(-a)) for a in z])\n",
    "                grad = np.dot(xx.T, res - yy) / yy.size\n",
    "                self.w -= self.step * grad\n",
    "            h.append(self.err(x, y))\n",
    "        return h\n",
    "            \n",
    "    def predict(self, x):\n",
    "        np.append(x,1)\n",
    "        return (1 / (1 + np.exp(-np.dot(x, self.w)))).round()"
   ]
  },
  {
   "cell_type": "code",
   "execution_count": 11,
   "id": "44666814-138a-4441-9bf9-f636c4b95cb4",
   "metadata": {},
   "outputs": [
    {
     "name": "stdout",
     "output_type": "stream",
     "text": [
      "моя LogReg: 0.7492213804713804\n"
     ]
    }
   ],
   "source": [
    "mlg = LR()\n",
    "hist = mlg.fit(X_train, y_train)\n",
    "print(f\"моя LogReg: {mlg.get_coeff(X_test, y_test)}\")"
   ]
  },
  {
   "cell_type": "markdown",
   "id": "7a99b881-58df-44d3-813e-3e989f606a3d",
   "metadata": {},
   "source": [
    "### 4*. Добавить регуляризацию \\\\ не разрешается использовать sklearn"
   ]
  },
  {
   "cell_type": "code",
   "execution_count": null,
   "id": "2017457d-7713-4bd7-aaf2-e2e0f637e6e8",
   "metadata": {},
   "outputs": [],
   "source": []
  },
  {
   "cell_type": "markdown",
   "id": "1df0af18-0024-4505-a7dd-7821c9eb2809",
   "metadata": {},
   "source": [
    "### 5. Оценить качество модели на обучающей и тестовой выборках \\\\ не разрешается использовать sklearn"
   ]
  },
  {
   "cell_type": "code",
   "execution_count": null,
   "id": "a37ed0b2-180a-484c-90cf-1e8bcd69646f",
   "metadata": {},
   "outputs": [],
   "source": []
  },
  {
   "cell_type": "markdown",
   "id": "13f69bfb-d651-4626-8eb5-cc20db8d8e80",
   "metadata": {},
   "source": [
    "### 5*. Сделать график ошибки модели на обучающей и тестовой выборках \n",
    "### 5*. Сделать график точности модели на обучающей и тестовой выборках"
   ]
  },
  {
   "cell_type": "code",
   "execution_count": 12,
   "id": "a79d58f2-896c-4251-95da-97dd22f91a99",
   "metadata": {},
   "outputs": [
    {
     "data": {
      "text/plain": [
       "[<matplotlib.lines.Line2D at 0x291ca1f6048>]"
      ]
     },
     "execution_count": 12,
     "metadata": {},
     "output_type": "execute_result"
    },
    {
     "data": {
      "image/png": "[encoded data removed]",
      "text/plain": [
       "<Figure size 432x288 with 1 Axes>"
      ]
     },
     "metadata": {},
     "output_type": "display_data"
    }
   ],
   "source": [
    "plt.plot(hist)\n",
    "plt.plot(1 - np.array(hist))"
   ]
  },
  {
   "cell_type": "markdown",
   "id": "1dc29939-4ee4-4191-b263-5213b82f369b",
   "metadata": {},
   "source": [
    "### 6. Обучить логистическую регрессию или линейную регрессию из sklearn, оценить качество модели на обучающей и тестовой выборках и сравнить со своей моделью"
   ]
  },
  {
   "cell_type": "code",
   "execution_count": 13,
   "id": "3829d033-ac6f-43bb-9540-ede57235d8ab",
   "metadata": {},
   "outputs": [
    {
     "name": "stderr",
     "output_type": "stream",
     "text": [
      "c:\\python372\\lib\\site-packages\\sklearn\\utils\\validation.py:63: DataConversionWarning: A column-vector y was passed when a 1d array was expected. Please change the shape of y to (n_samples, ), for example using ravel().\n",
      "  return f(*args, **kwargs)\n"
     ]
    },
    {
     "name": "stdout",
     "output_type": "stream",
     "text": [
      "sklearn: 0.7492213804713804\n"
     ]
    }
   ],
   "source": [
    "from sklearn.linear_model import LogisticRegression\n",
    "sklg = LogisticRegression()\n",
    "sklg.fit(X_train, y_train)\n",
    "print(f\"sklearn: {sklg.score(X_test, y_test)}\")"
   ]
  },
  {
   "cell_type": "code",
   "execution_count": 14,
   "id": "515f2056-3fcf-4356-99f3-e99ae742daf6",
   "metadata": {},
   "outputs": [
    {
     "name": "stderr",
     "output_type": "stream",
     "text": [
      "c:\\python372\\lib\\site-packages\\ipykernel_launcher.py:3: DataConversionWarning: A column-vector y was passed when a 1d array was expected. Please change the shape of y to (n_samples,), for example using ravel().\n",
      "  This is separate from the ipykernel package so we can avoid doing imports until\n"
     ]
    },
    {
     "data": {
      "text/plain": [
       "0.7492213804713804"
      ]
     },
     "execution_count": 14,
     "metadata": {},
     "output_type": "execute_result"
    }
   ],
   "source": [
    "from sklearn.ensemble import RandomForestClassifier\n",
    "rfc = RandomForestClassifier()\n",
    "rfc.fit(X_train, y_train)\n",
    "rfc.score(X_test, y_test)"
   ]
  },
  {
   "cell_type": "markdown",
   "id": "ced857bf-4a0b-4330-a5ea-c2367d198ce5",
   "metadata": {},
   "source": [
    "### 6*. Сделать график ошибки модели из sklearn на обучающей и тестовой выборках и сравнить со своей моделью\n",
    "### 6*. Сделать график точности модели из sklearn на обучающей и тестовой выборках и сравнить со своей моделью"
   ]
  },
  {
   "cell_type": "code",
   "execution_count": null,
   "id": "b13c4498-4da3-4456-b40d-1e34f0c0c816",
   "metadata": {},
   "outputs": [],
   "source": []
  }
 ],
 "metadata": {
  "kernelspec": {
   "display_name": "Python 3 (ipykernel)",
   "language": "python",
   "name": "python3"
  },
  "language_info": {
   "codemirror_mode": {
    "name": "ipython",
    "version": 3
   },
   "file_extension": ".py",
   "mimetype": "text/x-python",
   "name": "python",
   "nbconvert_exporter": "python",
   "pygments_lexer": "ipython3",
   "version": "3.7.2rc1"
  }
 },
 "nbformat": 4,
 "nbformat_minor": 5
}
