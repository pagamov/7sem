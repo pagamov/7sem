{
 "cells": [
  {
   "cell_type": "markdown",
   "metadata": {},
   "source": [
    "<h1><center>Сети с радиальными базисными элементами </center></h1>"
   ]
  },
  {
   "cell_type": "markdown",
   "metadata": {},
   "source": [
    "**Целью работы** является исследование свойств некоторых видов сетей с радиальными базисными элементами, алгоритмов обучения, а также применение сетей в задачах классификации и аппроксимации функции."
   ]
  },
  {
   "cell_type": "code",
   "execution_count": 4,
   "metadata": {},
   "outputs": [
    {
     "ename": "ImportError",
     "evalue": "cannot import name 'gcd' from 'fractions' (/Library/Frameworks/Python.framework/Versions/3.9/lib/python3.9/fractions.py)",
     "output_type": "error",
     "traceback": [
      "\u001b[0;31m---------------------------------------------------------------------------\u001b[0m",
      "\u001b[0;31mImportError\u001b[0m                               Traceback (most recent call last)",
      "\u001b[0;32m/var/folders/cy/d5k9cd4x21d3hhd6p2xgg9sw0000gn/T/ipykernel_68366/1909384207.py\u001b[0m in \u001b[0;36m<module>\u001b[0;34m\u001b[0m\n\u001b[0;32m----> 1\u001b[0;31m \u001b[0;32mfrom\u001b[0m \u001b[0mfractions\u001b[0m \u001b[0;32mimport\u001b[0m \u001b[0mgcd\u001b[0m\u001b[0;34m\u001b[0m\u001b[0;34m\u001b[0m\u001b[0m\n\u001b[0m",
      "\u001b[0;31mImportError\u001b[0m: cannot import name 'gcd' from 'fractions' (/Library/Frameworks/Python.framework/Versions/3.9/lib/python3.9/fractions.py)"
     ]
    }
   ],
   "source": [
    "from fractions import gcd"
   ]
  },
  {
   "cell_type": "code",
   "execution_count": 3,
   "metadata": {},
   "outputs": [
    {
     "ename": "ImportError",
     "evalue": "cannot import name 'gcd' from 'fractions' (/Library/Frameworks/Python.framework/Versions/3.9/lib/python3.9/fractions.py)",
     "output_type": "error",
     "traceback": [
      "\u001b[0;31m---------------------------------------------------------------------------\u001b[0m",
      "\u001b[0;31mImportError\u001b[0m                               Traceback (most recent call last)",
      "\u001b[0;32m/var/folders/cy/d5k9cd4x21d3hhd6p2xgg9sw0000gn/T/ipykernel_68366/515614426.py\u001b[0m in \u001b[0;36m<module>\u001b[0;34m\u001b[0m\n\u001b[1;32m      8\u001b[0m \u001b[0;32mfrom\u001b[0m \u001b[0msklearn\u001b[0m\u001b[0;34m.\u001b[0m\u001b[0msvm\u001b[0m \u001b[0;32mimport\u001b[0m \u001b[0mSVC\u001b[0m\u001b[0;34m\u001b[0m\u001b[0;34m\u001b[0m\u001b[0m\n\u001b[1;32m      9\u001b[0m \u001b[0;34m\u001b[0m\u001b[0m\n\u001b[0;32m---> 10\u001b[0;31m \u001b[0;32mfrom\u001b[0m \u001b[0mneupy\u001b[0m\u001b[0;34m.\u001b[0m\u001b[0malgorithms\u001b[0m \u001b[0;32mimport\u001b[0m \u001b[0mPNN\u001b[0m\u001b[0;34m,\u001b[0m \u001b[0mGRNN\u001b[0m\u001b[0;34m\u001b[0m\u001b[0;34m\u001b[0m\u001b[0m\n\u001b[0m",
      "\u001b[0;32m/Library/Frameworks/Python.framework/Versions/3.9/lib/python3.9/site-packages/neupy/algorithms/__init__.py\u001b[0m in \u001b[0;36m<module>\u001b[0;34m\u001b[0m\n\u001b[0;32m----> 1\u001b[0;31m \u001b[0;32mfrom\u001b[0m \u001b[0;34m.\u001b[0m\u001b[0mgd\u001b[0m\u001b[0;34m.\u001b[0m\u001b[0mbase\u001b[0m \u001b[0;32mimport\u001b[0m \u001b[0;34m*\u001b[0m\u001b[0;34m\u001b[0m\u001b[0;34m\u001b[0m\u001b[0m\n\u001b[0m\u001b[1;32m      2\u001b[0m \u001b[0;32mfrom\u001b[0m \u001b[0;34m.\u001b[0m\u001b[0mgd\u001b[0m\u001b[0;34m.\u001b[0m\u001b[0mlev_marq\u001b[0m \u001b[0;32mimport\u001b[0m \u001b[0;34m*\u001b[0m\u001b[0;34m\u001b[0m\u001b[0;34m\u001b[0m\u001b[0m\n\u001b[1;32m      3\u001b[0m \u001b[0;32mfrom\u001b[0m \u001b[0;34m.\u001b[0m\u001b[0mgd\u001b[0m\u001b[0;34m.\u001b[0m\u001b[0mquasi_newton\u001b[0m \u001b[0;32mimport\u001b[0m \u001b[0;34m*\u001b[0m\u001b[0;34m\u001b[0m\u001b[0;34m\u001b[0m\u001b[0m\n\u001b[1;32m      4\u001b[0m \u001b[0;32mfrom\u001b[0m \u001b[0;34m.\u001b[0m\u001b[0mgd\u001b[0m\u001b[0;34m.\u001b[0m\u001b[0mconjgrad\u001b[0m \u001b[0;32mimport\u001b[0m \u001b[0;34m*\u001b[0m\u001b[0;34m\u001b[0m\u001b[0;34m\u001b[0m\u001b[0m\n\u001b[1;32m      5\u001b[0m \u001b[0;32mfrom\u001b[0m \u001b[0;34m.\u001b[0m\u001b[0mgd\u001b[0m\u001b[0;34m.\u001b[0m\u001b[0mhessian\u001b[0m \u001b[0;32mimport\u001b[0m \u001b[0;34m*\u001b[0m\u001b[0;34m\u001b[0m\u001b[0;34m\u001b[0m\u001b[0m\n",
      "\u001b[0;32m/Library/Frameworks/Python.framework/Versions/3.9/lib/python3.9/site-packages/neupy/algorithms/gd/base.py\u001b[0m in \u001b[0;36m<module>\u001b[0;34m\u001b[0m\n\u001b[1;32m      4\u001b[0m \u001b[0;34m\u001b[0m\u001b[0m\n\u001b[1;32m      5\u001b[0m \u001b[0;32mimport\u001b[0m \u001b[0msix\u001b[0m\u001b[0;34m\u001b[0m\u001b[0;34m\u001b[0m\u001b[0m\n\u001b[0;32m----> 6\u001b[0;31m \u001b[0;32mimport\u001b[0m \u001b[0mtheano\u001b[0m\u001b[0;34m\u001b[0m\u001b[0;34m\u001b[0m\u001b[0m\n\u001b[0m\u001b[1;32m      7\u001b[0m \u001b[0;32mimport\u001b[0m \u001b[0mtheano\u001b[0m\u001b[0;34m.\u001b[0m\u001b[0mtensor\u001b[0m \u001b[0;32mas\u001b[0m \u001b[0mT\u001b[0m\u001b[0;34m\u001b[0m\u001b[0;34m\u001b[0m\u001b[0m\n\u001b[1;32m      8\u001b[0m \u001b[0;32mimport\u001b[0m \u001b[0mnumpy\u001b[0m \u001b[0;32mas\u001b[0m \u001b[0mnp\u001b[0m\u001b[0;34m\u001b[0m\u001b[0;34m\u001b[0m\u001b[0m\n",
      "\u001b[0;32m/Library/Frameworks/Python.framework/Versions/3.9/lib/python3.9/site-packages/theano/__init__.py\u001b[0m in \u001b[0;36m<module>\u001b[0;34m\u001b[0m\n\u001b[1;32m    122\u001b[0m \u001b[0;32mfrom\u001b[0m \u001b[0mtheano\u001b[0m\u001b[0;34m.\u001b[0m\u001b[0mprinting\u001b[0m \u001b[0;32mimport\u001b[0m \u001b[0mpprint\u001b[0m\u001b[0;34m,\u001b[0m \u001b[0mpp\u001b[0m\u001b[0;34m\u001b[0m\u001b[0;34m\u001b[0m\u001b[0m\n\u001b[1;32m    123\u001b[0m \u001b[0;34m\u001b[0m\u001b[0m\n\u001b[0;32m--> 124\u001b[0;31m from theano.scan_module import (scan, map, reduce, foldl, foldr, clone,\n\u001b[0m\u001b[1;32m    125\u001b[0m                                 scan_checkpoints)\n\u001b[1;32m    126\u001b[0m \u001b[0;34m\u001b[0m\u001b[0m\n",
      "\u001b[0;32m/Library/Frameworks/Python.framework/Versions/3.9/lib/python3.9/site-packages/theano/scan_module/__init__.py\u001b[0m in \u001b[0;36m<module>\u001b[0;34m\u001b[0m\n\u001b[1;32m     39\u001b[0m \u001b[0m__contact__\u001b[0m \u001b[0;34m=\u001b[0m \u001b[0;34m\"Razvan Pascanu <r.pascanu@gmail>\"\u001b[0m\u001b[0;34m\u001b[0m\u001b[0;34m\u001b[0m\u001b[0m\n\u001b[1;32m     40\u001b[0m \u001b[0;34m\u001b[0m\u001b[0m\n\u001b[0;32m---> 41\u001b[0;31m \u001b[0;32mfrom\u001b[0m \u001b[0mtheano\u001b[0m\u001b[0;34m.\u001b[0m\u001b[0mscan_module\u001b[0m \u001b[0;32mimport\u001b[0m \u001b[0mscan_opt\u001b[0m\u001b[0;34m\u001b[0m\u001b[0;34m\u001b[0m\u001b[0m\n\u001b[0m\u001b[1;32m     42\u001b[0m \u001b[0;32mfrom\u001b[0m \u001b[0mtheano\u001b[0m\u001b[0;34m.\u001b[0m\u001b[0mscan_module\u001b[0m\u001b[0;34m.\u001b[0m\u001b[0mscan\u001b[0m \u001b[0;32mimport\u001b[0m \u001b[0mscan\u001b[0m\u001b[0;34m\u001b[0m\u001b[0;34m\u001b[0m\u001b[0m\n\u001b[1;32m     43\u001b[0m \u001b[0;32mfrom\u001b[0m \u001b[0mtheano\u001b[0m\u001b[0;34m.\u001b[0m\u001b[0mscan_module\u001b[0m\u001b[0;34m.\u001b[0m\u001b[0mscan_checkpoints\u001b[0m \u001b[0;32mimport\u001b[0m \u001b[0mscan_checkpoints\u001b[0m\u001b[0;34m\u001b[0m\u001b[0;34m\u001b[0m\u001b[0m\n",
      "\u001b[0;32m/Library/Frameworks/Python.framework/Versions/3.9/lib/python3.9/site-packages/theano/scan_module/scan_opt.py\u001b[0m in \u001b[0;36m<module>\u001b[0;34m\u001b[0m\n\u001b[1;32m     58\u001b[0m \u001b[0;34m\u001b[0m\u001b[0m\n\u001b[1;32m     59\u001b[0m \u001b[0;32mimport\u001b[0m \u001b[0mtheano\u001b[0m\u001b[0;34m\u001b[0m\u001b[0;34m\u001b[0m\u001b[0m\n\u001b[0;32m---> 60\u001b[0;31m \u001b[0;32mfrom\u001b[0m \u001b[0mtheano\u001b[0m \u001b[0;32mimport\u001b[0m \u001b[0mtensor\u001b[0m\u001b[0;34m,\u001b[0m \u001b[0mscalar\u001b[0m\u001b[0;34m\u001b[0m\u001b[0;34m\u001b[0m\u001b[0m\n\u001b[0m\u001b[1;32m     61\u001b[0m \u001b[0;32mfrom\u001b[0m \u001b[0mtheano\u001b[0m\u001b[0;34m.\u001b[0m\u001b[0mtensor\u001b[0m \u001b[0;32mimport\u001b[0m \u001b[0mopt\u001b[0m\u001b[0;34m,\u001b[0m \u001b[0mget_scalar_constant_value\u001b[0m\u001b[0;34m,\u001b[0m \u001b[0mAlloc\u001b[0m\u001b[0;34m,\u001b[0m \u001b[0mAllocEmpty\u001b[0m\u001b[0;34m\u001b[0m\u001b[0;34m\u001b[0m\u001b[0m\n\u001b[1;32m     62\u001b[0m \u001b[0;32mfrom\u001b[0m \u001b[0mtheano\u001b[0m \u001b[0;32mimport\u001b[0m \u001b[0mgof\u001b[0m\u001b[0;34m\u001b[0m\u001b[0;34m\u001b[0m\u001b[0m\n",
      "\u001b[0;32m/Library/Frameworks/Python.framework/Versions/3.9/lib/python3.9/site-packages/theano/tensor/__init__.py\u001b[0m in \u001b[0;36m<module>\u001b[0;34m\u001b[0m\n\u001b[1;32m     36\u001b[0m \u001b[0;32mfrom\u001b[0m \u001b[0mtheano\u001b[0m\u001b[0;34m.\u001b[0m\u001b[0mtensor\u001b[0m\u001b[0;34m.\u001b[0m\u001b[0mio\u001b[0m \u001b[0;32mimport\u001b[0m \u001b[0;34m*\u001b[0m\u001b[0;34m\u001b[0m\u001b[0;34m\u001b[0m\u001b[0m\n\u001b[1;32m     37\u001b[0m \u001b[0;34m\u001b[0m\u001b[0m\n\u001b[0;32m---> 38\u001b[0;31m \u001b[0;32mfrom\u001b[0m \u001b[0mtheano\u001b[0m\u001b[0;34m.\u001b[0m\u001b[0mtensor\u001b[0m \u001b[0;32mimport\u001b[0m \u001b[0mnnet\u001b[0m  \u001b[0;31m# used for softmax, sigmoid, etc.\u001b[0m\u001b[0;34m\u001b[0m\u001b[0;34m\u001b[0m\u001b[0m\n\u001b[0m\u001b[1;32m     39\u001b[0m \u001b[0;34m\u001b[0m\u001b[0m\n\u001b[1;32m     40\u001b[0m \u001b[0;32mfrom\u001b[0m \u001b[0mtheano\u001b[0m\u001b[0;34m.\u001b[0m\u001b[0mgradient\u001b[0m \u001b[0;32mimport\u001b[0m \u001b[0mRop\u001b[0m\u001b[0;34m,\u001b[0m \u001b[0mLop\u001b[0m\u001b[0;34m,\u001b[0m \u001b[0mgrad\u001b[0m\u001b[0;34m,\u001b[0m \u001b[0mnumeric_grad\u001b[0m\u001b[0;34m,\u001b[0m \u001b[0mverify_grad\u001b[0m\u001b[0;34m,\u001b[0m\u001b[0;31m \u001b[0m\u001b[0;31m\\\u001b[0m\u001b[0;34m\u001b[0m\u001b[0;34m\u001b[0m\u001b[0m\n",
      "\u001b[0;32m/Library/Frameworks/Python.framework/Versions/3.9/lib/python3.9/site-packages/theano/tensor/nnet/__init__.py\u001b[0m in \u001b[0;36m<module>\u001b[0;34m\u001b[0m\n\u001b[1;32m     21\u001b[0m     \u001b[0msoftmax_op\u001b[0m\u001b[0;34m,\u001b[0m \u001b[0msoftmax_simplifier\u001b[0m\u001b[0;34m,\u001b[0m \u001b[0msoftmax_with_bias\u001b[0m\u001b[0;34m,\u001b[0m \u001b[0melu\u001b[0m\u001b[0;34m,\u001b[0m \u001b[0mselu\u001b[0m\u001b[0;34m,\u001b[0m\u001b[0;34m\u001b[0m\u001b[0;34m\u001b[0m\u001b[0m\n\u001b[1;32m     22\u001b[0m     confusion_matrix, softsign)\n\u001b[0;32m---> 23\u001b[0;31m \u001b[0;32mfrom\u001b[0m \u001b[0;34m.\u001b[0m \u001b[0;32mimport\u001b[0m \u001b[0mopt\u001b[0m\u001b[0;34m\u001b[0m\u001b[0;34m\u001b[0m\u001b[0m\n\u001b[0m\u001b[1;32m     24\u001b[0m \u001b[0;32mfrom\u001b[0m \u001b[0;34m.\u001b[0m\u001b[0mconv\u001b[0m \u001b[0;32mimport\u001b[0m \u001b[0mConvOp\u001b[0m\u001b[0;34m\u001b[0m\u001b[0;34m\u001b[0m\u001b[0m\n\u001b[1;32m     25\u001b[0m from .sigm import (softplus, sigmoid, sigmoid_inplace,\n",
      "\u001b[0;32m/Library/Frameworks/Python.framework/Versions/3.9/lib/python3.9/site-packages/theano/tensor/nnet/opt.py\u001b[0m in \u001b[0;36m<module>\u001b[0;34m\u001b[0m\n\u001b[1;32m      9\u001b[0m \u001b[0;32mfrom\u001b[0m \u001b[0mtheano\u001b[0m\u001b[0;34m.\u001b[0m\u001b[0mgof\u001b[0m\u001b[0;34m.\u001b[0m\u001b[0mopt\u001b[0m \u001b[0;32mimport\u001b[0m \u001b[0mcopy_stack_trace\u001b[0m\u001b[0;34m\u001b[0m\u001b[0;34m\u001b[0m\u001b[0m\n\u001b[1;32m     10\u001b[0m \u001b[0;34m\u001b[0m\u001b[0m\n\u001b[0;32m---> 11\u001b[0;31m from theano.tensor.nnet.corr import (\n\u001b[0m\u001b[1;32m     12\u001b[0m     CorrMM, CorrMM_gradInputs, CorrMM_gradWeights)\n\u001b[1;32m     13\u001b[0m from theano.tensor.nnet.corr3d import (\n",
      "\u001b[0;32m/Library/Frameworks/Python.framework/Versions/3.9/lib/python3.9/site-packages/theano/tensor/nnet/corr.py\u001b[0m in \u001b[0;36m<module>\u001b[0;34m\u001b[0m\n\u001b[1;32m     11\u001b[0m \u001b[0;32mfrom\u001b[0m \u001b[0mtheano\u001b[0m\u001b[0;34m.\u001b[0m\u001b[0mscalar\u001b[0m \u001b[0;32mimport\u001b[0m \u001b[0mint64\u001b[0m\u001b[0;34m,\u001b[0m \u001b[0mint8\u001b[0m\u001b[0;34m\u001b[0m\u001b[0;34m\u001b[0m\u001b[0m\n\u001b[1;32m     12\u001b[0m \u001b[0;32mfrom\u001b[0m \u001b[0mtheano\u001b[0m\u001b[0;34m.\u001b[0m\u001b[0mtensor\u001b[0m \u001b[0;32mimport\u001b[0m \u001b[0mas_tensor_variable\u001b[0m\u001b[0;34m,\u001b[0m \u001b[0mTensorType\u001b[0m\u001b[0;34m\u001b[0m\u001b[0;34m\u001b[0m\u001b[0m\n\u001b[0;32m---> 13\u001b[0;31m \u001b[0;32mfrom\u001b[0m \u001b[0mtheano\u001b[0m\u001b[0;34m.\u001b[0m\u001b[0mtensor\u001b[0m\u001b[0;34m.\u001b[0m\u001b[0mnnet\u001b[0m\u001b[0;34m.\u001b[0m\u001b[0mabstract_conv\u001b[0m \u001b[0;32mimport\u001b[0m \u001b[0mget_conv_output_shape\u001b[0m\u001b[0;34m\u001b[0m\u001b[0;34m\u001b[0m\u001b[0m\n\u001b[0m\u001b[1;32m     14\u001b[0m \u001b[0;32mfrom\u001b[0m \u001b[0mtheano\u001b[0m\u001b[0;34m.\u001b[0m\u001b[0mtensor\u001b[0m \u001b[0;32mimport\u001b[0m \u001b[0mblas_headers\u001b[0m\u001b[0;34m\u001b[0m\u001b[0;34m\u001b[0m\u001b[0m\n\u001b[1;32m     15\u001b[0m \u001b[0;32mfrom\u001b[0m \u001b[0mtheano\u001b[0m\u001b[0;34m.\u001b[0m\u001b[0mtensor\u001b[0m\u001b[0;34m.\u001b[0m\u001b[0mblas\u001b[0m \u001b[0;32mimport\u001b[0m \u001b[0mldflags\u001b[0m\u001b[0;34m,\u001b[0m \u001b[0mblas_header_version\u001b[0m\u001b[0;34m\u001b[0m\u001b[0;34m\u001b[0m\u001b[0m\n",
      "\u001b[0;32m/Library/Frameworks/Python.framework/Versions/3.9/lib/python3.9/site-packages/theano/tensor/nnet/abstract_conv.py\u001b[0m in \u001b[0;36m<module>\u001b[0;34m\u001b[0m\n\u001b[1;32m      7\u001b[0m \u001b[0;32mfrom\u001b[0m \u001b[0msix\u001b[0m \u001b[0;32mimport\u001b[0m \u001b[0mreraise\u001b[0m\u001b[0;34m,\u001b[0m \u001b[0minteger_types\u001b[0m\u001b[0;34m\u001b[0m\u001b[0;34m\u001b[0m\u001b[0m\n\u001b[1;32m      8\u001b[0m \u001b[0;32mimport\u001b[0m \u001b[0msys\u001b[0m\u001b[0;34m\u001b[0m\u001b[0;34m\u001b[0m\u001b[0m\n\u001b[0;32m----> 9\u001b[0;31m \u001b[0;32mfrom\u001b[0m \u001b[0mfractions\u001b[0m \u001b[0;32mimport\u001b[0m \u001b[0mgcd\u001b[0m\u001b[0;34m\u001b[0m\u001b[0;34m\u001b[0m\u001b[0m\n\u001b[0m\u001b[1;32m     10\u001b[0m \u001b[0;34m\u001b[0m\u001b[0m\n\u001b[1;32m     11\u001b[0m \u001b[0;32mimport\u001b[0m \u001b[0mtheano\u001b[0m\u001b[0;34m\u001b[0m\u001b[0;34m\u001b[0m\u001b[0m\n",
      "\u001b[0;31mImportError\u001b[0m: cannot import name 'gcd' from 'fractions' (/Library/Frameworks/Python.framework/Versions/3.9/lib/python3.9/fractions.py)"
     ]
    }
   ],
   "source": [
    "import matplotlib.pyplot as plt\n",
    "import numpy as np\n",
    "import pandas as pd\n",
    "\n",
    "from sklearn.metrics import accuracy_score, mean_squared_error\n",
    "from sklearn.model_selection import train_test_split\n",
    "from sklearn.preprocessing import StandardScaler, LabelBinarizer\n",
    "from sklearn.svm import SVC\n",
    "\n",
    "from neupy.algorithms import PNN, GRNN"
   ]
  },
  {
   "cell_type": "markdown",
   "metadata": {},
   "source": [
    "**Вариант №4:** \n",
    "\n",
    "Эллипс: $a = 0.4, b = 0.15, \\alpha = \\frac{\\pi}{6}, x_0 = 0, y_0 = 0$\n",
    "\n",
    "Эллипс: $a = 0.7, b = 0.5, \\alpha = -\\frac{\\pi}{3}, x_0 = 0, y_0 = 0$\n",
    "\n",
    "Эллипс: $a = 1, b = 1, \\alpha = 0, x_0 = 0, y_0 = 0$\n"
   ]
  },
  {
   "cell_type": "code",
   "execution_count": 5,
   "metadata": {},
   "outputs": [],
   "source": [
    "a1 = 0.4\n",
    "b1 = 0.15\n",
    "x0_1 = 0 # координаты параллельного переноса\n",
    "y0_1 = 0\n",
    "alpha1 = np.pi/6 # угол поворота\n",
    "\n",
    "a2 = 0.7\n",
    "b2 = 0.5\n",
    "x0_2 = 0\n",
    "y0_2 = 0\n",
    "alpha2 = -np.pi/3\n",
    "\n",
    "a3 = 1\n",
    "b3 = 1\n",
    "x0_3 = 0\n",
    "y0_3 = 0\n",
    "alpha3 = 0\n",
    "\n",
    "t = np.linspace(0, 2 * np.pi, int(2 * np.pi / 0.025), endpoint=True)"
   ]
  },
  {
   "cell_type": "code",
   "execution_count": 6,
   "metadata": {},
   "outputs": [],
   "source": [
    "def f(alpha, x0, a, t, y0, b):\n",
    "    return (x0 + a * np.cos(t)) * np.cos(alpha) + (y0 + b * np.sin(t)) * np.sin(alpha)\n",
    "\n",
    "def g(alpha, x0, a, t, y0, b):\n",
    "    return -(x0 + a * np.cos(t)) * np.sin(alpha) + (y0 + b * np.sin(t)) * np.cos(alpha)"
   ]
  },
  {
   "cell_type": "markdown",
   "metadata": {},
   "source": [
    "### Описание"
   ]
  },
  {
   "cell_type": "markdown",
   "metadata": {},
   "source": [
    "**Сеть с радиально-базисными элементами**\n",
    "\n",
    "<img src=\"https://basegroup.ru/sites/default/files/pic2.gif\">\n",
    "\n",
    "**Обобщенно-регрессионная неройнная сеть**\n",
    "\n",
    "<img src=\"https://www.researchgate.net/profile/Beyza-Ustaoglu/publication/229887649/figure/fig9/AS:668748956573696@1536453584177/The-structure-of-the-generalized-regression-neural-network-GRNN.png\">\n",
    "\n",
    "Все эти сети объединяет использование *радиально-базисных функций* в качестве функции активации для скрытых слоев нейронной сети.\n",
    "\n",
    "Радиально-базисной функции называется любая вещественно-значная функция, значение которой монотонно убывает в зависимости от растояния. Наиболее популярный пример - *функция Гаусса:*\n",
    "\n",
    "$$f(x) = e^{-\\displaystyle\\frac{\\| x - c \\|^2}{r}}$$"
   ]
  },
  {
   "cell_type": "markdown",
   "metadata": {},
   "source": [
    "### Генерируем данные"
   ]
  },
  {
   "cell_type": "markdown",
   "metadata": {},
   "source": [
    "Данные для 3-ех классов:"
   ]
  },
  {
   "cell_type": "code",
   "execution_count": 7,
   "metadata": {},
   "outputs": [],
   "source": [
    "x1 = f(alpha1, x0_1, a1, t, y0_1, b1)\n",
    "y1 = g(alpha1, x0_1, a1, t, y0_1, b1)\n",
    "\n",
    "x2 = f(alpha2, x0_2, a2, t, y0_2, b2)\n",
    "y2 = g(alpha2, x0_2, a2, t, y0_2, b2)\n",
    "\n",
    "x3 = f(alpha3, x0_3, a3, t, y0_3, b3)\n",
    "y3 = g(alpha3, x0_3, a3, t, y0_3, b3)"
   ]
  },
  {
   "cell_type": "markdown",
   "metadata": {},
   "source": [
    "Иллюстрация классов:"
   ]
  },
  {
   "cell_type": "code",
   "execution_count": 8,
   "metadata": {},
   "outputs": [
    {
     "data": {
      "text/plain": [
       "<matplotlib.legend.Legend at 0x7ff100c984f0>"
      ]
     },
     "execution_count": 8,
     "metadata": {},
     "output_type": "execute_result"
    },
    {
     "data": {
      "image/png": "[encoded data removed]",
      "text/plain": [
       "<Figure size 1152x576 with 1 Axes>"
      ]
     },
     "metadata": {
      "needs_background": "light"
     },
     "output_type": "display_data"
    }
   ],
   "source": [
    "plt.figure(figsize=(16, 8))\n",
    "plt.plot(x1, y1, 'r', label='1')\n",
    "plt.plot(x2, y2, 'g', label='2')\n",
    "plt.plot(x3, y3, 'b', label='3')\n",
    "plt.title(\"Данные\")\n",
    "plt.legend()"
   ]
  },
  {
   "cell_type": "markdown",
   "metadata": {},
   "source": [
    "Для трех линейно неразделимых классов решим задачу классификации"
   ]
  },
  {
   "cell_type": "code",
   "execution_count": 9,
   "metadata": {},
   "outputs": [],
   "source": [
    "df1 = pd.DataFrame({'x' : x1, 'y' : y1, 'class' : 0})\n",
    "df2 = pd.DataFrame({'x' : x2, 'y' : y2, 'class' : 1})\n",
    "df3 = pd.DataFrame({'x' : x3, 'y' : y3, 'class' : 2})"
   ]
  },
  {
   "cell_type": "markdown",
   "metadata": {},
   "source": [
    "Разделим выборку на тренировочную и тестовую  в соотношении 80% и 20% соответственно."
   ]
  },
  {
   "cell_type": "code",
   "execution_count": 10,
   "metadata": {},
   "outputs": [],
   "source": [
    "def make_split(data):\n",
    "    xTrain, xTest = train_test_split(data, test_size=0.2, shuffle=True, random_state=42)\n",
    "    return xTrain, xTest"
   ]
  },
  {
   "cell_type": "code",
   "execution_count": 11,
   "metadata": {},
   "outputs": [],
   "source": [
    "train, test = [], []\n",
    "\n",
    "tmpTrain, tmpTest = make_split(df1)\n",
    "train.append(tmpTrain)\n",
    "test.append(tmpTest)\n",
    "\n",
    "tmpTrain, tmpTest = make_split(df2)\n",
    "train.append(tmpTrain)\n",
    "test.append(tmpTest)\n",
    "\n",
    "tmpTrain, tmpTest = make_split(df3)\n",
    "train.append(tmpTrain)\n",
    "test.append(tmpTest)\n",
    "\n",
    "train = pd.concat(train)\n",
    "test = pd.concat(test)"
   ]
  },
  {
   "cell_type": "markdown",
   "metadata": {},
   "source": [
    "Зададим область точек [-1.2, 1.2] x [-1.2, 1.2]. Получим сетку для указанной области с шагом h = 0.025."
   ]
  },
  {
   "cell_type": "markdown",
   "metadata": {},
   "source": [
    "В этой функции мы производим обучение модели на тренировочных данных, предсказываем выход сети по тренировочным данным, получаем метрики обучения: accuracy, mse, rmse. То же самое проделываем и для тестового множества."
   ]
  },
  {
   "cell_type": "code",
   "execution_count": 12,
   "metadata": {},
   "outputs": [],
   "source": [
    "def train_predict(model, train, test):\n",
    "\n",
    "    model.fit(train.iloc[:, 1:], train['class'])\n",
    "\n",
    "    p = model.predict(train.iloc[:, 1:])\n",
    "    accuracy_train = accuracy_score(train['class'], p)\n",
    "    mse_train = mean_squared_error(train['class'], p)\n",
    "    \n",
    "    print('Train accuracy = {}'.format(accuracy_train))\n",
    "    print('Train MSE = {}'.format(mse_train))\n",
    "    print('Train RMSE = {}'.format(np.sqrt(mse_train)))\n",
    "    \n",
    "    plt.figure(figsize=(12, 8))\n",
    "    mask = (p == 0)\n",
    "    plt.scatter(train['x'][mask], train['y'][mask], color='r')\n",
    "    mask = (p == 1)\n",
    "    plt.scatter(train['x'][mask], train['y'][mask], color='g')\n",
    "    mask = (p == 2)\n",
    "    plt.scatter(train['x'][mask], train['y'][mask], color='b')\n",
    "    plt.grid(True)\n",
    "    plt.title('Train')\n",
    "    plt.show()\n",
    "    \n",
    "    p = model.predict(test.iloc[:, 1:])\n",
    "    accuracy_test = accuracy_score(test['class'], p)\n",
    "    mse_test = mean_squared_error(test['class'], p)\n",
    "    \n",
    "    print('Test accuracy = {}'.format(accuracy_test))\n",
    "    print('Test MSE = {}'.format(mse_test))\n",
    "    print('Test RMSE = {}'.format(np.sqrt(mse_test)))\n",
    "    \n",
    "    plt.figure(figsize=(12, 8))\n",
    "    mask = (p == 0)\n",
    "    plt.scatter(test['x'][mask], test['y'][mask], color='r')\n",
    "    mask = (p == 1)\n",
    "    plt.scatter(test['x'][mask], test['y'][mask], color='g')\n",
    "    mask = (p == 2)\n",
    "    plt.scatter(test['x'][mask], test['y'][mask], color='b')\n",
    "    plt.grid(True)\n",
    "    plt.title('Test')\n",
    "    plt.show()"
   ]
  },
  {
   "cell_type": "markdown",
   "metadata": {},
   "source": [
    "### Задание №1\n",
    "\n",
    "Для трех линейно неразделимых классов решить задачу классификации.\n",
    "\n",
    "Построим вероятностную сеть, которая будет классифицировать точки заданной области."
   ]
  },
  {
   "cell_type": "markdown",
   "metadata": {},
   "source": [
    "$std = 0.3$"
   ]
  },
  {
   "cell_type": "code",
   "execution_count": 13,
   "metadata": {},
   "outputs": [
    {
     "ename": "NameError",
     "evalue": "name 'PNN' is not defined",
     "output_type": "error",
     "traceback": [
      "\u001b[0;31m---------------------------------------------------------------------------\u001b[0m",
      "\u001b[0;31mNameError\u001b[0m                                 Traceback (most recent call last)",
      "\u001b[0;32m/var/folders/cy/d5k9cd4x21d3hhd6p2xgg9sw0000gn/T/ipykernel_68366/1277216800.py\u001b[0m in \u001b[0;36m<module>\u001b[0;34m\u001b[0m\n\u001b[0;32m----> 1\u001b[0;31m \u001b[0mmodel\u001b[0m \u001b[0;34m=\u001b[0m \u001b[0mPNN\u001b[0m\u001b[0;34m(\u001b[0m\u001b[0mstd\u001b[0m\u001b[0;34m=\u001b[0m\u001b[0;36m0.3\u001b[0m\u001b[0;34m)\u001b[0m\u001b[0;34m\u001b[0m\u001b[0;34m\u001b[0m\u001b[0m\n\u001b[0m\u001b[1;32m      2\u001b[0m \u001b[0mtrain_predict\u001b[0m\u001b[0;34m(\u001b[0m\u001b[0mmodel\u001b[0m\u001b[0;34m,\u001b[0m \u001b[0mtrain\u001b[0m\u001b[0;34m,\u001b[0m \u001b[0mtest\u001b[0m\u001b[0;34m)\u001b[0m\u001b[0;34m\u001b[0m\u001b[0;34m\u001b[0m\u001b[0m\n",
      "\u001b[0;31mNameError\u001b[0m: name 'PNN' is not defined"
     ]
    }
   ],
   "source": [
    "model = PNN(std=0.3)\n",
    "train_predict(model, train, test)"
   ]
  },
  {
   "cell_type": "code",
   "execution_count": null,
   "metadata": {},
   "outputs": [],
   "source": [
    "model = PNN(std=0.1)\n",
    "train_predict(model, train, test)"
   ]
  },
  {
   "cell_type": "markdown",
   "metadata": {},
   "source": [
    "### Задание №2\n",
    "\n",
    "Для трех линейно неразделимых классов решить задачу классификации.\n",
    "\n",
    "Построим сеть с радиальными базисными элементами (rbf), которая будет классифицировать точки заданной области."
   ]
  },
  {
   "cell_type": "markdown",
   "metadata": {},
   "source": [
    "Созданные данные в предыдущем задании в отношении 80%-20% будут использоваться и в этом задании."
   ]
  },
  {
   "cell_type": "markdown",
   "metadata": {},
   "source": [
    "$std = 0.3$"
   ]
  },
  {
   "cell_type": "code",
   "execution_count": null,
   "metadata": {},
   "outputs": [],
   "source": [
    "model = SVC(kernel='rbf', C=1e2, gamma=0.3)\n",
    "train_predict(model, train, test)"
   ]
  },
  {
   "cell_type": "code",
   "execution_count": null,
   "metadata": {},
   "outputs": [],
   "source": [
    "model = SVC(kernel='rbf', C=1e2, gamma=0.1)\n",
    "train_predict(model, train, test)"
   ]
  },
  {
   "cell_type": "markdown",
   "metadata": {},
   "source": [
    "### Задание №3\n",
    "\n",
    "Построить обобщенно-регрессионную нейронную сеть, которая будет выполнять аппроксимацию функции $x = cos(-3 * t^2 + 5*t + 10)$"
   ]
  },
  {
   "cell_type": "code",
   "execution_count": null,
   "metadata": {},
   "outputs": [],
   "source": [
    "def f(t):\n",
    "    return np.cos(-3*t**2 + 5*t + 10)\n",
    "\n",
    "h = 0.01\n",
    "t = np.linspace(0, 2.5, int(2.5 / h), endpoint=True)\n",
    "x = f(t)\n",
    "\n",
    "plt.figure(figsize=(12, 8))\n",
    "plt.grid()\n",
    "plt.xlabel('t')\n",
    "plt.ylabel('x')\n",
    "plt.plot(t, x, color='purple')\n",
    "None"
   ]
  },
  {
   "cell_type": "markdown",
   "metadata": {},
   "source": [
    "В этой функции мы нормализуем данные (тестовые и тренировочные). Затем обучим на тренировочных данных сеть, сделаем предсказания на тренировочных данных, оценим качество обучения с помощью метрик mse, rmse. Получим апостериорную оценку качества работы сети: то же самое проделаем для тестовых данных."
   ]
  },
  {
   "cell_type": "code",
   "execution_count": null,
   "metadata": {},
   "outputs": [],
   "source": [
    "def scale_train_predict(model, train_x, train_y, test_x, test_y):\n",
    "    scaler_x = StandardScaler()\n",
    "    scaler_y = StandardScaler()\n",
    "\n",
    "    scaled_train_x = scaler_x.fit_transform(train_x[:, np.newaxis])\n",
    "    scaled_test_x = scaler_x.transform(test_x[:, np.newaxis])\n",
    "    scaled_train_y = scaler_y.fit_transform(train_y[:, np.newaxis])\n",
    "    \n",
    "    model.fit(scaled_train_x, scaled_train_y)\n",
    "    \n",
    "    predicted = model.predict(scaled_train_x)\n",
    "    predicted = scaler_y.inverse_transform(predicted)\n",
    "\n",
    "    mse = mean_squared_error(train_y, predicted.flatten())\n",
    "    print('Ошибка обучения на тренировочном множестве')\n",
    "    print('MSE =', mse)\n",
    "    print('RMSE =', np.sqrt(mse))\n",
    "    \n",
    "    plt.figure(figsize=(12, 8))\n",
    "    plt.grid()\n",
    "    plt.xlabel('t')\n",
    "    plt.ylabel('x')\n",
    "    plt.scatter(train_x, train_y, label='Train', color='green')\n",
    "    plt.scatter(train_x, predicted, label='Predicted', color='purple')\n",
    "    plt.legend()\n",
    "    plt.legend()\n",
    "    plt.show()\n",
    "\n",
    "    predicted = model.predict(scaled_test_x)\n",
    "    predicted = scaler_y.inverse_transform(predicted)\n",
    "    \n",
    "    mse = mean_squared_error(test_y, predicted.flatten())\n",
    "    print('Ошибка предсказания на тестовой выборке')\n",
    "    print('MSE =', mse)\n",
    "    print('RMSE =', np.sqrt(mse))\n",
    "    \n",
    "    plt.figure(figsize=(12, 8))\n",
    "    plt.grid()\n",
    "    plt.xlabel('t')\n",
    "    plt.ylabel('x')\n",
    "    plt.scatter(test_x, test_y, label='Test', color='green')\n",
    "    plt.scatter(test_x, predicted, label='Predicted', color='purple')\n",
    "    plt.legend()\n",
    "    plt.show()"
   ]
  },
  {
   "cell_type": "markdown",
   "metadata": {},
   "source": [
    "Делим на тестовую и тренировочную выборку. Выделяем с конца временной последовательности 10% на тестовое подмножество, соответственно на тренировочное множество кладем 90%."
   ]
  },
  {
   "cell_type": "code",
   "execution_count": null,
   "metadata": {},
   "outputs": [],
   "source": [
    "size_train = int(len(t) * 0.9)\n",
    "\n",
    "train_x = t[:size_train]\n",
    "train_y = x[:size_train]\n",
    "test_x = t[size_train:]\n",
    "test_y = x[size_train:]"
   ]
  },
  {
   "cell_type": "code",
   "execution_count": null,
   "metadata": {},
   "outputs": [],
   "source": [
    "model = GRNN(std=0.09)\n",
    "scale_train_predict(model, train_x, train_y, test_x, test_y)"
   ]
  },
  {
   "cell_type": "markdown",
   "metadata": {},
   "source": [
    "Разделим тренировочную и тестовую выборку в соотношении 80% и 20% соответственно."
   ]
  },
  {
   "cell_type": "code",
   "execution_count": null,
   "metadata": {},
   "outputs": [],
   "source": [
    "train_x, test_x, train_y, test_y = train_test_split(t, x, train_size=0.8, shuffle=True, random_state=4)"
   ]
  },
  {
   "cell_type": "code",
   "execution_count": null,
   "metadata": {},
   "outputs": [],
   "source": [
    "model = GRNN(std=0.03)\n",
    "scale_train_predict(model, train_x, train_y, test_x, test_y)"
   ]
  }
 ],
 "metadata": {
  "kernelspec": {
   "display_name": "Python 3 (ipykernel)",
   "language": "python",
   "name": "python3"
  },
  "language_info": {
   "codemirror_mode": {
    "name": "ipython",
    "version": 3
   },
   "file_extension": ".py",
   "mimetype": "text/x-python",
   "name": "python",
   "nbconvert_exporter": "python",
   "pygments_lexer": "ipython3",
   "version": "3.9.1"
  }
 },
 "nbformat": 4,
 "nbformat_minor": 4
}
