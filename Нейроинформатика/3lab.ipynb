{
 "cells": [
  {
   "cell_type": "code",
   "execution_count": 11,
   "id": "772ae053-84c7-4d19-a24d-301df7995e2f",
   "metadata": {},
   "outputs": [],
   "source": [
    "import numpy as np\n",
    "from math import sin, cos, pi\n",
    "from random import randint, uniform\n",
    "import matplotlib.pyplot as plt"
   ]
  },
  {
   "cell_type": "code",
   "execution_count": 12,
   "id": "e3fa3468-f4a4-4d83-b9c0-d42d56fb04e8",
   "metadata": {},
   "outputs": [],
   "source": [
    "t = np.arange(0, 2*pi, 0.025)\n",
    "a = [0.4, 0.7, 1]\n",
    "b = [0.15, 0.5, 1]\n",
    "alpha = [pi/6,-pi/3,0]\n",
    "x = lambda t,n: a[n]*cos(t)*cos(alpha[n]) - b[n]*sin(t)*sin(alpha[n])\n",
    "y = lambda t,n: a[n]*cos(t)*sin(alpha[n]) + b[n]*sin(t)*cos(alpha[n])"
   ]
  },
  {
   "cell_type": "markdown",
   "id": "7ee7765e-5a20-4798-bc4f-21bc46da1e3f",
   "metadata": {},
   "source": [
    "## Первый этап"
   ]
  },
  {
   "cell_type": "code",
   "execution_count": 13,
   "id": "1842d16b-6608-419c-8df4-3d3b62ba72cc",
   "metadata": {},
   "outputs": [
    {
     "data": {
      "text/plain": [
       "[<matplotlib.lines.Line2D at 0x7fa8cc960040>]"
      ]
     },
     "execution_count": 13,
     "metadata": {},
     "output_type": "execute_result"
    },
    {
     "data": {
      "image/png": "[encoded data removed]",
      "text/plain": [
       "<Figure size 432x288 with 1 Axes>"
      ]
     },
     "metadata": {
      "needs_background": "light"
     },
     "output_type": "display_data"
    }
   ],
   "source": [
    "plt.xlim(-1.5, 1.5)\n",
    "plt.ylim(-1.25, 1.25)\n",
    "plt.plot([x(i,0) for i in t],[y(i,0) for i in t])\n",
    "plt.plot([x(i,1) for i in t],[y(i,1) for i in t])\n",
    "plt.plot([x(i,2) for i in t],[y(i,2) for i in t])"
   ]
  },
  {
   "cell_type": "markdown",
   "id": "b0ba7138-d056-46f2-a45a-e49cea34bd10",
   "metadata": {},
   "source": [
    "## Создание даты и выборок для обучения и теста"
   ]
  },
  {
   "cell_type": "code",
   "execution_count": 42,
   "id": "9633e7c3-23e4-4526-b7cf-99fdd5bf9333",
   "metadata": {},
   "outputs": [],
   "source": [
    "data = []\n",
    "for i in t:\n",
    "    data.append([[x(i,0),y(i,0)],[1,0,0]])\n",
    "    data.append([[x(i,1),y(i,1)],[0,1,0]])\n",
    "    data.append([[x(i,2),y(i,2)],[0,0,1]])"
   ]
  },
  {
   "cell_type": "code",
   "execution_count": 43,
   "id": "002afbc9-ea18-45ee-b5fd-ca3a29579714",
   "metadata": {},
   "outputs": [
    {
     "data": {
      "text/plain": [
       "756"
      ]
     },
     "execution_count": 43,
     "metadata": {},
     "output_type": "execute_result"
    }
   ],
   "source": [
    "len(data)"
   ]
  },
  {
   "cell_type": "code",
   "execution_count": 44,
   "id": "3ad15ae7-9633-4e4e-89bb-6e49442ca350",
   "metadata": {},
   "outputs": [],
   "source": [
    "cl = []\n",
    "for i in t:\n",
    "    cl.append([x(i,0),y(i,0)])\n",
    "    cl.append([x(i,1),y(i,1)])\n",
    "    cl.append([x(i,2),y(i,2)])"
   ]
  },
  {
   "cell_type": "code",
   "execution_count": 45,
   "id": "cefa848e-bad3-4d26-bd6a-6759fe6d98b7",
   "metadata": {},
   "outputs": [],
   "source": [
    "for i in np.arange(-1, 1, 0.05):\n",
    "    for j in np.arange(-1, 1, 0.05):\n",
    "        for dot in cl:\n",
    "            if ((dot[0]-i)**2+(dot[1]-j)**2)**0.5 > 10**-2:\n",
    "                data.append([[i,j],[0,0,0]])\n",
    "                break"
   ]
  },
  {
   "cell_type": "code",
   "execution_count": 46,
   "id": "8518cccc-38c7-48c8-aecd-c5c4dd1c2bb6",
   "metadata": {},
   "outputs": [
    {
     "data": {
      "text/plain": [
       "2356"
      ]
     },
     "execution_count": 46,
     "metadata": {},
     "output_type": "execute_result"
    }
   ],
   "source": [
    "len(data)"
   ]
  },
  {
   "cell_type": "code",
   "execution_count": 49,
   "id": "b5035ae8-1f23-460a-87b5-decc6dc892ac",
   "metadata": {},
   "outputs": [],
   "source": [
    "import random\n",
    "random.shuffle(data)"
   ]
  },
  {
   "cell_type": "markdown",
   "id": "e057dd90-9ec8-4f17-b5ac-27899763b93e",
   "metadata": {},
   "source": [
    "## Создадим нейронную сеть с обратным распространением ошибки"
   ]
  },
  {
   "cell_type": "code",
   "execution_count": 82,
   "id": "ccb5a59c-61b8-4eff-b44b-ecc478020fea",
   "metadata": {},
   "outputs": [],
   "source": [
    "class Linear:\n",
    "    def __init__(self,nin,nout):\n",
    "        self.W = np.random.normal(0, 1.0/np.sqrt(nin), (nout, nin))\n",
    "        self.b = np.zeros((1,nout))\n",
    "        \n",
    "    def forward(self, x):\n",
    "        self.x = x\n",
    "        return np.dot(x, self.W.T) + self.b\n",
    "    \n",
    "    def backward(self, dz):\n",
    "        dx = np.dot(dz, self.W)\n",
    "        dW = np.dot(dz.T, self.x)\n",
    "        db = dz.sum(axis=0)\n",
    "        self.dW = dW\n",
    "        self.db = db\n",
    "        return dx\n",
    "    \n",
    "    def update(self,lr):\n",
    "        self.W -= lr*self.dW\n",
    "        self.b -= lr*self.db"
   ]
  },
  {
   "cell_type": "code",
   "execution_count": 51,
   "id": "d3876db5-3088-4ba9-8c28-2663609210ba",
   "metadata": {},
   "outputs": [],
   "source": [
    "class Softmax:\n",
    "    def forward(self,z):\n",
    "        self.z = z\n",
    "        zmax = z.max(axis=1,keepdims=True)\n",
    "        expz = np.exp(z-zmax)\n",
    "        Z = expz.sum(axis=1,keepdims=True)\n",
    "        return expz / Z\n",
    "    \n",
    "    def backward(self,dp):\n",
    "        p = self.forward(self.z)\n",
    "        pdp = p * dp\n",
    "        return pdp - p * pdp.sum(axis=1, keepdims=True)"
   ]
  },
  {
   "cell_type": "code",
   "execution_count": 52,
   "id": "4a182ff5-8672-4f1f-ac2a-00c4916186fd",
   "metadata": {},
   "outputs": [],
   "source": [
    "class Tanh:\n",
    "    def forward(self,x):\n",
    "        y = np.tanh(x)\n",
    "        self.y = y\n",
    "        return y\n",
    "    def backward(self,dy):\n",
    "        return (1.0-self.y**2)*dy"
   ]
  },
  {
   "cell_type": "code",
   "execution_count": 53,
   "id": "d6e66ee5-347c-41e8-927a-f98c27947102",
   "metadata": {},
   "outputs": [],
   "source": [
    "class CrossEntropyLoss:\n",
    "    def forward(self,p,y):\n",
    "        self.p = p\n",
    "        self.y = y\n",
    "        p = np.clip(p, 1e-12, 1. - 1e-12)\n",
    "        return -np.mean(np.multiply(y, np.log(p)) + np.multiply((1-y), np.log(1-p)))\n",
    "    \n",
    "    def backward(self,loss):\n",
    "        return self.p - self.y"
   ]
  },
  {
   "cell_type": "code",
   "execution_count": 76,
   "id": "dbde65ea-1e40-4d05-aacd-7ed119655a66",
   "metadata": {},
   "outputs": [],
   "source": [
    "class Net:\n",
    "    def __init__(self):\n",
    "        self.layers = []\n",
    "    \n",
    "    def add(self,l):\n",
    "        self.layers.append(l)\n",
    "        \n",
    "    def forward(self,x):\n",
    "        for l in self.layers:\n",
    "            x = l.forward(x)\n",
    "        return x\n",
    "    \n",
    "    def backward(self,z):\n",
    "        for l in self.layers[::-1]:\n",
    "            z = l.backward(z)\n",
    "        return z\n",
    "    \n",
    "    def update(self,lr):\n",
    "        for l in self.layers:\n",
    "            if 'update' in l.__dir__():\n",
    "                l.update(lr)\n",
    "    \n",
    "    def compile(self, loss=None, metrics=[\"accuracy\"]):\n",
    "        self.loss = loss\n",
    "        self.metrics = metrics\n",
    "    \n",
    "    def get_loss_acc(self, x, y):\n",
    "        p = self.forward(x)\n",
    "        l = self.loss.forward(p,y)\n",
    "        true_label = np.argmax(y,axis=1)\n",
    "        pred_label = np.argmax(p,axis=1)\n",
    "        acc = (pred_label==true_label).mean()\n",
    "        return l, acc\n",
    "    \n",
    "    def get_conf_mat(self, x, y):\n",
    "        p = self.forward(x)\n",
    "        true_label = np.argmax(y,axis=1)\n",
    "        pred_label = np.argmax(p,axis=1)\n",
    "        return confusion_matrix(pred_label, true_label)\n",
    "    \n",
    "    \n",
    "    def fit(self, X_train, y_train, batch_size=4, epochs=5, validation_data=None, lr=0.3):\n",
    "        X_test, y_test = validation_data\n",
    "        history = []\n",
    "        train_loss, train_acc = self.get_loss_acc(X_train, y_train)\n",
    "        test_loss, test_acc = self.get_loss_acc(X_test, y_test)\n",
    "        history.append([train_acc,train_loss,test_acc,test_loss])\n",
    "        \n",
    "#         for i in range(4):\n",
    "#             print(f\"Initial {['train_acc','train_loss','test_acc','test_loss'][i]}: {history[-1][i]}\")\n",
    "\n",
    "        for epo in range(epochs):\n",
    "            for i in range(0,len(X_train),batch_size):\n",
    "                xb = X_train[i:i+batch_size]\n",
    "                yb = y_train[i:i+batch_size]\n",
    "                p = self.forward(xb)\n",
    "                l = self.loss.forward(p,yb)\n",
    "                dp = self.loss.backward(l)\n",
    "                dx = self.backward(dp)\n",
    "                net.update(lr)\n",
    "            train_loss, train_acc = self.get_loss_acc(X_train, y_train)\n",
    "            test_loss, test_acc = self.get_loss_acc(X_test, y_test)\n",
    "            history.append([train_acc,train_loss,test_acc,test_loss])\n",
    "#             print(f\"epoch: {epo+1}/{epochs}\")\n",
    "#             for i in range(4):\n",
    "#                 print(f\"{['train_acc','train_loss','test_acc','test_loss'][i]}: {history[-1][i]}\")\n",
    "#             print(\"confusion matrix:\", self.get_conf_mat(X_train, y_train), sep='\\n')\n",
    "        return history"
   ]
  },
  {
   "cell_type": "code",
   "execution_count": 77,
   "id": "e9ea7083-48bf-4f6a-b99f-19e3d5b0ac33",
   "metadata": {},
   "outputs": [],
   "source": [
    "spl = int(len(data) * 0.8)\n",
    "x_train,y_train = [],[]\n",
    "for i in data[0:spl:]:\n",
    "    x_train.append(i[0])\n",
    "    y_train.append(i[1])\n",
    "x_test,y_test = [],[]\n",
    "for i in data[spl::]:\n",
    "    x_test.append(i[0])\n",
    "    y_test.append(i[1])"
   ]
  },
  {
   "cell_type": "code",
   "execution_count": 80,
   "id": "667ee176-1ae3-4024-a31b-4f65e6bbd951",
   "metadata": {},
   "outputs": [],
   "source": [
    "net = Net()\n",
    "net.add(Linear(np.array(x_test).shape[-1], np.array(y_test).shape[-1]))\n",
    "net.add(Softmax())\n",
    "net.compile(loss=CrossEntropyLoss())\n",
    "\n",
    "hist = net.fit(np.array(x_train), np.array(y_train), lr=0.01, epochs=50, batch_size=256, validation_data=(np.array(x_test), np.array(y_test)))"
   ]
  },
  {
   "cell_type": "code",
   "execution_count": 81,
   "id": "d0997bc2-2091-44c6-bef1-d0e59c5507da",
   "metadata": {},
   "outputs": [
    {
     "data": {
      "text/plain": [
       "<matplotlib.legend.Legend at 0x7fa8a56ada90>"
      ]
     },
     "execution_count": 81,
     "metadata": {},
     "output_type": "execute_result"
    },
    {
     "data": {
      "image/png": "[encoded data removed]",
      "text/plain": [
       "<Figure size 432x288 with 1 Axes>"
      ]
     },
     "metadata": {
      "needs_background": "light"
     },
     "output_type": "display_data"
    }
   ],
   "source": [
    "plt.clf()\n",
    "plt.ylim(0, 1.0)\n",
    "for i in range(4):\n",
    "    plt.plot([val[i] for val in hist], label=['train_acc','train_loss','test_acc','test_loss'][i])\n",
    "plt.legend()"
   ]
  },
  {
   "cell_type": "code",
   "execution_count": null,
   "id": "0789a0d0-1018-4a10-a081-0f867cc29ce9",
   "metadata": {},
   "outputs": [],
   "source": []
  },
  {
   "cell_type": "markdown",
   "id": "2283e875-ad3f-410d-a061-4103bd02122a",
   "metadata": {},
   "source": [
    "## Второй этап"
   ]
  },
  {
   "cell_type": "code",
   "execution_count": 7,
   "id": "6fcf059c-df5c-4544-a6c6-17b8c2e8cc13",
   "metadata": {},
   "outputs": [],
   "source": [
    "t = np.arange(0,3.5,0.01)\n",
    "x = lambda t: sin(sin(t) * t**2 + 5 * t)"
   ]
  },
  {
   "cell_type": "code",
   "execution_count": null,
   "id": "44f8f369-b852-4320-9205-b24034cb4fe1",
   "metadata": {},
   "outputs": [],
   "source": []
  }
 ],
 "metadata": {
  "kernelspec": {
   "display_name": "Python 3 (ipykernel)",
   "language": "python",
   "name": "python3"
  },
  "language_info": {
   "codemirror_mode": {
    "name": "ipython",
    "version": 3
   },
   "file_extension": ".py",
   "mimetype": "text/x-python",
   "name": "python",
   "nbconvert_exporter": "python",
   "pygments_lexer": "ipython3",
   "version": "3.9.1"
  }
 },
 "nbformat": 4,
 "nbformat_minor": 5
}
