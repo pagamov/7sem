{
 "cells": [
  {
   "cell_type": "code",
   "execution_count": 32,
   "id": "772ae053-84c7-4d19-a24d-301df7995e2f",
   "metadata": {},
   "outputs": [],
   "source": [
    "import numpy as np\n",
    "from math import sin, cos, pi\n",
    "from random import randint, uniform\n",
    "import matplotlib.pyplot as plt\n",
    "import random"
   ]
  },
  {
   "cell_type": "code",
   "execution_count": 33,
   "id": "e3fa3468-f4a4-4d83-b9c0-d42d56fb04e8",
   "metadata": {},
   "outputs": [],
   "source": [
    "t = np.arange(0, 2*pi, 0.025)\n",
    "a = [0.4, 0.7, 1]\n",
    "b = [0.15, 0.5, 1]\n",
    "alpha = [pi/6,-pi/3,0]\n",
    "x = lambda t,n: a[n]*cos(t)*cos(alpha[n]) - b[n]*sin(t)*sin(alpha[n])\n",
    "y = lambda t,n: a[n]*cos(t)*sin(alpha[n]) + b[n]*sin(t)*cos(alpha[n])"
   ]
  },
  {
   "cell_type": "markdown",
   "id": "7ee7765e-5a20-4798-bc4f-21bc46da1e3f",
   "metadata": {},
   "source": [
    "## Первый этап"
   ]
  },
  {
   "cell_type": "code",
   "execution_count": 34,
   "id": "1842d16b-6608-419c-8df4-3d3b62ba72cc",
   "metadata": {},
   "outputs": [
    {
     "data": {
      "text/plain": [
       "[<matplotlib.lines.Line2D at 0x1902e834550>]"
      ]
     },
     "execution_count": 34,
     "metadata": {},
     "output_type": "execute_result"
    },
    {
     "data": {
      "image/png": "[encoded data removed]",
      "text/plain": [
       "<Figure size 432x288 with 1 Axes>"
      ]
     },
     "metadata": {
      "needs_background": "light"
     },
     "output_type": "display_data"
    }
   ],
   "source": [
    "plt.xlim(-1.5, 1.5)\n",
    "plt.ylim(-1.25, 1.25)\n",
    "plt.plot([x(i,0) for i in t],[y(i,0) for i in t])\n",
    "plt.plot([x(i,1) for i in t],[y(i,1) for i in t])\n",
    "plt.plot([x(i,2) for i in t],[y(i,2) for i in t])"
   ]
  },
  {
   "cell_type": "markdown",
   "id": "b0ba7138-d056-46f2-a45a-e49cea34bd10",
   "metadata": {},
   "source": [
    "## Создание даты и выборок для обучения и теста"
   ]
  },
  {
   "cell_type": "code",
   "execution_count": 35,
   "id": "9633e7c3-23e4-4526-b7cf-99fdd5bf9333",
   "metadata": {},
   "outputs": [
    {
     "data": {
      "text/plain": [
       "756"
      ]
     },
     "execution_count": 35,
     "metadata": {},
     "output_type": "execute_result"
    }
   ],
   "source": [
    "data = []\n",
    "for i in t:\n",
    "    data.append([[x(i,0),y(i,0)],[1,0,0]])\n",
    "    data.append([[x(i,1),y(i,1)],[0,1,0]])\n",
    "    data.append([[x(i,2),y(i,2)],[0,0,1]])\n",
    "len(data)"
   ]
  },
  {
   "cell_type": "code",
   "execution_count": 36,
   "id": "f519a137-1948-4372-9517-d1b594d23b84",
   "metadata": {},
   "outputs": [],
   "source": [
    "random.shuffle(data)\n",
    "from sklearn.model_selection import train_test_split\n",
    "x_train, x_test, y_train, y_test = train_test_split([x[0] for x in data], [x[1] for x in data], test_size=0.2)"
   ]
  },
  {
   "cell_type": "markdown",
   "id": "e057dd90-9ec8-4f17-b5ac-27899763b93e",
   "metadata": {},
   "source": [
    "## Создадим нейронную сеть с обратным распространением ошибки"
   ]
  },
  {
   "cell_type": "code",
   "execution_count": 37,
   "id": "8e734655-f555-4b44-bb3e-215acea77e8d",
   "metadata": {},
   "outputs": [],
   "source": [
    "class Linear:\n",
    "    def __init__(self,nin,nout):\n",
    "        self.W = np.random.normal(0, 1.0/np.sqrt(nin), (nout, nin))\n",
    "        self.b = np.zeros((1,nout)) # сдвиг\n",
    "        \n",
    "    def forward(self, x):\n",
    "        self.x = x\n",
    "        return np.dot(x, self.W.T) + self.b\n",
    "    \n",
    "    def backward(self, dz):\n",
    "        dx = np.dot(dz, self.W)\n",
    "        dW = np.dot(dz.T, self.x)\n",
    "        db = dz.sum(axis=0)\n",
    "        self.dW = dW\n",
    "        self.db = db\n",
    "        return dx\n",
    "    \n",
    "    def update(self,lr):\n",
    "        self.W -= lr*self.dW\n",
    "        self.b -= lr*self.db"
   ]
  },
  {
   "cell_type": "code",
   "execution_count": 38,
   "id": "947ad8a6-38f7-45ad-ac93-528403154ccd",
   "metadata": {},
   "outputs": [],
   "source": [
    "class CrossEntropyLoss:\n",
    "    def forward(self,p,y):\n",
    "        self.p = p\n",
    "        self.y = y\n",
    "        p = np.clip(p, 1e-12, 1. - 1e-12)\n",
    "        return -np.mean(np.multiply(y, np.log(p)) + np.multiply((1-y), np.log(1-p)))\n",
    "    \n",
    "    def backward(self,loss):\n",
    "        return self.p - self.y"
   ]
  },
  {
   "cell_type": "code",
   "execution_count": 39,
   "id": "1caee1ec-526c-4327-b5cb-83491153f0ba",
   "metadata": {},
   "outputs": [],
   "source": [
    "class Net:\n",
    "    def __init__(self):\n",
    "        self.layers = []\n",
    "    \n",
    "    def add(self,l):\n",
    "        self.layers.append(l)\n",
    "        \n",
    "    def forward(self,x):\n",
    "        for l in self.layers:\n",
    "            x = l.forward(x)\n",
    "        return x\n",
    "    \n",
    "    def backward(self,z):\n",
    "        for l in self.layers[::-1]:\n",
    "            z = l.backward(z)\n",
    "        return z\n",
    "    \n",
    "    def update(self,lr):\n",
    "        for l in self.layers:\n",
    "            if 'update' in l.__dir__():\n",
    "                l.update(lr)\n",
    "    \n",
    "    def compile(self, loss=None, metrics=[\"accuracy\"]):\n",
    "        self.loss = loss\n",
    "        self.metrics = metrics\n",
    "    \n",
    "    def get_loss_acc(self, x, y):\n",
    "        p = self.forward(x)\n",
    "        l = self.loss.forward(p,y)\n",
    "        true_label = np.argmax(y,axis=1)\n",
    "        pred_label = np.argmax(p,axis=1)\n",
    "        acc = (pred_label==true_label).mean()\n",
    "        return l, acc\n",
    "    \n",
    "    def get_conf_mat(self, x, y):\n",
    "        p = self.forward(x)\n",
    "        true_label = np.argmax(y,axis=1)\n",
    "        pred_label = np.argmax(p,axis=1)\n",
    "        return confusion_matrix(pred_label, true_label)\n",
    "    \n",
    "    \n",
    "    def fit(self, X_train, y_train, batch_size=4, epochs=5, validation_data=None, lr=0.3):\n",
    "        X_test, y_test = validation_data\n",
    "        history = []\n",
    "        \n",
    "        for epo in range(epochs):\n",
    "            for i in range(0, len(X_train), batch_size):\n",
    "                xb = X_train[i:i+batch_size]\n",
    "                yb = y_train[i:i+batch_size]\n",
    "                p = self.forward(xb)\n",
    "#                 l = self.loss.forward(p, yb)\n",
    "                l = p - yb\n",
    "#                 print(l.sum())\n",
    "#                 dp = self.loss.backward(l)\n",
    "#                 dx = self.backward(dp)\n",
    "                dx = self.backward(l)\n",
    "                net.update(lr)\n",
    "                \n",
    "        return history"
   ]
  },
  {
   "cell_type": "code",
   "execution_count": 40,
   "id": "5042830c-d450-44e1-90ee-40ba75c8a557",
   "metadata": {},
   "outputs": [],
   "source": [
    "net = Net()\n",
    "net.add(Linear(2, 3))\n",
    "net.add(Linear(3, 3))\n",
    "net.compile(loss=CrossEntropyLoss())\n",
    "\n",
    "hist = net.fit(x_train, y_train, lr=0.001, epochs=5, validation_data=(x_test, y_test))"
   ]
  },
  {
   "cell_type": "code",
   "execution_count": 41,
   "id": "4fa3d8d8-1847-489b-b396-b458f09f2656",
   "metadata": {},
   "outputs": [
    {
     "data": {
      "text/plain": [
       "[<matplotlib.lines.Line2D at 0x1902e8c0470>]"
      ]
     },
     "execution_count": 41,
     "metadata": {},
     "output_type": "execute_result"
    },
    {
     "data": {
      "image/png": "[encoded data removed]",
      "text/plain": [
       "<Figure size 432x288 with 1 Axes>"
      ]
     },
     "metadata": {
      "needs_background": "light"
     },
     "output_type": "display_data"
    }
   ],
   "source": [
    "plt.plot(hist)"
   ]
  },
  {
   "cell_type": "code",
   "execution_count": 42,
   "id": "5a201191-9931-4450-af6e-3839365d677f",
   "metadata": {},
   "outputs": [
    {
     "data": {
      "text/plain": [
       "[1, 0, 0]"
      ]
     },
     "execution_count": 42,
     "metadata": {},
     "output_type": "execute_result"
    }
   ],
   "source": [
    "y_train[0]"
   ]
  },
  {
   "cell_type": "markdown",
   "id": "2283e875-ad3f-410d-a061-4103bd02122a",
   "metadata": {},
   "source": [
    "## Второй этап"
   ]
  },
  {
   "cell_type": "code",
   "execution_count": 7,
   "id": "6fcf059c-df5c-4544-a6c6-17b8c2e8cc13",
   "metadata": {},
   "outputs": [],
   "source": [
    "t = np.arange(0,3.5,0.01)\n",
    "x = lambda t: sin(sin(t) * t**2 + 5 * t)"
   ]
  },
  {
   "cell_type": "code",
   "execution_count": 24,
   "id": "44f8f369-b852-4320-9205-b24034cb4fe1",
   "metadata": {},
   "outputs": [],
   "source": [
    "class ActivationFunction:\n",
    "    def __init__(self):\n",
    "        pass\n",
    "    \n",
    "    def grad(self, X):\n",
    "        pass\n",
    "    \n",
    "    def __call__(self, X):\n",
    "        pass"
   ]
  },
  {
   "cell_type": "code",
   "execution_count": 25,
   "id": "9b57ecc2-8331-4078-be77-c3fae711d152",
   "metadata": {},
   "outputs": [],
   "source": [
    "class Sigmoid(ActivationFunction):\n",
    "    def __call__(self, x):\n",
    "        ans = np.zeros(x.shape)\n",
    "        mask = x < 0\n",
    "        ans[mask] = np.exp(x[mask]) / (1.0 + np.exp(x[mask]))\n",
    "        mask = x >= 0\n",
    "        ans[mask] = 1.0 / (1.0 + np.exp(-x[mask]))\n",
    "        return ans\n",
    "    \n",
    "    def grad(self, x):\n",
    "        sigm = self(x)\n",
    "        return sigm*(1.0 - sigm)"
   ]
  },
  {
   "cell_type": "code",
   "execution_count": 26,
   "id": "8f74919a-23bb-4fba-8a4f-05165d5bb60b",
   "metadata": {},
   "outputs": [],
   "source": [
    "# Fully conncted Layer with biases\n",
    "class FullyConnectedLayer:\n",
    "    def __init__(self, neuros = 64, activation = Sigmoid()):\n",
    "        self.W = None\n",
    "        self.X = None\n",
    "        self.S = None\n",
    "        self.activ_f = activation\n",
    "        self.grad_W = None # current gradient for training\n",
    "        self.neuros = neuros\n",
    "    \n",
    "    # weights initializer\n",
    "    @staticmethod\n",
    "    def weights_random_init(shape, limits):\n",
    "        mult = limits[1] - limits[0]\n",
    "        return np.random.random(shape)*mult + limits[0]\n",
    "    \n",
    "    # w_diap - diapazon of weights in init, solver - gradient method\n",
    "    def compilation(self, prev_neuros, w_diap = (-5, 5)):\n",
    "        # init weight  by random (+ 1 for bias)\n",
    "        self.W = self.weights_random_init((prev_neuros + 1, self.neuros), w_diap)\n",
    "        \n",
    "        \n",
    "    # forward step - just multiply matrix and store result\n",
    "    def forward_step(self, X):\n",
    "        # add column of ones for bias weights\n",
    "        self.X = np.append(X, np.ones((X.shape[0], 1)), axis = 1)\n",
    "        # compute net(X) function\n",
    "        self.S = self.X.dot(self.W)\n",
    "        # output - activation(net(X))\n",
    "        return self.activ_f(self.S)\n",
    "    \n",
    "    # backward step - computes gradients of loss by each weights\n",
    "    def backward_step(self, L_grad):\n",
    "        L_grad *= self.activ_f.grad(self.S) # gradient from next layer\n",
    "        next_grad = L_grad.dot(self.W[:-1].T) # gradient for next layer\n",
    "        self.grad_W = np.zeros(self.W.shape) # init grad by (m, k) of 0.0\n",
    "        # (dL/dw) - sum (avg) by all input data\n",
    "        for i in range(self.X.shape[0]):\n",
    "            # X[i] - (1, m), (dL/ds) - (1, k) =>\n",
    "            # we need dot (m, 1) on (1, k) for get gradient by all weights of (m, k)\n",
    "            self.grad_W += \\\n",
    "                self.X[i].reshape(\n",
    "                    self.X.shape[1], 1\n",
    "                ).dot(L_grad[i].reshape(1, L_grad.shape[1]))\n",
    "        # self.opt_method(d_w) # update weights with some gradient optimize method\n",
    "        return next_grad # return grad by funtion of next layer (dL/df)\n",
    "    \n",
    "    # Magic methods:\n",
    "    def __str__(self):\n",
    "        return \"FullyConnected({})\".format(self.neuros)\n",
    "    \n",
    "    def __repr__(self):\n",
    "        return self.__str__()\n",
    "    \n",
    "    def __call__(self, X):\n",
    "        return self.forward_step(X)"
   ]
  },
  {
   "cell_type": "code",
   "execution_count": 27,
   "id": "59141ed4-f2ff-4b63-9ce3-7d9f32814500",
   "metadata": {},
   "outputs": [],
   "source": [
    "class NeuralNetwork:\n",
    "    def __init__(self):\n",
    "        self.graph = []\n",
    "        self.solver = None\n",
    "        self.output = None\n",
    "    \n",
    "    #  add layer to model\n",
    "    def add(self, layer):\n",
    "        self.graph.append(layer)\n",
    "    \n",
    "    # compile sequential network\n",
    "    def compilation(self, solver, out_layer, data_dim):\n",
    "        # data_dim - dimention of input vectors\n",
    "        prev_neuros = data_dim\n",
    "        # for each layer define Weights\n",
    "        for layer in self.graph:\n",
    "            layer.compilation(prev_neuros)\n",
    "            prev_neuros = layer.neuros\n",
    "        # set loss funstion with solver\n",
    "        self.output = out_layer\n",
    "        solver.set_network(self.graph) #init solver data\n",
    "        self.solver = solver # set solver\n",
    "    \n",
    "    # train network\n",
    "    def fit(self, X, Y, X_val=None, Y_val=None, steps=600, batch_size=1):\n",
    "        hist = []\n",
    "        # compute history if validation data exist\n",
    "        if X_val is None and Y_val is None:\n",
    "            hist = None \n",
    "        # reshape Y\n",
    "        if len(Y.shape) == 1:\n",
    "            Y = np.reshape(Y, (Y.shape[0], 1))\n",
    "        # itterative weights updating\n",
    "        for _ in tqdm(range(steps)):\n",
    "            # for each batch in data do pass train pass in model\n",
    "            for i in range(0, X.shape[0] - batch_size + 1, batch_size):\n",
    "                # extract batch (X, Y)\n",
    "                X_pass = X[i: i + batch_size]\n",
    "                Y_pass = Y[i: i + batch_size]\n",
    "                # do forward pass which compute intermideate values for update\n",
    "                Y_out = self.forward_pass(X_pass)\n",
    "                # compute gradient of last output\n",
    "                Y_grad = self.output.loss_grad(Y_out, Y_pass)\n",
    "                # compuite gradients for each layer in graph\n",
    "                self.backward_pass(Y_grad)\n",
    "                # solver has graph, call will update weights of layers\n",
    "                self.solver()\n",
    "            # append val loss to history if exist\n",
    "            if hist is not None:\n",
    "                hist.append(self.loss(X_val, Y_val))\n",
    "        # return history of train\n",
    "        return hist\n",
    "    \n",
    "    # forward pass - just matrix mults from start to end\n",
    "    def forward_pass(self, X_pass):\n",
    "        X_pass = np.copy(X_pass)\n",
    "        for layer in self.graph:\n",
    "            X_pass = layer(X_pass)\n",
    "        \n",
    "        return self.output(X_pass)\n",
    "    \n",
    "    # backward pass - backdirection move, which computes derivatives for layers\n",
    "    def backward_pass(self, Y_grad):\n",
    "        # getback direction\n",
    "        back_direction = reversed(self.graph)\n",
    "        for layer in back_direction:\n",
    "            # compute gradient for next layer\n",
    "            Y_grad = layer.backward_step(Y_grad)\n",
    "            \n",
    "    def classify(self, X):\n",
    "        return self.output.classify(self(X))\n",
    "    \n",
    "    def classify_task(self, X):\n",
    "        return self.output.classify_task(self(X))\n",
    "    \n",
    "    def loss(self, X, Y):\n",
    "        return self.output.loss(self(X), Y)\n",
    "            \n",
    "    def __call__(self, X):\n",
    "        if len(X.shape) == 1:\n",
    "            X = X.reshape(1, X.shape[0])\n",
    "        return self.forward_pass(X)\n",
    "    \n",
    "    def __str__(self):\n",
    "        return \"Neural Network\"\n",
    "    \n",
    "    def __repr__(self):\n",
    "        return self.__str__()"
   ]
  },
  {
   "cell_type": "code",
   "execution_count": 28,
   "id": "8e5f23aa-b29d-4fb8-b9c7-d9d67246bdad",
   "metadata": {},
   "outputs": [
    {
     "ename": "NameError",
     "evalue": "name 'RProp' is not defined",
     "output_type": "error",
     "traceback": [
      "\u001b[1;31m---------------------------------------------------------------------------\u001b[0m",
      "\u001b[1;31mNameError\u001b[0m                                 Traceback (most recent call last)",
      "\u001b[1;32m~\\AppData\\Local\\Temp/ipykernel_6124/674308171.py\u001b[0m in \u001b[0;36m<module>\u001b[1;34m\u001b[0m\n\u001b[0;32m      3\u001b[0m \u001b[0mmodel\u001b[0m\u001b[1;33m.\u001b[0m\u001b[0madd\u001b[0m\u001b[1;33m(\u001b[0m\u001b[0mFullyConnectedLayer\u001b[0m\u001b[1;33m(\u001b[0m\u001b[0mneuros\u001b[0m\u001b[1;33m=\u001b[0m\u001b[1;36m3\u001b[0m\u001b[1;33m,\u001b[0m \u001b[0mactivation\u001b[0m\u001b[1;33m=\u001b[0m\u001b[0mSigmoid\u001b[0m\u001b[1;33m(\u001b[0m\u001b[1;33m)\u001b[0m\u001b[1;33m)\u001b[0m\u001b[1;33m)\u001b[0m\u001b[1;33m\u001b[0m\u001b[1;33m\u001b[0m\u001b[0m\n\u001b[0;32m      4\u001b[0m \u001b[1;33m\u001b[0m\u001b[0m\n\u001b[1;32m----> 5\u001b[1;33m \u001b[0mmodel\u001b[0m\u001b[1;33m.\u001b[0m\u001b[0mcompilation\u001b[0m\u001b[1;33m(\u001b[0m\u001b[0msolver\u001b[0m\u001b[1;33m=\u001b[0m\u001b[0mRProp\u001b[0m\u001b[1;33m(\u001b[0m\u001b[1;33m)\u001b[0m\u001b[1;33m,\u001b[0m \u001b[0mout_layer\u001b[0m\u001b[1;33m=\u001b[0m\u001b[0mLinear_with_MSE\u001b[0m\u001b[1;33m(\u001b[0m\u001b[1;33m)\u001b[0m\u001b[1;33m,\u001b[0m \u001b[0mdata_dim\u001b[0m\u001b[1;33m=\u001b[0m\u001b[1;36m2\u001b[0m\u001b[1;33m)\u001b[0m\u001b[1;33m\u001b[0m\u001b[1;33m\u001b[0m\u001b[0m\n\u001b[0m\u001b[0;32m      6\u001b[0m \u001b[0mhist\u001b[0m \u001b[1;33m=\u001b[0m \u001b[0mmodel\u001b[0m\u001b[1;33m.\u001b[0m\u001b[0mfit\u001b[0m\u001b[1;33m(\u001b[0m\u001b[0mX_train\u001b[0m\u001b[1;33m,\u001b[0m \u001b[0mY_train\u001b[0m\u001b[1;33m,\u001b[0m \u001b[0mX_valid\u001b[0m\u001b[1;33m,\u001b[0m \u001b[0mY_valid\u001b[0m\u001b[1;33m,\u001b[0m \u001b[1;36m40\u001b[0m\u001b[1;33m,\u001b[0m \u001b[0mX_train\u001b[0m\u001b[1;33m.\u001b[0m\u001b[0mshape\u001b[0m\u001b[1;33m[\u001b[0m\u001b[1;36m0\u001b[0m\u001b[1;33m]\u001b[0m\u001b[1;33m)\u001b[0m\u001b[1;33m\u001b[0m\u001b[1;33m\u001b[0m\u001b[0m\n",
      "\u001b[1;31mNameError\u001b[0m: name 'RProp' is not defined"
     ]
    }
   ],
   "source": [
    "model = NeuralNetwork()\n",
    "model.add(FullyConnectedLayer(neuros=20, activation=Sigmoid()))\n",
    "model.add(FullyConnectedLayer(neuros=3, activation=Sigmoid()))\n",
    "\n",
    "model.compilation(solver=RProp(), out_layer=Linear_with_MSE(), data_dim=2)\n",
    "hist = model.fit(X_train, Y_train, X_valid, Y_valid, 40, X_train.shape[0])"
   ]
  },
  {
   "cell_type": "code",
   "execution_count": null,
   "id": "dd712048-7bc2-436e-b131-b6fd9e32a816",
   "metadata": {},
   "outputs": [],
   "source": []
  }
 ],
 "metadata": {
  "kernelspec": {
   "display_name": "Python 3 (ipykernel)",
   "language": "python",
   "name": "python3"
  },
  "language_info": {
   "codemirror_mode": {
    "name": "ipython",
    "version": 3
   },
   "file_extension": ".py",
   "mimetype": "text/x-python",
   "name": "python",
   "nbconvert_exporter": "python",
   "pygments_lexer": "ipython3",
   "version": "3.9.1"
  }
 },
 "nbformat": 4,
 "nbformat_minor": 5
}
