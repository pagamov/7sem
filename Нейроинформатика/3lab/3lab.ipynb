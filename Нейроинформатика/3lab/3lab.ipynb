{
 "cells": [
  {
   "cell_type": "code",
   "execution_count": 29,
   "id": "772ae053-84c7-4d19-a24d-301df7995e2f",
   "metadata": {},
   "outputs": [],
   "source": [
    "import numpy as np\n",
    "from math import sin, cos, pi\n",
    "from random import randint, uniform\n",
    "import matplotlib.pyplot as plt"
   ]
  },
  {
   "cell_type": "code",
   "execution_count": 30,
   "id": "e3fa3468-f4a4-4d83-b9c0-d42d56fb04e8",
   "metadata": {},
   "outputs": [],
   "source": [
    "t = np.arange(0, 2*pi, 0.025)\n",
    "a = [0.4, 0.7, 1]\n",
    "b = [0.15, 0.5, 1]\n",
    "alpha = [pi/6,-pi/3,0]\n",
    "x = lambda t,n: a[n]*cos(t)*cos(alpha[n]) - b[n]*sin(t)*sin(alpha[n])\n",
    "y = lambda t,n: a[n]*cos(t)*sin(alpha[n]) + b[n]*sin(t)*cos(alpha[n])"
   ]
  },
  {
   "cell_type": "markdown",
   "id": "7ee7765e-5a20-4798-bc4f-21bc46da1e3f",
   "metadata": {},
   "source": [
    "## Первый этап"
   ]
  },
  {
   "cell_type": "code",
   "execution_count": 31,
   "id": "1842d16b-6608-419c-8df4-3d3b62ba72cc",
   "metadata": {},
   "outputs": [
    {
     "data": {
      "text/plain": [
       "[<matplotlib.lines.Line2D at 0x1d9eae23080>]"
      ]
     },
     "execution_count": 31,
     "metadata": {},
     "output_type": "execute_result"
    },
    {
     "data": {
      "image/png": "[encoded data removed]",
      "text/plain": [
       "<Figure size 432x288 with 1 Axes>"
      ]
     },
     "metadata": {
      "needs_background": "light"
     },
     "output_type": "display_data"
    }
   ],
   "source": [
    "plt.xlim(-1.5, 1.5)\n",
    "plt.ylim(-1.25, 1.25)\n",
    "plt.plot([x(i,0) for i in t],[y(i,0) for i in t])\n",
    "plt.plot([x(i,1) for i in t],[y(i,1) for i in t])\n",
    "plt.plot([x(i,2) for i in t],[y(i,2) for i in t])"
   ]
  },
  {
   "cell_type": "markdown",
   "id": "b0ba7138-d056-46f2-a45a-e49cea34bd10",
   "metadata": {},
   "source": [
    "## Создание даты и выборок для обучения и теста"
   ]
  },
  {
   "cell_type": "code",
   "execution_count": 32,
   "id": "9633e7c3-23e4-4526-b7cf-99fdd5bf9333",
   "metadata": {},
   "outputs": [
    {
     "data": {
      "text/plain": [
       "756"
      ]
     },
     "execution_count": 32,
     "metadata": {},
     "output_type": "execute_result"
    }
   ],
   "source": [
    "data = []\n",
    "for i in t:\n",
    "    data.append([[x(i,0),y(i,0)],[1,0,0]])\n",
    "    data.append([[x(i,1),y(i,1)],[0,1,0]])\n",
    "    data.append([[x(i,2),y(i,2)],[0,0,1]])\n",
    "len(data)"
   ]
  },
  {
   "cell_type": "code",
   "execution_count": 33,
   "id": "b5035ae8-1f23-460a-87b5-decc6dc892ac",
   "metadata": {},
   "outputs": [],
   "source": [
    "import random\n",
    "from sklearn.model_selection import train_test_split"
   ]
  },
  {
   "cell_type": "code",
   "execution_count": 34,
   "id": "f519a137-1948-4372-9517-d1b594d23b84",
   "metadata": {},
   "outputs": [],
   "source": [
    "random.shuffle(data)\n",
    "x_train, x_test, y_train, y_test = train_test_split([x[0] for x in data], [x[1] for x in data], test_size=0.2)"
   ]
  },
  {
   "cell_type": "markdown",
   "id": "e057dd90-9ec8-4f17-b5ac-27899763b93e",
   "metadata": {},
   "source": [
    "## Создадим нейронную сеть с обратным распространением ошибки"
   ]
  },
  {
   "cell_type": "code",
   "execution_count": 44,
   "id": "8e734655-f555-4b44-bb3e-215acea77e8d",
   "metadata": {},
   "outputs": [],
   "source": [
    "class Linear:\n",
    "    def __init__(self, nin, nout):\n",
    "        self.W = np.random.normal(0, 1.0/np.sqrt(nin), (nout, nin))\n",
    "        self.b = np.zeros((1,nout))\n",
    "    def forward(self, x):\n",
    "        self.x = x\n",
    "        return np.dot(x, self.W.T) + self.b"
   ]
  },
  {
   "cell_type": "code",
   "execution_count": 51,
   "id": "1caee1ec-526c-4327-b5cb-83491153f0ba",
   "metadata": {},
   "outputs": [],
   "source": [
    "class Net:\n",
    "    def __init__(self):\n",
    "        self.layers = []\n",
    "    def add(self, l):\n",
    "        self.layers.append(l)\n",
    "    def forward(self,x):\n",
    "        for l in self.layers:\n",
    "            x = l.forward(x)\n",
    "        return x"
   ]
  },
  {
   "cell_type": "code",
   "execution_count": 52,
   "id": "5042830c-d450-44e1-90ee-40ba75c8a557",
   "metadata": {},
   "outputs": [],
   "source": [
    "net = Net()\n",
    "net.add(Linear(2,3))\n",
    "net.add(Linear(3,3))"
   ]
  },
  {
   "cell_type": "code",
   "execution_count": 53,
   "id": "81fa74a6-7da9-4ef5-9a41-e89fecaf464b",
   "metadata": {},
   "outputs": [
    {
     "data": {
      "text/plain": [
       "array([[ 0.20869848,  0.03089058, -0.19988212]])"
      ]
     },
     "execution_count": 53,
     "metadata": {},
     "output_type": "execute_result"
    }
   ],
   "source": [
    "net.forward(x_train[0])"
   ]
  },
  {
   "cell_type": "code",
   "execution_count": 54,
   "id": "5a201191-9931-4450-af6e-3839365d677f",
   "metadata": {},
   "outputs": [
    {
     "data": {
      "text/plain": [
       "[1, 0, 0]"
      ]
     },
     "execution_count": 54,
     "metadata": {},
     "output_type": "execute_result"
    }
   ],
   "source": [
    "y_train[0]"
   ]
  },
  {
   "cell_type": "code",
   "execution_count": null,
   "id": "686507fa-474d-4dcc-85cc-ba62c3e00abd",
   "metadata": {},
   "outputs": [],
   "source": []
  },
  {
   "cell_type": "code",
   "execution_count": 35,
   "id": "ccb5a59c-61b8-4eff-b44b-ecc478020fea",
   "metadata": {},
   "outputs": [],
   "source": [
    "class Linear:\n",
    "    def __init__(self,nin,nout):\n",
    "        \n",
    "        \n",
    "    def forward(self, x):\n",
    "        \n",
    "    \n",
    "    def backward(self, dz):\n",
    "        dx = np.dot(dz, self.W)\n",
    "        dW = np.dot(dz.T, self.x)\n",
    "        db = dz.sum(axis=0)\n",
    "        self.dW = dW\n",
    "        self.db = db\n",
    "        return dx\n",
    "    \n",
    "    def update(self,lr):\n",
    "        self.W -= lr*self.dW\n",
    "        self.b -= lr*self.db"
   ]
  },
  {
   "cell_type": "code",
   "execution_count": 36,
   "id": "dbde65ea-1e40-4d05-aacd-7ed119655a66",
   "metadata": {},
   "outputs": [],
   "source": [
    "class Net:\n",
    "    def __init__(self):\n",
    "        self.layers = []\n",
    "    \n",
    "    def add(self,l):\n",
    "        self.layers.append(l)\n",
    "        \n",
    "    \n",
    "    \n",
    "    def backward(self,z):\n",
    "        for l in self.layers[::-1]:\n",
    "            z = l.backward(z)\n",
    "        return z\n",
    "    \n",
    "    def update(self,lr):\n",
    "        for l in self.layers:\n",
    "            if 'update' in l.__dir__():\n",
    "                l.update(lr)\n",
    "    \n",
    "    def get_loss_acc(self, x, y):\n",
    "        p = self.forward(x)\n",
    "        l = self.loss.forward(p,y)\n",
    "        true_label = np.argmax(y,axis=1)\n",
    "        pred_label = np.argmax(p,axis=1)\n",
    "        acc = (pred_label==true_label).mean()\n",
    "        return l, acc\n",
    "    \n",
    "    def fit(self, X_train, y_train, batch_size=4, epochs=5, validation_data=None, lr=0.3):\n",
    "        X_test, y_test = validation_data\n",
    "        history = []\n",
    "        train_loss, train_acc = self.get_loss_acc(X_train, y_train)\n",
    "        test_loss, test_acc = self.get_loss_acc(X_test, y_test)\n",
    "        history.append([train_acc,train_loss,test_acc,test_loss])\n",
    "        \n",
    "        for epo in range(epochs):\n",
    "            for i in range(0,len(X_train),batch_size):\n",
    "                xb = X_train[i:i+batch_size]\n",
    "                yb = y_train[i:i+batch_size]\n",
    "                p = self.forward(xb)\n",
    "                l = self.loss.forward(p,yb)\n",
    "                dp = self.loss.backward(l)\n",
    "                dx = self.backward(dp)\n",
    "                net.update(lr)\n",
    "            train_loss, train_acc = self.get_loss_acc(X_train, y_train)\n",
    "            test_loss, test_acc = self.get_loss_acc(X_test, y_test)\n",
    "            history.append([train_acc,train_loss,test_acc,test_loss])\n",
    "        return history"
   ]
  },
  {
   "cell_type": "code",
   "execution_count": 37,
   "id": "667ee176-1ae3-4024-a31b-4f65e6bbd951",
   "metadata": {},
   "outputs": [
    {
     "ename": "AttributeError",
     "evalue": "'Net' object has no attribute 'loss'",
     "output_type": "error",
     "traceback": [
      "\u001b[1;31m---------------------------------------------------------------------------\u001b[0m",
      "\u001b[1;31mAttributeError\u001b[0m                            Traceback (most recent call last)",
      "\u001b[1;32m~\\AppData\\Local\\Temp/ipykernel_5032/3491546185.py\u001b[0m in \u001b[0;36m<module>\u001b[1;34m\u001b[0m\n\u001b[0;32m      3\u001b[0m \u001b[0mnet\u001b[0m\u001b[1;33m.\u001b[0m\u001b[0madd\u001b[0m\u001b[1;33m(\u001b[0m\u001b[0mSoftmax\u001b[0m\u001b[1;33m(\u001b[0m\u001b[1;33m)\u001b[0m\u001b[1;33m)\u001b[0m\u001b[1;33m\u001b[0m\u001b[1;33m\u001b[0m\u001b[0m\n\u001b[0;32m      4\u001b[0m \u001b[1;33m\u001b[0m\u001b[0m\n\u001b[1;32m----> 5\u001b[1;33m \u001b[0mhist\u001b[0m \u001b[1;33m=\u001b[0m \u001b[0mnet\u001b[0m\u001b[1;33m.\u001b[0m\u001b[0mfit\u001b[0m\u001b[1;33m(\u001b[0m\u001b[0mnp\u001b[0m\u001b[1;33m.\u001b[0m\u001b[0marray\u001b[0m\u001b[1;33m(\u001b[0m\u001b[0mx_train\u001b[0m\u001b[1;33m)\u001b[0m\u001b[1;33m,\u001b[0m \u001b[0mnp\u001b[0m\u001b[1;33m.\u001b[0m\u001b[0marray\u001b[0m\u001b[1;33m(\u001b[0m\u001b[0my_train\u001b[0m\u001b[1;33m)\u001b[0m\u001b[1;33m,\u001b[0m \u001b[0mlr\u001b[0m\u001b[1;33m=\u001b[0m\u001b[1;36m0.01\u001b[0m\u001b[1;33m,\u001b[0m \u001b[0mepochs\u001b[0m\u001b[1;33m=\u001b[0m\u001b[1;36m50\u001b[0m\u001b[1;33m,\u001b[0m \u001b[0mbatch_size\u001b[0m\u001b[1;33m=\u001b[0m\u001b[1;36m256\u001b[0m\u001b[1;33m,\u001b[0m \u001b[0mvalidation_data\u001b[0m\u001b[1;33m=\u001b[0m\u001b[1;33m(\u001b[0m\u001b[0mnp\u001b[0m\u001b[1;33m.\u001b[0m\u001b[0marray\u001b[0m\u001b[1;33m(\u001b[0m\u001b[0mx_test\u001b[0m\u001b[1;33m)\u001b[0m\u001b[1;33m,\u001b[0m \u001b[0mnp\u001b[0m\u001b[1;33m.\u001b[0m\u001b[0marray\u001b[0m\u001b[1;33m(\u001b[0m\u001b[0my_test\u001b[0m\u001b[1;33m)\u001b[0m\u001b[1;33m)\u001b[0m\u001b[1;33m)\u001b[0m\u001b[1;33m\u001b[0m\u001b[1;33m\u001b[0m\u001b[0m\n\u001b[0m",
      "\u001b[1;32m~\\AppData\\Local\\Temp/ipykernel_5032/257331858.py\u001b[0m in \u001b[0;36mfit\u001b[1;34m(self, X_train, y_train, batch_size, epochs, validation_data, lr)\u001b[0m\n\u001b[0;32m     39\u001b[0m         \u001b[0mX_test\u001b[0m\u001b[1;33m,\u001b[0m \u001b[0my_test\u001b[0m \u001b[1;33m=\u001b[0m \u001b[0mvalidation_data\u001b[0m\u001b[1;33m\u001b[0m\u001b[1;33m\u001b[0m\u001b[0m\n\u001b[0;32m     40\u001b[0m         \u001b[0mhistory\u001b[0m \u001b[1;33m=\u001b[0m \u001b[1;33m[\u001b[0m\u001b[1;33m]\u001b[0m\u001b[1;33m\u001b[0m\u001b[1;33m\u001b[0m\u001b[0m\n\u001b[1;32m---> 41\u001b[1;33m         \u001b[0mtrain_loss\u001b[0m\u001b[1;33m,\u001b[0m \u001b[0mtrain_acc\u001b[0m \u001b[1;33m=\u001b[0m \u001b[0mself\u001b[0m\u001b[1;33m.\u001b[0m\u001b[0mget_loss_acc\u001b[0m\u001b[1;33m(\u001b[0m\u001b[0mX_train\u001b[0m\u001b[1;33m,\u001b[0m \u001b[0my_train\u001b[0m\u001b[1;33m)\u001b[0m\u001b[1;33m\u001b[0m\u001b[1;33m\u001b[0m\u001b[0m\n\u001b[0m\u001b[0;32m     42\u001b[0m         \u001b[0mtest_loss\u001b[0m\u001b[1;33m,\u001b[0m \u001b[0mtest_acc\u001b[0m \u001b[1;33m=\u001b[0m \u001b[0mself\u001b[0m\u001b[1;33m.\u001b[0m\u001b[0mget_loss_acc\u001b[0m\u001b[1;33m(\u001b[0m\u001b[0mX_test\u001b[0m\u001b[1;33m,\u001b[0m \u001b[0my_test\u001b[0m\u001b[1;33m)\u001b[0m\u001b[1;33m\u001b[0m\u001b[1;33m\u001b[0m\u001b[0m\n\u001b[0;32m     43\u001b[0m         \u001b[0mhistory\u001b[0m\u001b[1;33m.\u001b[0m\u001b[0mappend\u001b[0m\u001b[1;33m(\u001b[0m\u001b[1;33m[\u001b[0m\u001b[0mtrain_acc\u001b[0m\u001b[1;33m,\u001b[0m\u001b[0mtrain_loss\u001b[0m\u001b[1;33m,\u001b[0m\u001b[0mtest_acc\u001b[0m\u001b[1;33m,\u001b[0m\u001b[0mtest_loss\u001b[0m\u001b[1;33m]\u001b[0m\u001b[1;33m)\u001b[0m\u001b[1;33m\u001b[0m\u001b[1;33m\u001b[0m\u001b[0m\n",
      "\u001b[1;32m~\\AppData\\Local\\Temp/ipykernel_5032/257331858.py\u001b[0m in \u001b[0;36mget_loss_acc\u001b[1;34m(self, x, y)\u001b[0m\n\u001b[0;32m     23\u001b[0m     \u001b[1;32mdef\u001b[0m \u001b[0mget_loss_acc\u001b[0m\u001b[1;33m(\u001b[0m\u001b[0mself\u001b[0m\u001b[1;33m,\u001b[0m \u001b[0mx\u001b[0m\u001b[1;33m,\u001b[0m \u001b[0my\u001b[0m\u001b[1;33m)\u001b[0m\u001b[1;33m:\u001b[0m\u001b[1;33m\u001b[0m\u001b[1;33m\u001b[0m\u001b[0m\n\u001b[0;32m     24\u001b[0m         \u001b[0mp\u001b[0m \u001b[1;33m=\u001b[0m \u001b[0mself\u001b[0m\u001b[1;33m.\u001b[0m\u001b[0mforward\u001b[0m\u001b[1;33m(\u001b[0m\u001b[0mx\u001b[0m\u001b[1;33m)\u001b[0m\u001b[1;33m\u001b[0m\u001b[1;33m\u001b[0m\u001b[0m\n\u001b[1;32m---> 25\u001b[1;33m         \u001b[0ml\u001b[0m \u001b[1;33m=\u001b[0m \u001b[0mself\u001b[0m\u001b[1;33m.\u001b[0m\u001b[0mloss\u001b[0m\u001b[1;33m.\u001b[0m\u001b[0mforward\u001b[0m\u001b[1;33m(\u001b[0m\u001b[0mp\u001b[0m\u001b[1;33m,\u001b[0m\u001b[0my\u001b[0m\u001b[1;33m)\u001b[0m\u001b[1;33m\u001b[0m\u001b[1;33m\u001b[0m\u001b[0m\n\u001b[0m\u001b[0;32m     26\u001b[0m         \u001b[0mtrue_label\u001b[0m \u001b[1;33m=\u001b[0m \u001b[0mnp\u001b[0m\u001b[1;33m.\u001b[0m\u001b[0margmax\u001b[0m\u001b[1;33m(\u001b[0m\u001b[0my\u001b[0m\u001b[1;33m,\u001b[0m\u001b[0maxis\u001b[0m\u001b[1;33m=\u001b[0m\u001b[1;36m1\u001b[0m\u001b[1;33m)\u001b[0m\u001b[1;33m\u001b[0m\u001b[1;33m\u001b[0m\u001b[0m\n\u001b[0;32m     27\u001b[0m         \u001b[0mpred_label\u001b[0m \u001b[1;33m=\u001b[0m \u001b[0mnp\u001b[0m\u001b[1;33m.\u001b[0m\u001b[0margmax\u001b[0m\u001b[1;33m(\u001b[0m\u001b[0mp\u001b[0m\u001b[1;33m,\u001b[0m\u001b[0maxis\u001b[0m\u001b[1;33m=\u001b[0m\u001b[1;36m1\u001b[0m\u001b[1;33m)\u001b[0m\u001b[1;33m\u001b[0m\u001b[1;33m\u001b[0m\u001b[0m\n",
      "\u001b[1;31mAttributeError\u001b[0m: 'Net' object has no attribute 'loss'"
     ]
    }
   ],
   "source": [
    "net = Net()\n",
    "net.add(Linear(np.array(x_test).shape[-1], np.array(y_test).shape[-1]))\n",
    "net.add(Softmax())\n",
    "\n",
    "hist = net.fit(np.array(x_train), np.array(y_train), lr=0.01, epochs=50, batch_size=256, validation_data=(np.array(x_test), np.array(y_test)))"
   ]
  },
  {
   "cell_type": "code",
   "execution_count": 38,
   "id": "d0997bc2-2091-44c6-bef1-d0e59c5507da",
   "metadata": {},
   "outputs": [
    {
     "data": {
      "text/plain": [
       "<matplotlib.legend.Legend at 0x1d9eae9d898>"
      ]
     },
     "execution_count": 38,
     "metadata": {},
     "output_type": "execute_result"
    },
    {
     "data": {
      "image/png": "[encoded data removed]",
      "text/plain": [
       "<Figure size 432x288 with 1 Axes>"
      ]
     },
     "metadata": {
      "needs_background": "light"
     },
     "output_type": "display_data"
    }
   ],
   "source": [
    "plt.clf()\n",
    "plt.ylim(0, 1.0)\n",
    "for i in range(4):\n",
    "    plt.plot([val[i] for val in hist], label=['train_acc','train_loss','test_acc','test_loss'][i])\n",
    "plt.legend()"
   ]
  },
  {
   "cell_type": "code",
   "execution_count": null,
   "id": "0789a0d0-1018-4a10-a081-0f867cc29ce9",
   "metadata": {},
   "outputs": [],
   "source": []
  },
  {
   "cell_type": "markdown",
   "id": "2283e875-ad3f-410d-a061-4103bd02122a",
   "metadata": {},
   "source": [
    "## Второй этап"
   ]
  },
  {
   "cell_type": "code",
   "execution_count": 7,
   "id": "6fcf059c-df5c-4544-a6c6-17b8c2e8cc13",
   "metadata": {},
   "outputs": [],
   "source": [
    "t = np.arange(0,3.5,0.01)\n",
    "x = lambda t: sin(sin(t) * t**2 + 5 * t)"
   ]
  },
  {
   "cell_type": "code",
   "execution_count": null,
   "id": "44f8f369-b852-4320-9205-b24034cb4fe1",
   "metadata": {},
   "outputs": [],
   "source": []
  }
 ],
 "metadata": {
  "kernelspec": {
   "display_name": "Python 3 (ipykernel)",
   "language": "python",
   "name": "python3"
  },
  "language_info": {
   "codemirror_mode": {
    "name": "ipython",
    "version": 3
   },
   "file_extension": ".py",
   "mimetype": "text/x-python",
   "name": "python",
   "nbconvert_exporter": "python",
   "pygments_lexer": "ipython3",
   "version": "3.7.2rc1"
  }
 },
 "nbformat": 4,
 "nbformat_minor": 5
}
