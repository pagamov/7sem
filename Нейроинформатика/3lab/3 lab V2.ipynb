{
 "cells": [
  {
   "cell_type": "code",
   "execution_count": 1,
   "metadata": {},
   "outputs": [],
   "source": [
    "import random\n",
    "import numpy as np\n",
    "from numpy.random import permutation\n",
    "import matplotlib.pyplot as plt\n",
    "from tqdm import tqdm\n",
    "import math"
   ]
  },
  {
   "cell_type": "markdown",
   "metadata": {},
   "source": [
    "**Вариант №4:** \n",
    "\n",
    "*Этап №1:*\n",
    "\n",
    "Эллипс: $a = 0.4, b = 0.15, \\alpha = \\frac{\\pi}{6}, x_0 = 0, y_0 = 0$\n",
    "\n",
    "Эллипс: $a = 0.7, b = 0.5, \\alpha = -\\frac{\\pi}{3}, x_0 = 0, y_0 = 0$\n",
    "\n",
    "Эллипс: $a = 1, b = 1, \\alpha = 0, x_0 = 0, y_0 = 0$\n",
    "\n",
    "`Метод Resilient propagation.`\n",
    "\n",
    "*Этап №2-3:*\n",
    "\n",
    "$$x = \\cos{(−3t^2 + 5t + 10)} , \\; t \\in [0, 2.5], h = 0.01$$\n",
    "\n",
    "`Метод градиентного спуска` и `метод, предложенный Бройденом, Флетчером, Гольдфарбом и Шанно.`"
   ]
  },
  {
   "cell_type": "code",
   "execution_count": 2,
   "metadata": {},
   "outputs": [],
   "source": [
    "a1, a2, a3 = 0.4, 0.7, 1.0\n",
    "b1, b2, b3 = 0.15, 0.5, 1.0\n",
    "alpha1, alpha2, alpha3 = math.pi / 6, -math.pi / 3, 0.0"
   ]
  },
  {
   "cell_type": "code",
   "execution_count": 3,
   "metadata": {},
   "outputs": [],
   "source": [
    "def elipsis(a, b):\n",
    "    gen = np.arange(0.0, 2* np.pi, 0.025)\n",
    "    return np.array([a*np.cos(t) for t in gen]), np.array([b*np.sin(t) for t in gen])"
   ]
  },
  {
   "cell_type": "code",
   "execution_count": 4,
   "metadata": {},
   "outputs": [],
   "source": [
    "def rotate_coords(x0, y0, alpha):\n",
    "    gen = zip(x0, y0)\n",
    "    func = lambda xy: (\n",
    "        np.cos(alpha)*xy[0] - np.sin(alpha)*xy[1],\n",
    "        np.sin(alpha)*xy[0] + np.cos(alpha)*xy[1]\n",
    "    )\n",
    "    transform = map(func, gen)\n",
    "    result = tuple(map(np.array, zip(*transform)))\n",
    "    \n",
    "    return result[0], result[1]"
   ]
  },
  {
   "cell_type": "markdown",
   "metadata": {},
   "source": [
    "### Реализация сети"
   ]
  },
  {
   "cell_type": "code",
   "execution_count": 5,
   "metadata": {},
   "outputs": [],
   "source": [
    "class ActivationFunction:\n",
    "    def __init__(self):\n",
    "        pass\n",
    "    def grad(self, X):\n",
    "        pass\n",
    "    def __call__(self, X):\n",
    "        pass"
   ]
  },
  {
   "cell_type": "code",
   "execution_count": 6,
   "metadata": {},
   "outputs": [],
   "source": [
    "class Purelin(ActivationFunction):\n",
    "    def __call__(self, x):\n",
    "        return x\n",
    "    def grad(self, x):\n",
    "        return 1.0"
   ]
  },
  {
   "cell_type": "code",
   "execution_count": 7,
   "metadata": {},
   "outputs": [],
   "source": [
    "class Tansig(ActivationFunction):\n",
    "    def __call__(self, x):\n",
    "        return np.tanh(x)\n",
    "    def grad(self, x):\n",
    "        return 1.0 - self(x)**2.0"
   ]
  },
  {
   "cell_type": "code",
   "execution_count": 8,
   "metadata": {},
   "outputs": [],
   "source": [
    "class Sigmoid(ActivationFunction):\n",
    "    def __call__(self, x):\n",
    "        ans = np.zeros(x.shape)\n",
    "        mask = x < 0\n",
    "        ans[mask] = np.exp(x[mask]) / (1.0 + np.exp(x[mask]))\n",
    "        mask = x >= 0\n",
    "        ans[mask] = 1.0 / (1.0 + np.exp(-x[mask]))\n",
    "        return ans\n",
    "    \n",
    "    def grad(self, x):\n",
    "        sigm = self(x)\n",
    "        return sigm*(1.0 - sigm)"
   ]
  },
  {
   "cell_type": "markdown",
   "metadata": {},
   "source": [
    "**Методы оптимизации:**"
   ]
  },
  {
   "cell_type": "code",
   "execution_count": 9,
   "metadata": {},
   "outputs": [],
   "source": [
    "class OptimizeSolver:\n",
    "    def __init__(self):\n",
    "        self.graph = None\n",
    "    def set_network(self, network):\n",
    "        self.graph = network\n",
    "    def __call__(self):\n",
    "        pass"
   ]
  },
  {
   "cell_type": "code",
   "execution_count": 10,
   "metadata": {},
   "outputs": [],
   "source": [
    "class GradientDescent(OptimizeSolver):\n",
    "    def __init__(self, learn_rate=0.001):\n",
    "        super().__init__()\n",
    "        self.lr = learn_rate\n",
    "        \n",
    "    def __call__(self):\n",
    "        for layer in self.graph:\n",
    "            layer.W -= self.lr*layer.grad_W"
   ]
  },
  {
   "cell_type": "code",
   "execution_count": 11,
   "metadata": {},
   "outputs": [],
   "source": [
    "class RProp(OptimizeSolver):\n",
    "    def __init__(self, inf = 1e-6, sup = 50.0, n_neg=0.5, n_pos=1.2):\n",
    "        super().__init__()\n",
    "        self.last_grads = []\n",
    "        self.last_deltas = []\n",
    "        self.inf = inf\n",
    "        self.sup = sup\n",
    "        self.n_neg = n_neg\n",
    "        self.n_pos = n_pos\n",
    "        \n",
    "    def set_network(self, network):\n",
    "        super().set_network(network)\n",
    "        # init last layers\n",
    "        for layer in self.graph:\n",
    "            self.last_grads.append(np.ones(layer.W.shape))\n",
    "            self.last_deltas.append(np.random.random(layer.W.shape))\n",
    "            \n",
    "    def data_generator(self):\n",
    "        return zip(self.graph, self.last_grads, self.last_deltas)\n",
    "    \n",
    "    def __call__(self):\n",
    "        for layer, l_g, l_delta in self.data_generator():\n",
    "            # compute new delta value inplace old value\n",
    "            temp = l_delta[layer.grad_W*l_g > 0]\n",
    "            l_delta[layer.grad_W*l_g > 0] = np.minimum(self.sup, temp*self.n_pos)\n",
    "            temp = l_delta[layer.grad_W*l_g < 0]\n",
    "            l_delta[layer.grad_W*l_g < 0] = np.maximum(self.inf, temp*self.n_neg)\n",
    "            # update weights\n",
    "            layer.W -= l_delta*np.sign(layer.grad_W)\n",
    "            # update old gradient data with new values\n",
    "            l_g[True] = layer.grad_W"
   ]
  },
  {
   "cell_type": "code",
   "execution_count": 12,
   "metadata": {},
   "outputs": [],
   "source": [
    "class BFGS(OptimizeSolver):\n",
    "    def __init__(self, learn_rate=0.001):\n",
    "        super().__init__()\n",
    "        self.last_H = None\n",
    "        self.last_g = None\n",
    "        self.last_W = None\n",
    "        self.lr = learn_rate\n",
    "        \n",
    "    def set_network(self, network):\n",
    "        super().set_network(network)\n",
    "        self.set_weights()\n",
    "        \n",
    "    #init last values as zeros\n",
    "    def set_weights(self):\n",
    "        i = 0\n",
    "        for layer in self.graph:\n",
    "            i += layer.W.ravel().shape[0]\n",
    "        \n",
    "        self.last_W = np.random.random(i)\n",
    "        self.last_g = np.zeros(i)\n",
    "        self.last_H = np.eye(i)\n",
    "    \n",
    "    def __call__(self):\n",
    "        grad_W = np.zeros(self.last_g.shape[0])\n",
    "        W = np.zeros(self.last_W.shape[0])\n",
    "        # store all weights in one matrix:\n",
    "        n = 0\n",
    "        for layer in self.graph:\n",
    "            grad_W[n:n + layer.grad_W.ravel().shape[0]] = layer.grad_W.ravel()\n",
    "            W[n:n + layer.W.ravel().shape[0]] = layer.W.ravel()\n",
    "            n +=  layer.grad_W.ravel().shape[0]\n",
    "        # g(k) - g(k - 1)\n",
    "        y = grad_W - self.last_g\n",
    "        # x(k) - x(k - 1)\n",
    "        s = W - self.last_W\n",
    "        \n",
    "        p = 1.0/(y.dot(s))\n",
    "        \n",
    "        y = y.reshape(1, n)\n",
    "        s = s.reshape(1, n)\n",
    "        # compute H(k)\n",
    "        H = (np.eye(n) - p*s.reshape(n, 1).dot(y))\n",
    "        H = H.dot(self.last_H)\n",
    "        H = H.dot(np.eye(n) - p*y.reshape(n, 1).dot(s))\n",
    "        H += p*s.reshape(n, 1).dot(s)\n",
    "        # update last values \n",
    "        self.last_H = H\n",
    "        self.last_g = grad_W\n",
    "        self.last_W = W\n",
    "        # update weights vector\n",
    "        orr = -self.lr * H.dot(grad_W.reshape(n, 1)).ravel()\n",
    "        W = self.last_W + orr\n",
    "        # update weights in layers\n",
    "        n = 0\n",
    "        for layer in self.graph:\n",
    "            layer.W = W[n:n + layer.W.ravel().shape[0]].reshape(layer.W.shape)\n",
    "            n += layer.W.ravel().shape[0]"
   ]
  },
  {
   "cell_type": "code",
   "execution_count": 13,
   "metadata": {},
   "outputs": [],
   "source": [
    "class OutputLayer:\n",
    "    def __init__(self):\n",
    "        pass\n",
    "    def __call__(self, X):\n",
    "        pass\n",
    "    def loss_grad(self, X, Y):\n",
    "        pass\n",
    "    def loss(self, X, Y):\n",
    "        pass\n",
    "    def classify_task(self, X):\n",
    "        pass"
   ]
  },
  {
   "cell_type": "code",
   "execution_count": 14,
   "metadata": {},
   "outputs": [],
   "source": [
    "class Softmax_with_CrossEntropy(OutputLayer): \n",
    "    def __call__(self, X):\n",
    "        ans = np.exp(X)\n",
    "        ans /= ans.sum(axis = 1).reshape(ans.shape[0], 1)\n",
    "        return ans\n",
    "    \n",
    "    def loss(self, Y_out, Y_real):\n",
    "        # loss - (log(q_i)*y_i).sum\n",
    "        # we will take mean error for n examples\n",
    "        return (-Y_real*np.log(Y_out)).sum(axis=1).mean()\n",
    "    \n",
    "    def loss_grad(self, Y_out, Y_real):\n",
    "        return (Y_out - Y_real)\n",
    "    \n",
    "    def classify(self, X):\n",
    "        return (X == X.max(axis=1)[:,None]).astype(np.int8)\n",
    "    \n",
    "    def classify_task(self, X):\n",
    "        return (X  >= 0.5).astype(np.int8)"
   ]
  },
  {
   "cell_type": "code",
   "execution_count": 15,
   "metadata": {},
   "outputs": [],
   "source": [
    "class Linear_with_MSE(OutputLayer):\n",
    "    def __call__(self, X):\n",
    "        # nothing to change\n",
    "        return np.copy(X)\n",
    "    \n",
    "    def loss(self, Y_out, Y_real):\n",
    "        # we will take mean error for all axes \n",
    "        return ((Y_out - Y_real)**2.0).mean()\n",
    "    \n",
    "    def loss_grad(self, Y_out, Y_real):\n",
    "        return (Y_out - Y_real)\n",
    "    \n",
    "    def classify_task(self, X):\n",
    "        return (X  >= 0.5).astype(np.int8)"
   ]
  },
  {
   "cell_type": "markdown",
   "metadata": {},
   "source": [
    "**Нейронный слой**"
   ]
  },
  {
   "cell_type": "code",
   "execution_count": 16,
   "metadata": {},
   "outputs": [],
   "source": [
    "# Fully conncted Layer with biases\n",
    "class FullyConnectedLayer:\n",
    "    def __init__(self, neuros = 64, activation = Sigmoid()):\n",
    "        self.W = None\n",
    "        self.X = None\n",
    "        self.S = None\n",
    "        self.activ_f = activation\n",
    "        self.grad_W = None # current gradient for training\n",
    "        self.neuros = neuros\n",
    "    \n",
    "    # weights initializer\n",
    "    @staticmethod\n",
    "    def weights_random_init(shape, limits):\n",
    "        mult = limits[1] - limits[0]\n",
    "        return np.random.random(shape)*mult + limits[0]\n",
    "    \n",
    "    # w_diap - diapazon of weights in init, solver - gradient method\n",
    "    def compilation(self, prev_neuros, w_diap = (-5, 5)):\n",
    "        # init weight  by random (+ 1 for bias)\n",
    "        self.W = self.weights_random_init((prev_neuros + 1, self.neuros), w_diap)\n",
    "        \n",
    "        \n",
    "    # forward step - just multiply matrix and store result\n",
    "    def forward_step(self, X):\n",
    "        # add column of ones for bias weights\n",
    "        self.X = np.append(X, np.ones((X.shape[0], 1)), axis = 1)\n",
    "        # compute net(X) function\n",
    "        self.S = self.X.dot(self.W)\n",
    "        # output - activation(net(X))\n",
    "        return self.activ_f(self.S)\n",
    "    \n",
    "    # backward step - computes gradients of loss by each weights\n",
    "    def backward_step(self, L_grad):\n",
    "        L_grad *= self.activ_f.grad(self.S) # gradient from next layer\n",
    "        next_grad = L_grad.dot(self.W[:-1].T) # gradient for next layer\n",
    "        self.grad_W = np.zeros(self.W.shape) # init grad by (m, k) of 0.0\n",
    "        # (dL/dw) - sum (avg) by all input data\n",
    "        for i in range(self.X.shape[0]):\n",
    "            # X[i] - (1, m), (dL/ds) - (1, k) =>\n",
    "            # we need dot (m, 1) on (1, k) for get gradient by all weights of (m, k)\n",
    "            self.grad_W += \\\n",
    "                self.X[i].reshape(\n",
    "                    self.X.shape[1], 1\n",
    "                ).dot(L_grad[i].reshape(1, L_grad.shape[1]))\n",
    "        # self.opt_method(d_w) # update weights with some gradient optimize method\n",
    "        return next_grad # return grad by funtion of next layer (dL/df)\n",
    "    \n",
    "    # Magic methods:\n",
    "    def __str__(self):\n",
    "        return \"FullyConnected({})\".format(self.neuros)\n",
    "    \n",
    "    def __repr__(self):\n",
    "        return self.__str__()\n",
    "    \n",
    "    def __call__(self, X):\n",
    "        return self.forward_step(X)"
   ]
  },
  {
   "cell_type": "markdown",
   "metadata": {},
   "source": [
    "#### Нейронная сеть:"
   ]
  },
  {
   "cell_type": "code",
   "execution_count": 17,
   "metadata": {},
   "outputs": [],
   "source": [
    "class NeuralNetwork:\n",
    "    def __init__(self):\n",
    "        self.graph = []\n",
    "        self.solver = None\n",
    "        self.output = None\n",
    "    \n",
    "    #  add layer to model\n",
    "    def add(self, layer):\n",
    "        self.graph.append(layer)\n",
    "    \n",
    "    # compile sequential network\n",
    "    def compilation(self, solver, out_layer, data_dim):\n",
    "        # data_dim - dimention of input vectors\n",
    "        prev_neuros = data_dim\n",
    "        # for each layer define Weights\n",
    "        for layer in self.graph:\n",
    "            layer.compilation(prev_neuros)\n",
    "            prev_neuros = layer.neuros\n",
    "        # set loss funstion with solver\n",
    "        self.output = out_layer\n",
    "        solver.set_network(self.graph) #init solver data\n",
    "        self.solver = solver # set solver\n",
    "    \n",
    "    # train network\n",
    "    def fit(self, X, Y, X_val=None, Y_val=None, steps=600, batch_size=1):\n",
    "        hist = []\n",
    "        # compute history if validation data exist\n",
    "        if X_val is None and Y_val is None:\n",
    "            hist = None \n",
    "        # reshape Y\n",
    "        if len(Y.shape) == 1:\n",
    "            Y = np.reshape(Y, (Y.shape[0], 1))\n",
    "        # itterative weights updating\n",
    "        for _ in tqdm(range(steps)):\n",
    "            # for each batch in data do pass train pass in model\n",
    "            for i in range(0, X.shape[0] - batch_size + 1, batch_size):\n",
    "                # extract batch (X, Y)\n",
    "                X_pass = X[i: i + batch_size]\n",
    "                Y_pass = Y[i: i + batch_size]\n",
    "                # do forward pass which compute intermideate values for update\n",
    "                Y_out = self.forward_pass(X_pass)\n",
    "                # compute gradient of last output\n",
    "                Y_grad = self.output.loss_grad(Y_out, Y_pass)\n",
    "                # compuite gradients for each layer in graph\n",
    "                self.backward_pass(Y_grad)\n",
    "                # solver has graph, call will update weights of layers\n",
    "                self.solver()\n",
    "            # append val loss to history if exist\n",
    "            if hist is not None:\n",
    "                hist.append(self.loss(X_val, Y_val))\n",
    "        # return history of train\n",
    "        return hist\n",
    "    \n",
    "    # forward pass - just matrix mults from start to end\n",
    "    def forward_pass(self, X_pass):\n",
    "        X_pass = np.copy(X_pass)\n",
    "        for layer in self.graph:\n",
    "            X_pass = layer(X_pass)\n",
    "        \n",
    "        return self.output(X_pass)\n",
    "    \n",
    "    # backward pass - backdirection move, which computes derivatives for layers\n",
    "    def backward_pass(self, Y_grad):\n",
    "        # getback direction\n",
    "        back_direction = reversed(self.graph)\n",
    "        for layer in back_direction:\n",
    "            # compute gradient for next layer\n",
    "            Y_grad = layer.backward_step(Y_grad)\n",
    "            \n",
    "    def classify(self, X):\n",
    "        return self.output.classify(self(X))\n",
    "    \n",
    "    def classify_task(self, X):\n",
    "        return self.output.classify_task(self(X))\n",
    "    \n",
    "    def loss(self, X, Y):\n",
    "        return self.output.loss(self(X), Y)\n",
    "            \n",
    "    def __call__(self, X):\n",
    "        if len(X.shape) == 1:\n",
    "            X = X.reshape(1, X.shape[0])\n",
    "        return self.forward_pass(X)\n",
    "    \n",
    "    def __str__(self):\n",
    "        return \"Neural Network\"\n",
    "    \n",
    "    def __repr__(self):\n",
    "        return self.__str__()"
   ]
  },
  {
   "cell_type": "markdown",
   "metadata": {},
   "source": [
    "### Решение"
   ]
  },
  {
   "cell_type": "markdown",
   "metadata": {},
   "source": [
    "***Этап №1***"
   ]
  },
  {
   "cell_type": "markdown",
   "metadata": {},
   "source": [
    "Сгенерируем входную последовательность на основе заднного интервала и шага, а также перемешаем её:"
   ]
  },
  {
   "cell_type": "code",
   "execution_count": 18,
   "metadata": {},
   "outputs": [],
   "source": [
    "def gen_line(a, b, alpha):\n",
    "    points = rotate_coords(*elipsis(a, b), alpha)\n",
    "    x = np.reshape(points[0], (points[0].shape[0], 1))\n",
    "    y = np.reshape(points[1], (points[1].shape[0], 1))\n",
    "    return np.hstack((x, y))\n",
    "\n",
    "def create_dataset_classify(*args):\n",
    "    tmp = np.zeros(len(args))\n",
    "    tmp[0] = 1.0\n",
    "    X = args[0]\n",
    "    Y = np.zeros((X.shape[0], len(args)))\n",
    "    Y[:] = tmp\n",
    "    for i in range(1, len(args)):\n",
    "        tmp[i - 1], tmp[i] = 0.0, 1.0\n",
    "        X_cls = args[i]\n",
    "        Y_cls = np.zeros((X_cls.shape[0], len(args)))\n",
    "        Y_cls[:] = tmp\n",
    "        X = np.append(X, X_cls, axis=0)\n",
    "        Y = np.append(Y, Y_cls, axis=0)\n",
    "    permut = permutation(len(X))\n",
    "    return X[permut], Y[permut]\n",
    "\n",
    "def assimetric_dataset_classify(data, nums):\n",
    "    tmp = np.zeros(len(data))\n",
    "    tmp[0] = 1.0\n",
    "    permut = permutation(data[0].shape[0])[:nums[0]]\n",
    "    X = data[0][permut]\n",
    "    Y = np.zeros((len(permut), len(data)))\n",
    "    Y[:] = tmp\n",
    "    for i in range(1, len(data)):\n",
    "        tmp[i - 1], tmp[i] = 0.0, 1.0\n",
    "        permut = permutation(data[i].shape[0])[:nums[i]]\n",
    "        X_cls = data[i][permut]\n",
    "        Y_cls = np.zeros((len(permut), len(data)))\n",
    "        Y_cls[:] = tmp\n",
    "        X = np.append(X, X_cls, axis=0)\n",
    "        Y = np.append(Y, Y_cls, axis=0)\n",
    "    permut = permutation(len(X))\n",
    "    return X[permut], Y[permut]"
   ]
  },
  {
   "cell_type": "code",
   "execution_count": 19,
   "metadata": {},
   "outputs": [],
   "source": [
    "cls1 = gen_line(a1, b1, alpha1)\n",
    "cls2 = gen_line(a2, b2, alpha2)\n",
    "cls3 = gen_line(a3, b3, alpha3)\n",
    "X, Y = assimetric_dataset_classify((cls1, cls2, cls3), (60, 100, 120))"
   ]
  },
  {
   "cell_type": "markdown",
   "metadata": {},
   "source": [
    "Разделим множество на обучающее, контрольное, тестовое:"
   ]
  },
  {
   "cell_type": "code",
   "execution_count": 20,
   "metadata": {},
   "outputs": [],
   "source": [
    "train_p = 0.7\n",
    "valid_p = 0.2\n",
    "test_p = 0.1"
   ]
  },
  {
   "cell_type": "code",
   "execution_count": 21,
   "metadata": {},
   "outputs": [],
   "source": [
    "size_train = int(train_p * X.shape[0])\n",
    "bound_valid = size_train + int(valid_p * X.shape[0])\n",
    "\n",
    "X_train, Y_train = X[:size_train], Y[:size_train]\n",
    "X_valid, Y_valid = X[size_train:bound_valid], Y[size_train:bound_valid]\n",
    "X_test, Y_test = X[bound_valid:], Y[bound_valid:]"
   ]
  },
  {
   "cell_type": "markdown",
   "metadata": {},
   "source": [
    "Функция для отрисовки данных:"
   ]
  },
  {
   "cell_type": "code",
   "execution_count": 22,
   "metadata": {},
   "outputs": [],
   "source": [
    "def plot_data(set_X, set_Y):\n",
    "    plt.figure(figsize=(16, 10))\n",
    "    tmp_x = list(set_X)\n",
    "    tmp_y = list(set_Y)\n",
    "    markers = ['.', 's', '^']\n",
    "    texts = [\"Train\", \"Test\", \"Validation\"]\n",
    "\n",
    "    for x, y, m, t in zip(tmp_x, tmp_y, markers, texts):\n",
    "        x_1 = x[y[:, 0] == 1]\n",
    "        x_2 = x[y[:, 1] == 1]\n",
    "        x_3 = x[y[:, 2] == 1]\n",
    "        plt.scatter(x_1.T[0], x_1.T[1], marker=m, color='b', linewidths=2, label=t)\n",
    "        plt.scatter(x_2.T[0], x_2.T[1], marker=m, color='g', linewidths=2)   \n",
    "        plt.scatter(x_3.T[0], x_3.T[1], marker=m, color='r', linewidths=2) \n",
    "        \n",
    "    plt.legend()\n",
    "    plt.title(\"Данные\")"
   ]
  },
  {
   "cell_type": "markdown",
   "metadata": {},
   "source": [
    "Отрисуем полученные множества:"
   ]
  },
  {
   "cell_type": "code",
   "execution_count": 23,
   "metadata": {},
   "outputs": [
    {
     "data": {
      "image/png": "[encoded data removed]",
      "text/plain": [
       "<Figure size 1152x720 with 1 Axes>"
      ]
     },
     "metadata": {
      "needs_background": "light"
     },
     "output_type": "display_data"
    }
   ],
   "source": [
    "plot_data([X_train, X_test, X_valid], [Y_train, Y_test, Y_valid])"
   ]
  },
  {
   "cell_type": "markdown",
   "metadata": {},
   "source": [
    "Функция для отрисовки классификации на тестовых данных:"
   ]
  },
  {
   "cell_type": "code",
   "execution_count": 24,
   "metadata": {},
   "outputs": [],
   "source": [
    "def plot_test_classify(X, Y, X_test, Y_out):\n",
    "    plt.figure(figsize=(15, 9))\n",
    "\n",
    "    x_1 = X_test[Y_out[:, 0] == 1]\n",
    "    x_2 = X_test[Y_out[:, 1] == 1]\n",
    "    x_3 = X_test[Y_out[:, 2] == 1]\n",
    "    x_4 = X_test[(Y_out[:, 0] == 0) & (Y_out[:, 1] == 0) & (Y_out[:, 2] == 0)]\n",
    "    plt.scatter(x_1.T[0], x_1.T[1], color='b', linewidths=2, label=\"Predicted\")\n",
    "    plt.scatter(x_2.T[0], x_2.T[1], color='g', linewidths=2)   \n",
    "    plt.scatter(x_3.T[0], x_3.T[1], color='r', linewidths=2)\n",
    "    plt.scatter(x_4.T[0], x_4.T[1], marker='^', color='black', linewidths=2, label=\"Not predicted\")\n",
    "\n",
    "\n",
    "    x_1 = X[Y[:, 0] == 1]\n",
    "    x_2 = X[Y[:, 1] == 1]\n",
    "    x_3 = X[Y[:, 2] == 1]\n",
    "    plt.scatter(x_1.T[0], x_1.T[1], color='b', s=2, label=\"Real\")\n",
    "    plt.scatter(x_2.T[0], x_2.T[1], color='g', s=2)   \n",
    "    plt.scatter(x_3.T[0], x_3.T[1], color='r', s=2) \n",
    "\n",
    "    plt.legend()\n",
    "    plt.title(\"Результат классификации\")"
   ]
  },
  {
   "cell_type": "markdown",
   "metadata": {},
   "source": [
    "Функция отрисовки процесса обучения по шагам:"
   ]
  },
  {
   "cell_type": "code",
   "execution_count": 25,
   "metadata": {},
   "outputs": [],
   "source": [
    "def plot_history(hist):\n",
    "    plt.figure(figsize=(15, 7))\n",
    "    plt.plot(np.arange(len(hist)), hist, label=\"Validation error\")\n",
    "    plt.xlabel(\"step\")\n",
    "    plt.ylabel(\"MSE\")\n",
    "    plt.title(\"Функция потерь при обучении\")\n",
    "    plt.grid()\n",
    "    plt.legend()"
   ]
  },
  {
   "cell_type": "markdown",
   "metadata": {},
   "source": [
    "Функция классификации и отрисовки результата на заданном прямоуголькнике с 3 классами:\n"
   ]
  },
  {
   "cell_type": "markdown",
   "metadata": {},
   "source": [
    "***Вариант №1:***"
   ]
  },
  {
   "cell_type": "markdown",
   "metadata": {},
   "source": [
    "Создадим и скомпилируем нейронную сеть из 2-ух слоев с оптимизатором *Resilient Propogation* и обучим ее классифицировать объекты на тренировочных данных. Выход сети - *Sigmoid*, функция потерь - *MSE*."
   ]
  },
  {
   "cell_type": "code",
   "execution_count": 26,
   "metadata": {},
   "outputs": [
    {
     "name": "stderr",
     "output_type": "stream",
     "text": [
      "100%|█████████████████████████████████████████████████████████████████████████████████| 40/40 [00:00<00:00, 549.41it/s]\n"
     ]
    }
   ],
   "source": [
    "model = NeuralNetwork()\n",
    "model.add(FullyConnectedLayer(neuros=20, activation=Sigmoid()))\n",
    "model.add(FullyConnectedLayer(neuros=3, activation=Sigmoid()))\n",
    "\n",
    "model.compilation(solver=RProp(), out_layer=Linear_with_MSE(), data_dim=2)\n",
    "hist = model.fit(X_train, Y_train, X_valid, Y_valid, 40, X_train.shape[0])"
   ]
  },
  {
   "cell_type": "code",
   "execution_count": 27,
   "metadata": {},
   "outputs": [
    {
     "data": {
      "image/png": "[encoded data removed]",
      "text/plain": [
       "<Figure size 1080x504 with 1 Axes>"
      ]
     },
     "metadata": {
      "needs_background": "light"
     },
     "output_type": "display_data"
    }
   ],
   "source": [
    "plot_history(hist)"
   ]
  },
  {
   "cell_type": "code",
   "execution_count": 28,
   "metadata": {},
   "outputs": [
    {
     "name": "stdout",
     "output_type": "stream",
     "text": [
      "Ошибка на тестовой выборке: 0.03949684834196362\n"
     ]
    }
   ],
   "source": [
    "Y_out = model.classify_task(X_test)\n",
    "print(\"Ошибка на тестовой выборке:\", model.loss(X_test, Y_test))"
   ]
  },
  {
   "cell_type": "code",
   "execution_count": 29,
   "metadata": {},
   "outputs": [
    {
     "data": {
      "image/png": "[encoded data removed]",
      "text/plain": [
       "<Figure size 1080x648 with 1 Axes>"
      ]
     },
     "metadata": {
      "needs_background": "light"
     },
     "output_type": "display_data"
    }
   ],
   "source": [
    "plot_test_classify(X, Y, X_test, Y_out)"
   ]
  },
  {
   "cell_type": "markdown",
   "metadata": {},
   "source": [
    "***Вариант №2:***"
   ]
  },
  {
   "cell_type": "markdown",
   "metadata": {},
   "source": [
    "Создадим и скомпилируем нейронную сеть из 2-ух слоев с оптимизатором *Resilient Propogation* и обучим ее классифицировать объекты на тренировочных данных. Выход сети - *Softmax*, функция потерь - *Cross Entropy*."
   ]
  },
  {
   "cell_type": "code",
   "execution_count": 30,
   "metadata": {},
   "outputs": [
    {
     "name": "stderr",
     "output_type": "stream",
     "text": [
      "100%|█████████████████████████████████████████████████████████████████████████████████| 40/40 [00:00<00:00, 572.97it/s]\n"
     ]
    }
   ],
   "source": [
    "model = NeuralNetwork()\n",
    "model.add(FullyConnectedLayer(neuros=20, activation=Tansig()))\n",
    "model.add(FullyConnectedLayer(neuros=3, activation=Purelin())) # for softmax use linear output\n",
    "\n",
    "model.compilation(solver=RProp(), out_layer=Softmax_with_CrossEntropy(), data_dim=2)\n",
    "hist = model.fit(X_train, Y_train, X_valid, Y_valid, 40, X_train.shape[0])"
   ]
  },
  {
   "cell_type": "code",
   "execution_count": 31,
   "metadata": {},
   "outputs": [
    {
     "data": {
      "image/png": "[encoded data removed]",
      "text/plain": [
       "<Figure size 1080x504 with 1 Axes>"
      ]
     },
     "metadata": {
      "needs_background": "light"
     },
     "output_type": "display_data"
    }
   ],
   "source": [
    "plot_history(hist)"
   ]
  },
  {
   "cell_type": "code",
   "execution_count": 32,
   "metadata": {},
   "outputs": [
    {
     "name": "stdout",
     "output_type": "stream",
     "text": [
      "Ошибка на тестовой выборке: 0.031473495017267025\n"
     ]
    }
   ],
   "source": [
    "Y_out = model.classify_task(X_test)\n",
    "print(\"Ошибка на тестовой выборке:\", model.loss(X_test, Y_test))"
   ]
  },
  {
   "cell_type": "markdown",
   "metadata": {},
   "source": [
    "***Этапы №2-3***"
   ]
  },
  {
   "cell_type": "code",
   "execution_count": 33,
   "metadata": {},
   "outputs": [],
   "source": [
    "interval = (0, 3.5)\n",
    "step_h = 0.01"
   ]
  },
  {
   "cell_type": "code",
   "execution_count": 34,
   "metadata": {},
   "outputs": [],
   "source": [
    "def func_t(t):\n",
    "    return np.sin(np.sin(t)*t*t + 5*t)"
   ]
  },
  {
   "cell_type": "markdown",
   "metadata": {},
   "source": [
    "Сгенерируем и перемешаем входную последовательность на основе заднного интервала и шага:"
   ]
  },
  {
   "cell_type": "code",
   "execution_count": 35,
   "metadata": {},
   "outputs": [],
   "source": [
    "x = np.arange(*interval, step_h)\n",
    "y = func_t(x)\n",
    "\n",
    "permut = permutation(len(x))\n",
    "x, y = x[permut].reshape(x.shape[0], 1), y[permut].reshape(y.shape[0], 1)"
   ]
  },
  {
   "cell_type": "markdown",
   "metadata": {},
   "source": [
    "Разделим выборку на обучающую и контрольную:"
   ]
  },
  {
   "cell_type": "code",
   "execution_count": 36,
   "metadata": {},
   "outputs": [],
   "source": [
    "train_p = 0.9\n",
    "valid_p = 0.1"
   ]
  },
  {
   "cell_type": "code",
   "execution_count": 37,
   "metadata": {},
   "outputs": [],
   "source": [
    "size_train = int(train_p * x.shape[0])\n",
    "\n",
    "X_train, Y_train = x[:size_train], y[:size_train]\n",
    "X_valid, Y_valid = x[size_train:], y[size_train:]"
   ]
  },
  {
   "cell_type": "markdown",
   "metadata": {},
   "source": [
    "Зададим две нейронных сети, каждая из которых будет иметь по два слоя. Перввая будет в качестве решателя использовать `градиентный спуск`, а вторая `метод, предложенный Бройденом, Флетчером, Гольдфарбом и Шанно`. В качестве выхода будет использоваться *линейная функция активации* с функцией потерь - *MSE*."
   ]
  },
  {
   "cell_type": "code",
   "execution_count": 38,
   "metadata": {},
   "outputs": [],
   "source": [
    "model1 = NeuralNetwork()\n",
    "model1.add(FullyConnectedLayer(neuros=10, activation=Tansig()))\n",
    "model1.add(FullyConnectedLayer(neuros=1, activation=Purelin()))\n",
    "model1.compilation(solver=GradientDescent(learn_rate=0.00005), out_layer=Linear_with_MSE(), data_dim=1)\n",
    "\n",
    "model2 = NeuralNetwork()\n",
    "model2.add(FullyConnectedLayer(neuros=10, activation=Tansig()))\n",
    "model2.add(FullyConnectedLayer(neuros=1, activation=Purelin()))\n",
    "model2.compilation(solver=BFGS(learn_rate=0.000005), out_layer=Linear_with_MSE(), data_dim=1)"
   ]
  },
  {
   "cell_type": "markdown",
   "metadata": {},
   "source": [
    "Обучение сетей."
   ]
  },
  {
   "cell_type": "code",
   "execution_count": 39,
   "metadata": {},
   "outputs": [
    {
     "name": "stderr",
     "output_type": "stream",
     "text": [
      "100%|█████████████████████████████████████████████████████████████████████████████| 3000/3000 [00:06<00:00, 487.20it/s]\n"
     ]
    },
    {
     "data": {
      "image/png": "[encoded data removed]",
      "text/plain": [
       "<Figure size 1080x504 with 1 Axes>"
      ]
     },
     "metadata": {
      "needs_background": "light"
     },
     "output_type": "display_data"
    }
   ],
   "source": [
    "hist = model1.fit(X_train, Y_train, X_valid, Y_valid, 3000, X_train.shape[0])\n",
    "plot_history(hist)"
   ]
  },
  {
   "cell_type": "code",
   "execution_count": 40,
   "metadata": {},
   "outputs": [
    {
     "name": "stderr",
     "output_type": "stream",
     "text": [
      "100%|███████████████████████████████████████████████████████████████████████████████| 100/100 [00:00<00:00, 463.12it/s]\n"
     ]
    },
    {
     "data": {
      "image/png": "[encoded data removed]",
      "text/plain": [
       "<Figure size 1080x504 with 1 Axes>"
      ]
     },
     "metadata": {
      "needs_background": "light"
     },
     "output_type": "display_data"
    }
   ],
   "source": [
    "hist = model2.fit(X_train, Y_train, X_valid, Y_valid, 100, X_train.shape[0])\n",
    "plot_history(hist)"
   ]
  },
  {
   "cell_type": "markdown",
   "metadata": {},
   "source": [
    "Результаты обучения:"
   ]
  },
  {
   "cell_type": "code",
   "execution_count": 41,
   "metadata": {},
   "outputs": [],
   "source": [
    "Y_gd_train = model1(X_train)\n",
    "Y_gd_valid = model1(X_valid)\n",
    "\n",
    "Y_bfgs_train = model2(X_train)\n",
    "Y_bfgs_valid = model2(X_valid)"
   ]
  },
  {
   "cell_type": "code",
   "execution_count": 42,
   "metadata": {},
   "outputs": [
    {
     "name": "stdout",
     "output_type": "stream",
     "text": [
      "Ошибка обучения градиентного спуска: 0.4029798836902672\n",
      "Ошибка обучения BFGS: 2776.762361833322\n"
     ]
    },
    {
     "data": {
      "image/png": "[encoded data removed]",
      "text/plain": [
       "<Figure size 1080x576 with 1 Axes>"
      ]
     },
     "metadata": {
      "needs_background": "light"
     },
     "output_type": "display_data"
    }
   ],
   "source": [
    "plt.figure(figsize=(15, 8))\n",
    "plt.scatter(X_train, Y_train, s=1.5, label='Real function')\n",
    "plt.scatter(X_train, Y_gd_train, s=1.5, label='Gradient Descent', color='red')\n",
    "plt.scatter(X_train, Y_bfgs_train, s=1.5, label='BFGS')\n",
    "plt.legend()\n",
    "plt.title(\"Результат на тренировочных данных\")\n",
    "\n",
    "print(\"Ошибка обучения градиентного спуска:\", model1.loss(X_train, Y_train))\n",
    "print(\"Ошибка обучения BFGS:\", model2.loss(X_train, Y_train))"
   ]
  },
  {
   "cell_type": "code",
   "execution_count": 43,
   "metadata": {},
   "outputs": [
    {
     "name": "stdout",
     "output_type": "stream",
     "text": [
      "Ошибка обучения градиентного спуска: 0.5007405707857506\n",
      "Ошибка обучения BFGS: 2700.2950682987025\n"
     ]
    },
    {
     "data": {
      "image/png": "[encoded data removed]",
      "text/plain": [
       "<Figure size 1080x576 with 1 Axes>"
      ]
     },
     "metadata": {
      "needs_background": "light"
     },
     "output_type": "display_data"
    }
   ],
   "source": [
    "plt.figure(figsize=(15, 8))\n",
    "plt.scatter(X_valid, Y_valid, s=6, label='Real function')\n",
    "plt.scatter(X_valid, Y_gd_valid, s=6, label='Gradient Descent', color='red')\n",
    "plt.scatter(X_valid, Y_bfgs_valid, s=6, label='BFGS')\n",
    "plt.legend()\n",
    "plt.title(\"Результат на валидационных данных\")\n",
    "\n",
    "print(\"Ошибка обучения градиентного спуска:\", model1.loss(X_valid, Y_valid))\n",
    "print(\"Ошибка обучения BFGS:\", model2.loss(X_valid, Y_valid))"
   ]
  }
 ],
 "metadata": {
  "kernelspec": {
   "display_name": "Python 3 (ipykernel)",
   "language": "python",
   "name": "python3"
  },
  "language_info": {
   "codemirror_mode": {
    "name": "ipython",
    "version": 3
   },
   "file_extension": ".py",
   "mimetype": "text/x-python",
   "name": "python",
   "nbconvert_exporter": "python",
   "pygments_lexer": "ipython3",
   "version": "3.7.2rc1"
  }
 },
 "nbformat": 4,
 "nbformat_minor": 4
}
