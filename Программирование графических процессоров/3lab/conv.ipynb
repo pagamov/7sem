{
 "cells": [
  {
   "cell_type": "code",
   "execution_count": 19,
   "id": "34a6d299-2862-4a63-8333-fe8c275eb7c9",
   "metadata": {},
   "outputs": [],
   "source": [
    "import argparse\n",
    "from random import randint\n",
    "from PIL import Image\n",
    "import numpy as np"
   ]
  },
  {
   "cell_type": "code",
   "execution_count": 3,
   "id": "70a8bcd9-9c47-40cb-b253-9b9c3e243d13",
   "metadata": {
    "jupyter": {
     "source_hidden": true
    },
    "tags": []
   },
   "outputs": [],
   "source": [
    "def image_to_bin(src, dest):\n",
    "    res = b''\n",
    "    with Image.open(src) as img:\n",
    "        w, h = map(lambda x: x.to_bytes(4, byteorder='little'), img.size)\n",
    "        res += w + h\n",
    "\n",
    "        for pixel in img.convert('RGBA').getdata():\n",
    "            r, g, b, alpha = map(lambda x: x.to_bytes(1, byteorder='little'), pixel)\n",
    "            res += r + g + b + alpha\n",
    "\n",
    "    with open(dest, 'wb') as f:\n",
    "        f.write(res)"
   ]
  },
  {
   "cell_type": "code",
   "execution_count": 5,
   "id": "86f2bf1f-d46c-4cd6-b44e-6041e614e768",
   "metadata": {
    "jupyter": {
     "source_hidden": true
    },
    "tags": []
   },
   "outputs": [],
   "source": [
    "def bin_to_image(src, dest):\n",
    "    with open(src, 'rb') as f:\n",
    "        arr = f.read()\n",
    "    w = int.from_bytes(arr[:4], byteorder='little')\n",
    "    h = int.from_bytes(arr[4:8], byteorder='little')\n",
    "    img = Image.frombytes('RGBA', (w, h), arr[8:], 'raw')\n",
    "    img.save(dest, 'PNG')"
   ]
  },
  {
   "cell_type": "code",
   "execution_count": 12,
   "id": "888a9d6b-3bbe-4460-90ad-61a86733707c",
   "metadata": {},
   "outputs": [],
   "source": [
    "cur = [{'x':randint(0,255),'y':randint(0,255),'z':randint(0,255)} for i in range(32)]"
   ]
  },
  {
   "cell_type": "code",
   "execution_count": 15,
   "id": "c8b7a44e-e2c7-4c2a-9c5b-558b234f3456",
   "metadata": {},
   "outputs": [],
   "source": [
    "def dist(a,b):\n",
    "    dist = (a['x'] - b['x'])**2 + (a['y'] - b['y'])**2 + (a['z'] - b['z'])**2\n",
    "    return dist**0.5"
   ]
  },
  {
   "cell_type": "code",
   "execution_count": null,
   "id": "cd015eb4-f9a9-46b2-b687-e6dac02fef62",
   "metadata": {},
   "outputs": [],
   "source": [
    "with Image.open(\"photo1.jpg\") as img:\n",
    "    im = np.asarray(img.convert('RGBA').getdata())\n",
    "    \n",
    "    for pixel in im:\n",
    "        resClas = -1;\n",
    "        maxDist = 10000;\n",
    "        for cl in range(32):\n",
    "            pivDist = dist(cur[cl],{'x':pixel[0],'y':pixel[1],'z':pixel[2]})\n",
    "            if pivDist < maxDist:\n",
    "                resClas = cl\n",
    "                maxDist = pivDist\n",
    "        pixel[3] = cl\n",
    "        "
   ]
  },
  {
   "cell_type": "code",
   "execution_count": null,
   "id": "56fe4bc6-a4a7-4eb6-945d-8008e82d280d",
   "metadata": {},
   "outputs": [],
   "source": [
    "with Image.open(\"photo1.jpg\") as img:\n",
    "    a = np.asarray(img.convert('RGBA').getdata())\n",
    "a[0]"
   ]
  },
  {
   "cell_type": "code",
   "execution_count": null,
   "id": "4fb573f9-1895-4a98-96ed-2fc31a77a66e",
   "metadata": {},
   "outputs": [],
   "source": []
  }
 ],
 "metadata": {
  "kernelspec": {
   "display_name": "Python 3 (ipykernel)",
   "language": "python",
   "name": "python3"
  },
  "language_info": {
   "codemirror_mode": {
    "name": "ipython",
    "version": 3
   },
   "file_extension": ".py",
   "mimetype": "text/x-python",
   "name": "python",
   "nbconvert_exporter": "python",
   "pygments_lexer": "ipython3",
   "version": "3.7.2rc1"
  }
 },
 "nbformat": 4,
 "nbformat_minor": 5
}
