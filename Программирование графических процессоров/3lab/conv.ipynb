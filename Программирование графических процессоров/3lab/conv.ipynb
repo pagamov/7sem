{
 "cells": [
  {
   "cell_type": "code",
   "execution_count": 1,
   "id": "34a6d299-2862-4a63-8333-fe8c275eb7c9",
   "metadata": {},
   "outputs": [],
   "source": [
    "import sys\n",
    "import struct\n",
    "from PIL import Image\n",
    "import ctypes"
   ]
  },
  {
   "cell_type": "code",
   "execution_count": 21,
   "id": "70a8bcd9-9c47-40cb-b253-9b9c3e243d13",
   "metadata": {},
   "outputs": [],
   "source": [
    "def from_img(src, dst):\n",
    "\timg = Image.open(src)\n",
    "\t(w, h) = img.size[0:2]\n",
    "\tpix = img.load()\n",
    "\tbuff = ctypes.create_string_buffer(4 * w * h)\n",
    "\toffset = 0\n",
    "\tfor j in range(h):\n",
    "\t\tfor i in range(w):\n",
    "\t\t\tr = chr(pix[i, j][0])\n",
    "\t\t\tg = chr(pix[i, j][1])\n",
    "\t\t\tb = chr(pix[i, j][2])\n",
    "\t\t\tstruct.pack_into('cccc', buff, offset, r, g, b, '\\0')\n",
    "\t\t\toffset += 4;\n",
    "\tout = open(dst, 'wb')\n",
    "\tout.write(struct.pack('ii', w, h))\n",
    "\tout.write(buff.raw)\n",
    "\tout.close()"
   ]
  },
  {
   "cell_type": "code",
   "execution_count": 22,
   "id": "753aa695-1d83-4e6c-855b-ea734b2e8c2a",
   "metadata": {},
   "outputs": [
    {
     "ename": "error",
     "evalue": "char format requires a bytes object of length 1",
     "output_type": "error",
     "traceback": [
      "\u001b[0;31m---------------------------------------------------------------------------\u001b[0m",
      "\u001b[0;31merror\u001b[0m                                     Traceback (most recent call last)",
      "\u001b[0;32m/var/folders/cy/d5k9cd4x21d3hhd6p2xgg9sw0000gn/T/ipykernel_37364/3915470236.py\u001b[0m in \u001b[0;36m<module>\u001b[0;34m\u001b[0m\n\u001b[0;32m----> 1\u001b[0;31m \u001b[0mfrom_img\u001b[0m\u001b[0;34m(\u001b[0m\u001b[0;34m'photo1.jpg'\u001b[0m\u001b[0;34m,\u001b[0m \u001b[0;34m\"data1.data\"\u001b[0m\u001b[0;34m)\u001b[0m\u001b[0;34m\u001b[0m\u001b[0;34m\u001b[0m\u001b[0m\n\u001b[0m",
      "\u001b[0;32m/var/folders/cy/d5k9cd4x21d3hhd6p2xgg9sw0000gn/T/ipykernel_37364/3370076523.py\u001b[0m in \u001b[0;36mfrom_img\u001b[0;34m(src, dst)\u001b[0m\n\u001b[1;32m     10\u001b[0m                         \u001b[0mg\u001b[0m \u001b[0;34m=\u001b[0m \u001b[0mchr\u001b[0m\u001b[0;34m(\u001b[0m\u001b[0mpix\u001b[0m\u001b[0;34m[\u001b[0m\u001b[0mi\u001b[0m\u001b[0;34m,\u001b[0m \u001b[0mj\u001b[0m\u001b[0;34m]\u001b[0m\u001b[0;34m[\u001b[0m\u001b[0;36m1\u001b[0m\u001b[0;34m]\u001b[0m\u001b[0;34m)\u001b[0m\u001b[0;34m\u001b[0m\u001b[0;34m\u001b[0m\u001b[0m\n\u001b[1;32m     11\u001b[0m                         \u001b[0mb\u001b[0m \u001b[0;34m=\u001b[0m \u001b[0mchr\u001b[0m\u001b[0;34m(\u001b[0m\u001b[0mpix\u001b[0m\u001b[0;34m[\u001b[0m\u001b[0mi\u001b[0m\u001b[0;34m,\u001b[0m \u001b[0mj\u001b[0m\u001b[0;34m]\u001b[0m\u001b[0;34m[\u001b[0m\u001b[0;36m2\u001b[0m\u001b[0;34m]\u001b[0m\u001b[0;34m)\u001b[0m\u001b[0;34m\u001b[0m\u001b[0;34m\u001b[0m\u001b[0m\n\u001b[0;32m---> 12\u001b[0;31m                         \u001b[0mstruct\u001b[0m\u001b[0;34m.\u001b[0m\u001b[0mpack_into\u001b[0m\u001b[0;34m(\u001b[0m\u001b[0;34m'cccc'\u001b[0m\u001b[0;34m,\u001b[0m \u001b[0mbuff\u001b[0m\u001b[0;34m,\u001b[0m \u001b[0moffset\u001b[0m\u001b[0;34m,\u001b[0m \u001b[0mr\u001b[0m\u001b[0;34m,\u001b[0m \u001b[0mg\u001b[0m\u001b[0;34m,\u001b[0m \u001b[0mb\u001b[0m\u001b[0;34m,\u001b[0m \u001b[0;34m'\\0'\u001b[0m\u001b[0;34m)\u001b[0m\u001b[0;34m\u001b[0m\u001b[0;34m\u001b[0m\u001b[0m\n\u001b[0m\u001b[1;32m     13\u001b[0m                         \u001b[0moffset\u001b[0m \u001b[0;34m+=\u001b[0m \u001b[0;36m4\u001b[0m\u001b[0;34m;\u001b[0m\u001b[0;34m\u001b[0m\u001b[0;34m\u001b[0m\u001b[0m\n\u001b[1;32m     14\u001b[0m         \u001b[0mout\u001b[0m \u001b[0;34m=\u001b[0m \u001b[0mopen\u001b[0m\u001b[0;34m(\u001b[0m\u001b[0mdst\u001b[0m\u001b[0;34m,\u001b[0m \u001b[0;34m'wb'\u001b[0m\u001b[0;34m)\u001b[0m\u001b[0;34m\u001b[0m\u001b[0;34m\u001b[0m\u001b[0m\n",
      "\u001b[0;31merror\u001b[0m: char format requires a bytes object of length 1"
     ]
    }
   ],
   "source": [
    "from_img('photo1.jpg', \"data1.data\")"
   ]
  },
  {
   "cell_type": "code",
   "execution_count": null,
   "id": "cd015eb4-f9a9-46b2-b687-e6dac02fef62",
   "metadata": {},
   "outputs": [],
   "source": []
  }
 ],
 "metadata": {
  "kernelspec": {
   "display_name": "Python 3 (ipykernel)",
   "language": "python",
   "name": "python3"
  },
  "language_info": {
   "codemirror_mode": {
    "name": "ipython",
    "version": 3
   },
   "file_extension": ".py",
   "mimetype": "text/x-python",
   "name": "python",
   "nbconvert_exporter": "python",
   "pygments_lexer": "ipython3",
   "version": "3.9.1"
  }
 },
 "nbformat": 4,
 "nbformat_minor": 5
}
